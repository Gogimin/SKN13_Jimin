{
 "cells": [
  {
   "cell_type": "markdown",
   "id": "da193321",
   "metadata": {
    "jp-MarkdownHeadingCollapsed": true,
    "slideshow": {
     "slide_type": "slide"
    }
   },
   "source": [
    "# 자료구조란\n",
    "\n",
    "-   **여러 개의 값들을 모아서 관리**하는 데이터 타입.\n",
    "    -   한 개의 변수는 한 개의 값 밖에는 가지지 못한다. 그러나 하나의 변수로 여러 개의 값 관리해야 할 경우가 있다.\n",
    "    -   하나의 값이 여러개의 값들로 구성된 경우\n",
    "        -   한명의 고객 정보의 경우 이름, 나이, 주소, 전화번호 등 여러개의 값이 모여서 하나의 값이 된다.\n",
    "        -   한 반의 학생들의 이름들은 여러개의 이름들로 구성된다.\n",
    "-   파이썬은 데이터를 모으는 방식에 따라 다음과 같이 4개의 타입을 제공한다.\n",
    "    -   **List:** 순서가 있으며 중복된 값들을 모으는 것을 허용하고 구성하는 값들(원소)을 변경할 수 있다.\n",
    "    -   **Tuple:** 순서가 있으며 중복된 값들을 모으는 것을 허용하는데 구성하는 값들을 변경할 수 없다.\n",
    "    -   **Dictionary:** key-value 형태로 값들을 저장해 관리한다.\n",
    "    -   **Set:** 중복을 허용하지 않고 값들의 순서가 없다.\n",
    "-   **원소, 성분, 요소, element**\n",
    "    -   자료구조의 값들을 구성하는 개별 값들을 말한다.\n",
    "    -   len(자료구조) 함수\n",
    "        -   자료구조 내의 원소의 개수를 반환한다.\n",
    "        "
   ]
  },
  {
   "cell_type": "markdown",
   "id": "84431cfd",
   "metadata": {
    "slideshow": {
     "slide_type": "slide"
    }
   },
   "source": [
    "# List (리스트)\n",
    "\n",
    "-   값들을 순서대로 모아서 관리하는 자료구조. 원소(element)들을 순번을 이용해 식별한다.\n",
    "    -   각각의 원소가 어떤 값인지를 index(순번)을 가지고 식별하기 때문에 **순서가 있고 그 순서가 매우 중요하다.** 즉 같은 값에 대해 순서가 바뀌면 안된다.\n",
    "-   각각의 원소들은 index를 이용해 식별한다.\n",
    "    -   index는 문자열과 마찮가지로 양수 index와 음수 index 두개가 각 값에 생긴다.\n",
    "    -   양수 index는 앞에서부터 음수 index는 뒤에서 부터 값을 식별할 때 사용하는 것이 편리하다.\n",
    "    -   **index를 가지고 각 원소값의 의미를 식별할 수 있으면 List나 Tuple을 사용한다.**\n",
    "-   중복된 값들을 저장할 수 있다.\n",
    "-   각 원소들의 데이터 타입은 달라도 상관없다.\n",
    "    -   보통은 같은 타입의 데이터를 모은다.\n",
    "-   리스트를 구성하는 **원소들을 변경할 수 있다.** (추가, 삭제, 변경이 가능)\n",
    "    -   원소 변경 여부가 List와 Tuple의 차이이다.\n",
    "\n",
    "## List 생성 구문\n",
    "\n",
    "```python\n",
    "[값, 값, 값, ..]\n",
    "```\n"
   ]
  },
  {
   "cell_type": "code",
   "execution_count": 1,
   "id": "6eef6bd9",
   "metadata": {},
   "outputs": [
    {
     "name": "stdout",
     "output_type": "stream",
     "text": [
      "[10, 20, 30, 40, 50]\n"
     ]
    },
    {
     "data": {
      "text/plain": [
       "[10, 20, 30, 40, 50]"
      ]
     },
     "execution_count": 1,
     "metadata": {},
     "output_type": "execute_result"
    }
   ],
   "source": [
    "l1 = [10,20,30,40,50]\n",
    "print(l1)\n",
    "l1"
   ]
  },
  {
   "cell_type": "code",
   "execution_count": 2,
   "id": "efc59691",
   "metadata": {
    "ExecuteTime": {
     "end_time": "2022-12-18T00:22:24.071490Z",
     "start_time": "2022-12-18T00:22:23.651455Z"
    },
    "slideshow": {
     "slide_type": "fragment"
    }
   },
   "outputs": [],
   "source": [
    "l2 = [1,2,3,4,5]\n",
    "l3 = l1 + l2"
   ]
  },
  {
   "cell_type": "code",
   "execution_count": 3,
   "id": "30db9f98-71d3-44a7-a8c4-d3229e945e74",
   "metadata": {},
   "outputs": [
    {
     "data": {
      "text/plain": [
       "[10, 20, 30, 40, 50, 1, 2, 3, 4, 5]"
      ]
     },
     "execution_count": 3,
     "metadata": {},
     "output_type": "execute_result"
    }
   ],
   "source": [
    "l3"
   ]
  },
  {
   "cell_type": "code",
   "execution_count": 4,
   "id": "003c5cc2-0061-4f3d-a63d-3bef6c8ca702",
   "metadata": {},
   "outputs": [
    {
     "data": {
      "text/plain": [
       "list"
      ]
     },
     "execution_count": 4,
     "metadata": {},
     "output_type": "execute_result"
    }
   ],
   "source": [
    "type(l3)"
   ]
  },
  {
   "cell_type": "code",
   "execution_count": 5,
   "id": "d22419e7-4c8e-441b-a23d-c63669c8dfbf",
   "metadata": {},
   "outputs": [
    {
     "name": "stdout",
     "output_type": "stream",
     "text": [
      "<class 'list'>\n"
     ]
    }
   ],
   "source": [
    "print(type(l3))"
   ]
  },
  {
   "cell_type": "code",
   "execution_count": 6,
   "id": "9c0839a4-e70a-4979-afc7-bb5ad062c412",
   "metadata": {},
   "outputs": [
    {
     "data": {
      "text/plain": [
       "True"
      ]
     },
     "execution_count": 6,
     "metadata": {},
     "output_type": "execute_result"
    }
   ],
   "source": [
    "type(l3) == list"
   ]
  },
  {
   "cell_type": "code",
   "execution_count": 7,
   "id": "28fe1f7d-c5fd-46f4-a948-c6f57fbf95af",
   "metadata": {},
   "outputs": [
    {
     "data": {
      "text/plain": [
       "['이순신', 30, '서울', 180.56, 79.21, 'O형', '010-1234-1234', True]"
      ]
     },
     "execution_count": 7,
     "metadata": {},
     "output_type": "execute_result"
    }
   ],
   "source": [
    "person1 = [\"이순신\", 30, \"서울\", 180.56, 79.21, \"O형\", \"010-1234-1234\", True]\n",
    "person1"
   ]
  },
  {
   "cell_type": "code",
   "execution_count": 8,
   "id": "7ddee71a-78e4-4f47-a32a-e51caf67f7e3",
   "metadata": {},
   "outputs": [
    {
     "name": "stdout",
     "output_type": "stream",
     "text": [
      "[100, 200, [300, 400], [500, [600, 700]]]\n"
     ]
    }
   ],
   "source": [
    "list_list = [100,200, [300,400], [500,[600,700]]]\n",
    "print(list_list)"
   ]
  },
  {
   "cell_type": "code",
   "execution_count": 9,
   "id": "ab7edcf1-7a21-4640-9226-584ec6fd5710",
   "metadata": {},
   "outputs": [
    {
     "name": "stdout",
     "output_type": "stream",
     "text": [
      "<class 'list'>\n"
     ]
    },
    {
     "data": {
      "text/plain": [
       "[100, 200, [300, 400], [500, [600, 700]]]"
      ]
     },
     "execution_count": 9,
     "metadata": {},
     "output_type": "execute_result"
    }
   ],
   "source": [
    "print(type(list_list))\n",
    "list_list"
   ]
  },
  {
   "cell_type": "markdown",
   "id": "08d634bf",
   "metadata": {
    "slideshow": {
     "slide_type": "subslide"
    }
   },
   "source": [
    "## Indexing과 Slicing을 이용한 원소(element) 조회 및 변경\n",
    "\n",
    "### Indexing\n",
    "\n",
    "-   하나의 원소를 조회하거나 변경할 때 사용\n",
    "-   리스트\\[index\\]\n",
    "    -   index의 원소를 조회\n",
    "-   리스트\\[index\\] = 값\n",
    "    -   index의 원소를 변경\n"
   ]
  },
  {
   "cell_type": "markdown",
   "id": "ab5a40cb",
   "metadata": {
    "slideshow": {
     "slide_type": "fragment"
    }
   },
   "source": [
    "### Slicing\n",
    "\n",
    "-   범위로 조회하거나 그 범위의 값들을 변경한다.\n",
    "-   기본구문: **리스트\\[ 시작 index : 종료 index : 간격\\]**\n",
    "    -   시작 index ~ (종료 index – 1)\n",
    "    -   간격을 지정하면 간격만큼 index를 증/감한다. (생략 시 1이 기본 간격)\n",
    "-   **0번 index 부터 조회 할 경우 시작 index는 생략가능**\n",
    "    -   리스트 \\[ : 5\\] => 0 ~ 4 까지 조회\n",
    "-   **마지막 index까지 (끝까지) 조회 할 경우 종료 index는 생략 가능**\n",
    "    -   리스트\\[2 : \\] => 2번 index 에서 끝까지\n",
    "-   **명시적으로 간격을 줄 경우**\n",
    "    -   리스트\\[ : : 3 \\] => 0, 3, 6, 9.. index의 값 조회\n",
    "    -   리스트\\[1 : 9 : 2\\] => 1, 3, 5, 7 index의 값 조회\n",
    "-   **시작 index > 종료 index, 간격을 음수로 하면 역으로 반환한다.(Reverse)**\n",
    "    -   리스트\\[5: 1: -1\\] => 5, 4, 3, 2 index의 값 조회\n",
    "    -   리스트\\[: : -1\\] => 마지막 index ~ 0번 index 까지 의미. Reverse 한다.\n",
    "\n",
    "#### slicing을 이용한 값 변경\n",
    "\n",
    "-   slicing 을 이용할 경우 slicing된 원소 개수와 동일한 개수의 값들을 대입한다.\n",
    "    -   `리스트[1:5] = 10,20,30,40` : index 1, 2, 3, 4의 값을 각각 10, 20, 30, 40 으로 변경\n"
   ]
  },
  {
   "cell_type": "code",
   "execution_count": 10,
   "id": "a758ab6d",
   "metadata": {},
   "outputs": [
    {
     "data": {
      "text/plain": [
       "9"
      ]
     },
     "execution_count": 10,
     "metadata": {},
     "output_type": "execute_result"
    }
   ],
   "source": [
    "l = [0,1,2,3,4,5,6,7,8,9]\n",
    "# indexing\n",
    "l[0]\n",
    "l[5]\n",
    "l[-1]"
   ]
  },
  {
   "cell_type": "code",
   "execution_count": 11,
   "id": "5d462776",
   "metadata": {
    "slideshow": {
     "slide_type": "fragment"
    }
   },
   "outputs": [
    {
     "name": "stdout",
     "output_type": "stream",
     "text": [
      "[0, 1, 2, 3, 4, 5, 6, 7, 8, 9]\n",
      "[10000, 1, 2, 3, 4, 5, 6, 7, 8, 100000]\n"
     ]
    }
   ],
   "source": [
    "print(l)\n",
    "l[0] = 10000\n",
    "l[-1] = 100000\n",
    "print(l)"
   ]
  },
  {
   "cell_type": "code",
   "execution_count": 12,
   "id": "d3fb7582-5d2d-419f-b734-6aecfc0fbb73",
   "metadata": {},
   "outputs": [
    {
     "name": "stdout",
     "output_type": "stream",
     "text": [
      "[10000, 10, 20, 30, 40, 50, 60, 70, 8, 100000]\n"
     ]
    }
   ],
   "source": [
    "l[1:8] = [10,20,30,40,50,60,70]\n",
    "print(l)"
   ]
  },
  {
   "cell_type": "code",
   "execution_count": 13,
   "id": "ee5bcd43-dfcc-4f71-ad42-7fc48c20f4ed",
   "metadata": {
    "scrolled": true
   },
   "outputs": [
    {
     "data": {
      "text/plain": [
       "[10, 30, 50, 70]"
      ]
     },
     "execution_count": 13,
     "metadata": {},
     "output_type": "execute_result"
    }
   ],
   "source": [
    "l[1:8:2]"
   ]
  },
  {
   "cell_type": "markdown",
   "id": "a4f9fe12",
   "metadata": {
    "slideshow": {
     "slide_type": "slide"
    }
   },
   "source": [
    "## List 연산자\n",
    "\n",
    "-   **리스트 + 리스트**\n",
    "    -   두 리스트의 원소들을 합친 리스트를 반환한다.\n",
    "-   **리스트 \\* 정수**\n",
    "    -   같은 리스트의 원소들을 정수번 합친 리스트를 반환한다.\n",
    "-   **in, not in 연산자**\n",
    "    -   값 in 리스트\n",
    "        -   리스트의 원소로 값이 **있으면** True, 없으면 False 반환\n",
    "    -   값 not in 리스트\n",
    "        -   리스트의 원소로 값이 **없으면** True, 있으면 False 반환\n",
    "-   **len(리스트)**\n",
    "    -   리스트 내의 원소수를 반환.\n"
   ]
  },
  {
   "cell_type": "code",
   "execution_count": 14,
   "id": "db069ee7",
   "metadata": {},
   "outputs": [
    {
     "name": "stdout",
     "output_type": "stream",
     "text": [
      "[1, 2, 3, 100, 200, 300, 400]\n",
      "[1, 2, 3, 100, 200, 300, 400, 1, [2, [3, [4]]]]\n"
     ]
    }
   ],
   "source": [
    "a = [1,2,3]\n",
    "b = [100,200,300,400]\n",
    "c = [1,[2,[3,[4]]]]\n",
    "\n",
    "d = a + b\n",
    "e = d + c\n",
    "print(d)\n",
    "print(e)"
   ]
  },
  {
   "cell_type": "code",
   "execution_count": 15,
   "id": "f085e817",
   "metadata": {
    "ExecuteTime": {
     "end_time": "2022-12-17T14:17:03.293505Z",
     "start_time": "2022-12-17T14:17:03.285501Z"
    },
    "slideshow": {
     "slide_type": "fragment"
    }
   },
   "outputs": [
    {
     "data": {
      "text/plain": [
       "[1, 2, 3, 1, 2, 3, 1, 2, 3, 1, 2, 3]"
      ]
     },
     "execution_count": 15,
     "metadata": {},
     "output_type": "execute_result"
    }
   ],
   "source": [
    "a * 4"
   ]
  },
  {
   "cell_type": "markdown",
   "id": "f90af754",
   "metadata": {
    "slideshow": {
     "slide_type": "slide"
    }
   },
   "source": [
    "## 중첩 리스트 (Nested List)\n",
    "\n",
    "-   List가 원소로 List를 가지는 것을 말한다.\n",
    "    -   List를 포함한 모든 자료구조 타입들도 다 값이므로 다른 자료구조의 원소로 들어갈 수 있다.\n",
    "    -   리스트(자료구조)도 값이다. 그래서 다른 자료구조의 원소로 들어갈 수 있다.\n",
    "    "
   ]
  },
  {
   "cell_type": "code",
   "execution_count": 16,
   "id": "01bede57",
   "metadata": {
    "slideshow": {
     "slide_type": "fragment"
    }
   },
   "outputs": [
    {
     "data": {
      "text/plain": [
       "[['이순신', 30, '서울'],\n",
       " [180.56, 79.21, 'O형'],\n",
       " ['010-1234-1234', '1111-1111-1111'],\n",
       " True,\n",
       " False]"
      ]
     },
     "execution_count": 16,
     "metadata": {},
     "output_type": "execute_result"
    }
   ],
   "source": [
    "person1 = [\n",
    "    [\"이순신\", 30, \"서울\"], [180.56, 79.21, \"O형\"], [\"010-1234-1234\",\"1111-1111-1111\"], True, False\n",
    "]\n",
    "person1"
   ]
  },
  {
   "cell_type": "code",
   "execution_count": 17,
   "id": "2dfd6c46",
   "metadata": {
    "slideshow": {
     "slide_type": "fragment"
    }
   },
   "outputs": [
    {
     "data": {
      "text/plain": [
       "'서울'"
      ]
     },
     "execution_count": 17,
     "metadata": {},
     "output_type": "execute_result"
    }
   ],
   "source": [
    "person1[0][2]"
   ]
  },
  {
   "cell_type": "markdown",
   "id": "826b8780",
   "metadata": {
    "slideshow": {
     "slide_type": "slide"
    }
   },
   "source": [
    "## List 주요 메소드\n",
    "\n",
    "| 메소드                       | 설명                                                                                 |\n",
    "| :--------------------------- | ------------------------------------------------------------------------------------ |\n",
    "| append(value)                | value를 추가한다.                                                                    |\n",
    "| extend(List)                 | List의 원소들을 추가한다.                                                            |\n",
    "| sort(\\[reverse=False\\])      | 원소들을 오름차순 정렬한다. reverse=True로 하면 내림차순정렬 한다.                   |\n",
    "| insert(index, 삽입할값)      | 지정한 index에 '삽입할값'을 삽입한다.                                                |\n",
    "| remove(삭제할값)             | '삭제할값' 값과 같은 원소를 삭제한다.                                                |\n",
    "| index(찾을값\\[, 시작index\\]) | '찾을값'의 index를 반환한다.                                                         |\n",
    "| pop(\\[index\\])               | index의 값을 반환하면서 삭제한다. index 생략하면 가장 마지막 값을 반환하며 삭제한다. |\n",
    "| count(값)                    | '값'이 리스트의 원소로 몇개 있는지 반환한다.                                         |\n",
    "| clear()                      | 리스트 안의 모든 원소들을 삭제한다.                                                  |\n"
   ]
  },
  {
   "cell_type": "code",
   "execution_count": 18,
   "id": "025aa78e-b487-48b5-b6ad-5543d88ae230",
   "metadata": {},
   "outputs": [
    {
     "name": "stdout",
     "output_type": "stream",
     "text": [
      "[10, 20, 30]\n"
     ]
    }
   ],
   "source": [
    "l = [10,20,30]\n",
    "print(l)"
   ]
  },
  {
   "cell_type": "code",
   "execution_count": 19,
   "id": "a172bae5-101a-46c2-852c-49fc26da203c",
   "metadata": {},
   "outputs": [
    {
     "name": "stdout",
     "output_type": "stream",
     "text": [
      "[10, 20, 30, 1000]\n"
     ]
    }
   ],
   "source": [
    "l.append(1000) # 하나만 추가\n",
    "print(l)"
   ]
  },
  {
   "cell_type": "code",
   "execution_count": 20,
   "id": "f20bb6e9-77f4-41f5-b6ef-dfdb514397ac",
   "metadata": {},
   "outputs": [
    {
     "name": "stdout",
     "output_type": "stream",
     "text": [
      "[10, 20, 30, 1000, 1, 3, 4, 2]\n"
     ]
    }
   ],
   "source": [
    "l.extend([1,3,4,2]) # 여러개 추가\n",
    "print(l)"
   ]
  },
  {
   "cell_type": "code",
   "execution_count": 21,
   "id": "b9196b02-616e-410f-b58f-c47b74cea7ed",
   "metadata": {},
   "outputs": [
    {
     "name": "stdout",
     "output_type": "stream",
     "text": [
      "[1, 2, 3, 4, 10, 20, 30, 1000]\n"
     ]
    }
   ],
   "source": [
    "l.sort()\n",
    "print(l)"
   ]
  },
  {
   "cell_type": "code",
   "execution_count": 22,
   "id": "fcc96fed-0ae4-4be9-8ae1-ade9a7e13f47",
   "metadata": {},
   "outputs": [
    {
     "name": "stdout",
     "output_type": "stream",
     "text": [
      "[1000, 30, 20, 10, 4, 3, 2, 1]\n"
     ]
    }
   ],
   "source": [
    "l.sort(reverse=True)\n",
    "print(l)"
   ]
  },
  {
   "cell_type": "code",
   "execution_count": 23,
   "id": "927cd811-d069-4670-a992-42f772e399f8",
   "metadata": {},
   "outputs": [
    {
     "name": "stdout",
     "output_type": "stream",
     "text": [
      "[1000, 30, 100, 20, 10, 4, 3, 2, 1, 1]\n",
      "2\n",
      "30\n",
      "[1000, 100, 20, 10, 4, 3, 2, 1, 1]\n"
     ]
    }
   ],
   "source": [
    "l.insert(2, 100)\n",
    "l.insert(100,1)\n",
    "print(l)\n",
    "print(l.count(1))\n",
    "print(l.pop(1))\n",
    "print(l)"
   ]
  },
  {
   "cell_type": "code",
   "execution_count": 24,
   "id": "785cb995-e732-42d2-8dca-1f507db7c007",
   "metadata": {},
   "outputs": [
    {
     "name": "stdout",
     "output_type": "stream",
     "text": [
      "[1, 1, 2, 3, 4, 10, 20, 100, 1000]\n",
      "[1000, 100, 20, 10, 4, 3, 2, 1, 1]\n"
     ]
    }
   ],
   "source": [
    "print(sorted(l))\n",
    "print(l)"
   ]
  },
  {
   "cell_type": "code",
   "execution_count": 25,
   "id": "85981fdf-6e92-42aa-a1f5-2ed832572404",
   "metadata": {},
   "outputs": [
    {
     "name": "stdout",
     "output_type": "stream",
     "text": [
      "[1, 1, 2, 3, 4, 10, 20, 100, 1000]\n"
     ]
    }
   ],
   "source": [
    "l.sort()\n",
    "print(l)"
   ]
  },
  {
   "cell_type": "code",
   "execution_count": 26,
   "id": "ccadd7ce-1602-4320-a925-6d500126f1d9",
   "metadata": {},
   "outputs": [],
   "source": [
    "# 정렬 - sorted() 함수, sort() list의 메소드\n",
    "# sorted() 함수 - 모든 자료구조를 받아서 정렬 한 결과를 list로 반환. *원본을 정렬하지않는다.)\n",
    "# sort() 함수 - list용. List 자체를 정렬."
   ]
  },
  {
   "cell_type": "code",
   "execution_count": 27,
   "id": "4de909e6-51f3-4e39-bbde-22de4c9fb8c6",
   "metadata": {},
   "outputs": [
    {
     "name": "stdout",
     "output_type": "stream",
     "text": [
      "[1, 1, 2, 3, 4, 10, 20, 100, 1000]\n",
      "[1, 2, 3, 4, 10, 20, 100, 1000]\n"
     ]
    }
   ],
   "source": [
    "# 삭제\n",
    "## 값으로 삭제\n",
    "print(l)\n",
    "l.remove(1)\n",
    "print(l) # 중복된 값이 있으면 맨앞에 있는 애를 지움"
   ]
  },
  {
   "cell_type": "markdown",
   "id": "5b28f033",
   "metadata": {
    "slideshow": {
     "slide_type": "slide"
    }
   },
   "source": [
    "# Tuple (튜플)\n",
    "\n",
    "-   List와 같이 순서대로 원소들을 관리한다. 단 저장된 원소를 변경할 수 없다.\n",
    "-   Tuple 은 각 위치(Index) 마다 정해진 의미가 있고 그 값이 한번 설정되면 바뀌지 않는 경우에 사용한다.\n",
    "    -   Tuple은 값의 변경되지 않으므로 안전하다.\n",
    "\n",
    "## Tuple 생성\n",
    "\n",
    "-   `(value, value, value, ...)`\n",
    "-   소괄호를 생략할 수 있다.\n",
    "-   원소가 하나인 Tuple 표현식\n",
    "    -   `(value,)` 또는 `value,`\n",
    "        -   값 뒤에 `,` 를 붙여준다. `,`를 붙이지 않으면 ( )가 연산자 우선순위 괄호가 된다.\n"
   ]
  },
  {
   "cell_type": "code",
   "execution_count": 28,
   "id": "f7f96391",
   "metadata": {},
   "outputs": [],
   "source": [
    "tup = 1,2,3,4,5,6,7,8,9"
   ]
  },
  {
   "cell_type": "code",
   "execution_count": 29,
   "id": "17099a9e",
   "metadata": {
    "slideshow": {
     "slide_type": "fragment"
    }
   },
   "outputs": [
    {
     "data": {
      "text/plain": [
       "(1, 2, 3, 4, 5, 6, 7, 8, 9)"
      ]
     },
     "execution_count": 29,
     "metadata": {},
     "output_type": "execute_result"
    }
   ],
   "source": [
    "tup"
   ]
  },
  {
   "cell_type": "code",
   "execution_count": 30,
   "id": "de4331b7-bca8-49a9-bd36-d6539dc7411e",
   "metadata": {},
   "outputs": [
    {
     "data": {
      "text/plain": [
       "(1, 2, 3, 4, 5, 6, 7, 8, 9)"
      ]
     },
     "execution_count": 30,
     "metadata": {},
     "output_type": "execute_result"
    }
   ],
   "source": [
    "tup2 = (1,2,3,4,5,6,7,8,9)\n",
    "tup2"
   ]
  },
  {
   "cell_type": "code",
   "execution_count": 31,
   "id": "3be605e4-bd4d-4dd5-ba5f-01e94f2f6b5f",
   "metadata": {},
   "outputs": [
    {
     "data": {
      "text/plain": [
       "True"
      ]
     },
     "execution_count": 31,
     "metadata": {},
     "output_type": "execute_result"
    }
   ],
   "source": [
    "tup == tup2"
   ]
  },
  {
   "cell_type": "code",
   "execution_count": 32,
   "id": "bb306543-8486-4679-921d-bb094f70bb7e",
   "metadata": {},
   "outputs": [],
   "source": [
    "tuple3 = (100,)"
   ]
  },
  {
   "cell_type": "code",
   "execution_count": 33,
   "id": "8cf7f824-5d7a-4214-be7d-21d66cc3347c",
   "metadata": {},
   "outputs": [
    {
     "data": {
      "text/plain": [
       "(100,)"
      ]
     },
     "execution_count": 33,
     "metadata": {},
     "output_type": "execute_result"
    }
   ],
   "source": [
    "tuple3"
   ]
  },
  {
   "cell_type": "code",
   "execution_count": 34,
   "id": "12188af9-46bc-49d9-8cd4-eeb734b65c5d",
   "metadata": {},
   "outputs": [],
   "source": [
    "tuple4 = (100)"
   ]
  },
  {
   "cell_type": "code",
   "execution_count": 35,
   "id": "7dfeac1b-7885-4a02-8f31-e7e4045c9194",
   "metadata": {
    "scrolled": true
   },
   "outputs": [
    {
     "data": {
      "text/plain": [
       "100"
      ]
     },
     "execution_count": 35,
     "metadata": {},
     "output_type": "execute_result"
    }
   ],
   "source": [
    "tuple4"
   ]
  },
  {
   "cell_type": "code",
   "execution_count": 36,
   "id": "40565e3a-6637-4ba7-80cb-a8d581af4458",
   "metadata": {},
   "outputs": [],
   "source": [
    "tuple5 = 200,"
   ]
  },
  {
   "cell_type": "code",
   "execution_count": 37,
   "id": "8969e3cc-1429-498c-b12f-86e784285fa1",
   "metadata": {},
   "outputs": [
    {
     "data": {
      "text/plain": [
       "(200,)"
      ]
     },
     "execution_count": 37,
     "metadata": {},
     "output_type": "execute_result"
    }
   ],
   "source": [
    "tuple5"
   ]
  },
  {
   "cell_type": "code",
   "execution_count": 38,
   "id": "a45e168d-1189-48d6-abc9-48a6dc37a167",
   "metadata": {},
   "outputs": [],
   "source": [
    "# 튜플은 리스트와 많이 유사하지만, 수정이 불가함."
   ]
  },
  {
   "cell_type": "code",
   "execution_count": 39,
   "id": "7c883f5a-0b68-47eb-8a8b-2a939b0d4781",
   "metadata": {
    "scrolled": true
   },
   "outputs": [
    {
     "name": "stdout",
     "output_type": "stream",
     "text": [
      "(1, '안녕', (1, 2, 3))\n"
     ]
    }
   ],
   "source": [
    "tup_ex = (1, \"안녕\", (1,2,3))\n",
    "print(tup_ex)"
   ]
  },
  {
   "cell_type": "code",
   "execution_count": 40,
   "id": "6532a975-d14b-47d9-9384-12be532b64a5",
   "metadata": {},
   "outputs": [
    {
     "data": {
      "text/plain": [
       "False"
      ]
     },
     "execution_count": 40,
     "metadata": {},
     "output_type": "execute_result"
    }
   ],
   "source": [
    "(1, \"안녕\", (1,2,3)) in tup_ex"
   ]
  },
  {
   "cell_type": "markdown",
   "id": "16954356",
   "metadata": {
    "slideshow": {
     "slide_type": "slide"
    }
   },
   "source": [
    "## Indexing과 Slicing을 이용한 원소(element) 조회\n",
    "\n",
    "-   리스트와 동일하다.\n",
    "-   단 튜플은 조회만 가능하고 원소를 변경할 수 없다.\n"
   ]
  },
  {
   "cell_type": "code",
   "execution_count": 41,
   "id": "fa92bc45",
   "metadata": {},
   "outputs": [
    {
     "data": {
      "text/plain": [
       "0"
      ]
     },
     "execution_count": 41,
     "metadata": {},
     "output_type": "execute_result"
    }
   ],
   "source": [
    "t10 = (100,2,500,100,20,4,2)\n",
    "t10.index(100)"
   ]
  },
  {
   "cell_type": "code",
   "execution_count": 42,
   "id": "6c5b9b2c",
   "metadata": {
    "slideshow": {
     "slide_type": "fragment"
    }
   },
   "outputs": [
    {
     "data": {
      "text/plain": [
       "3"
      ]
     },
     "execution_count": 42,
     "metadata": {},
     "output_type": "execute_result"
    }
   ],
   "source": [
    "t10.index(100,1)"
   ]
  },
  {
   "cell_type": "code",
   "execution_count": 43,
   "id": "7faf8f07-ce96-4dd3-9428-ae4e4b4a256c",
   "metadata": {},
   "outputs": [
    {
     "data": {
      "text/plain": [
       "2"
      ]
     },
     "execution_count": 43,
     "metadata": {},
     "output_type": "execute_result"
    }
   ],
   "source": [
    "t10.count(100)"
   ]
  },
  {
   "cell_type": "markdown",
   "id": "135101f3",
   "metadata": {
    "slideshow": {
     "slide_type": "slide"
    }
   },
   "source": [
    "## Tuple 연산자\n",
    "\n",
    "-   **tuple + tuple**\n",
    "    -   두 tuple의 원소들을 합친 tuple을 반환한다.\n",
    "-   **tuple \\* 정수**\n",
    "    -   같은 tuple의 원소들을 정수번 합친 tuple를 반환한다.\n",
    "-   **in, not in 연산자**\n",
    "    -   값 in tuple\n",
    "        -   tuple의 원소로 값이 **있으면** True, 없으면 False 반환\n",
    "    -   값 not in tuple\n",
    "        -   tuple의 원소로 값이 **없으면** True, 있으면 False 반환\n",
    "-   **len(tuple)**\n",
    "    -   tuple의 원소 개수 반환\n"
   ]
  },
  {
   "cell_type": "code",
   "execution_count": 44,
   "id": "f97779dc-5d14-46e6-90b7-f70a0da55e60",
   "metadata": {
    "scrolled": true
   },
   "outputs": [
    {
     "name": "stdout",
     "output_type": "stream",
     "text": [
      "(1, '안녕', (1, 2, 3))\n"
     ]
    }
   ],
   "source": [
    "tup_ex = (1, \"안녕\", (1,2,3))\n",
    "print(tup_ex)"
   ]
  },
  {
   "cell_type": "code",
   "execution_count": 45,
   "id": "7ae80d3b-2efe-4641-8b28-0ff43518e0a0",
   "metadata": {},
   "outputs": [
    {
     "data": {
      "text/plain": [
       "False"
      ]
     },
     "execution_count": 45,
     "metadata": {},
     "output_type": "execute_result"
    }
   ],
   "source": [
    "(1, \"안녕\", (1,2,3)) in tup_ex"
   ]
  },
  {
   "cell_type": "markdown",
   "id": "89803fdd",
   "metadata": {
    "slideshow": {
     "slide_type": "subslide"
    }
   },
   "source": [
    "## Tuple의 주요 메소드\n",
    "\n",
    "| 메소드                        | 설명                                |\n",
    "| :---------------------------- | ----------------------------------- |\n",
    "| index(찾을값 \\[, 시작index\\]) | '찾을값'이 몇번 index인지 반환한다. |\n",
    "| count(값)                     | 원소로 '값'이 몇개 있는지 반환한다. |\n"
   ]
  },
  {
   "cell_type": "code",
   "execution_count": 46,
   "id": "a142be36-fd42-4c90-a1f4-5464a05e07b5",
   "metadata": {},
   "outputs": [
    {
     "data": {
      "text/plain": [
       "0"
      ]
     },
     "execution_count": 46,
     "metadata": {},
     "output_type": "execute_result"
    }
   ],
   "source": [
    "t10 = (100,2,500,100,20,4,2)\n",
    "t10.index(100)"
   ]
  },
  {
   "cell_type": "code",
   "execution_count": 47,
   "id": "6052bf32-9abe-456b-b676-ab9c92eb3e3e",
   "metadata": {
    "slideshow": {
     "slide_type": "fragment"
    }
   },
   "outputs": [
    {
     "data": {
      "text/plain": [
       "3"
      ]
     },
     "execution_count": 47,
     "metadata": {},
     "output_type": "execute_result"
    }
   ],
   "source": [
    "t10.index(100,1)"
   ]
  },
  {
   "cell_type": "code",
   "execution_count": 48,
   "id": "e01f2a49-013b-43a0-8f7b-9e18e8081d8d",
   "metadata": {},
   "outputs": [
    {
     "data": {
      "text/plain": [
       "2"
      ]
     },
     "execution_count": 48,
     "metadata": {},
     "output_type": "execute_result"
    }
   ],
   "source": [
    "t10.count(100)"
   ]
  },
  {
   "cell_type": "code",
   "execution_count": 49,
   "id": "93a527af",
   "metadata": {
    "slideshow": {
     "slide_type": "fragment"
    }
   },
   "outputs": [],
   "source": [
    "# tuple은 수정이 불가하므로 sorted() 함수를 쓰면 list로 반환을 해준다."
   ]
  },
  {
   "cell_type": "markdown",
   "id": "e6c196f5",
   "metadata": {
    "slideshow": {
     "slide_type": "slide"
    }
   },
   "source": [
    "# Dictionary\n",
    "\n",
    "-   값을 키(key)-값(value) 쌍으로 묶어서 저장하는 자료구조이다.\n",
    "    -   리스트나 튜플의 index의 역할을 하는 key를 직접 지정한다.\n",
    "    -   서로 의미가 다른 값들을 하나로 묶을 때 그 값의 의미를 key로 가질 수 있는 dictionary를 사용한다.\n",
    "        -   cf) 값의 의미가 같을 경우 List나 Tuple을 사용한다.\n",
    "    -   key-value 쌍으로 묶은 데이터 한개를 **item 또는 entry**라고 한다.\n",
    "    -   key는 중복을 허용하지 않고 value는 중복을 허용한다.\n",
    "\n",
    "## Dictionary 생성\n",
    "\n",
    "-   구문\n",
    "    1. `{ 키 : 값, 키 : 값, 키 : 값 }`\n",
    "    2. dict(key=value, key=value) 함수 이용\n",
    "    -   키(key)는 불변(Immutable)의 값들만 사용 가능하다. (숫자, 문자열, 튜플) 일반적으로 문자열을 사용한다.\n",
    "    -   dict() 함수를 사용할 경우 key는 변수로 정의한다\n"
   ]
  },
  {
   "cell_type": "code",
   "execution_count": 50,
   "id": "18611386",
   "metadata": {},
   "outputs": [],
   "source": [
    "# key 는 중복이 되면 안됨 (식별을 하기 위해)"
   ]
  },
  {
   "cell_type": "code",
   "execution_count": 51,
   "id": "d9d37f28",
   "metadata": {
    "slideshow": {
     "slide_type": "fragment"
    }
   },
   "outputs": [
    {
     "data": {
      "text/plain": [
       "{1: 2}"
      ]
     },
     "execution_count": 51,
     "metadata": {},
     "output_type": "execute_result"
    }
   ],
   "source": [
    "dic1 = {1:1, 1:2}\n",
    "dic1"
   ]
  },
  {
   "cell_type": "code",
   "execution_count": 52,
   "id": "1875e9dd-591e-4fd5-bfe2-a0e2f2c10422",
   "metadata": {},
   "outputs": [
    {
     "data": {
      "text/plain": [
       "{1: 1, 2: {2: 2}, 3: 4}"
      ]
     },
     "execution_count": 52,
     "metadata": {},
     "output_type": "execute_result"
    }
   ],
   "source": [
    "dic2 = {1:1,2:{2:2},3:4} # 딕셔너리 안에 key는 immutable한 값만 사용 가능\n",
    "dic2"
   ]
  },
  {
   "cell_type": "code",
   "execution_count": 53,
   "id": "c40988d0-035d-4c4c-8172-6f5554eba99e",
   "metadata": {},
   "outputs": [],
   "source": [
    "A = {\"이름\":\"홍길동\", \"나이\":\"17\", \"학교 이름\":\"A 고등학교\", \"반\":\"3반\", \"학년\":\"3학년\"}"
   ]
  },
  {
   "cell_type": "code",
   "execution_count": 54,
   "id": "9b771a79-7e6f-4084-90ae-051e1c82bfef",
   "metadata": {},
   "outputs": [
    {
     "name": "stdout",
     "output_type": "stream",
     "text": [
      "{'이름': '홍길동', '나이': '17', '학교 이름': 'A 고등학교', '반': '3반', '학년': '3학년'}\n"
     ]
    }
   ],
   "source": [
    "print(A)"
   ]
  },
  {
   "cell_type": "code",
   "execution_count": 55,
   "id": "441020f1-ae9e-43ec-a41c-d7942e708990",
   "metadata": {},
   "outputs": [
    {
     "data": {
      "text/plain": [
       "dict"
      ]
     },
     "execution_count": 55,
     "metadata": {},
     "output_type": "execute_result"
    }
   ],
   "source": [
    "type(A)"
   ]
  },
  {
   "cell_type": "code",
   "execution_count": 56,
   "id": "094bd004-34c8-4878-b784-f49569c8ffef",
   "metadata": {},
   "outputs": [
    {
     "name": "stdout",
     "output_type": "stream",
     "text": [
      "{'이름': '김지민', '나이': 26, '결혼여부': False, '취미': ['영화감상', '독서', '음악감상']}\n"
     ]
    }
   ],
   "source": [
    "dic2 = {\n",
    "    \"이름\" : \"김지민\",\n",
    "    \"나이\" : 26,\n",
    "    \"결혼여부\" : False,\n",
    "    \"취미\" : [\"영화감상\",\"독서\",\"음악감상\"]\n",
    "}\n",
    "print(dic2)"
   ]
  },
  {
   "cell_type": "code",
   "execution_count": 57,
   "id": "0bd3b2c7-1578-4b33-bebf-6494b69e0ec7",
   "metadata": {},
   "outputs": [
    {
     "data": {
      "text/plain": [
       "{'이름': '홍길동', '나이': 100, '결혼여부': True, '취미': ['게임', '야구']}"
      ]
     },
     "execution_count": 57,
     "metadata": {},
     "output_type": "execute_result"
    }
   ],
   "source": [
    "dic3 = dict(이름=\"홍길동\", 나이=100, 결혼여부=True, 취미 = [\"게임\",\"야구\"])\n",
    "dic3"
   ]
  },
  {
   "cell_type": "markdown",
   "id": "f8c87bd3",
   "metadata": {
    "slideshow": {
     "slide_type": "subslide"
    }
   },
   "source": [
    "## Dictionary 원소 조회 및 변경\n",
    "\n",
    "-   조회: index에 key값을 식별자로 지정한다.\n",
    "    -   dictionary\\[ key \\]\n",
    "    -   없는 키로 조회 시 KeyError 발생\n",
    "-   변경\n",
    "    -   dictionary\\[ key \\] = 값\n",
    "    -   있는 key값에 값을 대입하면 변경이고 없는 key 일 경우는 새로운 item을 추가하는 것이다.\n"
   ]
  },
  {
   "cell_type": "code",
   "execution_count": 58,
   "id": "5c8cec2f",
   "metadata": {},
   "outputs": [
    {
     "data": {
      "text/plain": [
       "'김지민'"
      ]
     },
     "execution_count": 58,
     "metadata": {},
     "output_type": "execute_result"
    }
   ],
   "source": [
    "dic2[\"이름\"]"
   ]
  },
  {
   "cell_type": "code",
   "execution_count": 59,
   "id": "459db630",
   "metadata": {
    "slideshow": {
     "slide_type": "fragment"
    }
   },
   "outputs": [
    {
     "data": {
      "text/plain": [
       "['영화감상', '독서', '음악감상']"
      ]
     },
     "execution_count": 59,
     "metadata": {},
     "output_type": "execute_result"
    }
   ],
   "source": [
    "dic2[\"취미\"]"
   ]
  },
  {
   "cell_type": "code",
   "execution_count": 60,
   "id": "582eb0c6-a8df-433f-9767-c826f4490eaf",
   "metadata": {
    "slideshow": {
     "slide_type": "fragment"
    }
   },
   "outputs": [
    {
     "data": {
      "text/plain": [
       "'독서'"
      ]
     },
     "execution_count": 60,
     "metadata": {},
     "output_type": "execute_result"
    }
   ],
   "source": [
    "dic2[\"취미\"][1]"
   ]
  },
  {
   "cell_type": "code",
   "execution_count": 61,
   "id": "9235c1f4-d784-4851-8f7b-e2c1c0d89282",
   "metadata": {},
   "outputs": [
    {
     "data": {
      "text/plain": [
       "{'이름': '김지민',\n",
       " '나이': 26,\n",
       " '결혼여부': False,\n",
       " '취미': ['영화감상', '독서', '음악감상'],\n",
       " '휴대폰번호': '010-123-124'}"
      ]
     },
     "execution_count": 61,
     "metadata": {},
     "output_type": "execute_result"
    }
   ],
   "source": [
    "dic2[\"휴대폰번호\"] = \"010-123-124\"\n",
    "dic2"
   ]
  },
  {
   "cell_type": "code",
   "execution_count": 62,
   "id": "9d11bf51-ba42-45e4-be3e-5dc7b2cd117c",
   "metadata": {},
   "outputs": [
    {
     "name": "stdout",
     "output_type": "stream",
     "text": [
      "{'이름': '김지민', '나이': 26, '결혼여부': False, '취미': ['영화감상', '독서', '음악감상'], '휴대폰번호': '010-123-124', '주소': {'시': '서울시', '구': '금천구'}}\n",
      "{'이름': '김지민', '나이': 26, '결혼여부': False, '취미': ['영화감상', '독서', '음악감상'], '휴대폰번호': '010-123-124', '주소': {'시': '서울시', '구': '금천구', '동': '독산동'}}\n"
     ]
    }
   ],
   "source": [
    "dic2[\"주소\"]= dict(시=\"서울시\", 구=\"금천구\")\n",
    "print(dic2)\n",
    "dic2[\"주소\"][\"동\"] = \"독산동\"\n",
    "print(dic2)"
   ]
  },
  {
   "cell_type": "markdown",
   "id": "d5aade1e",
   "metadata": {
    "slideshow": {
     "slide_type": "slide"
    }
   },
   "source": [
    "## Dictionary 연산자\n",
    "\n",
    "-   **in, not in 연산자**\n",
    "    -   값 in dictionary\n",
    "        -   dictionary의 **Key**로 값이 **있으면** True, 없으면 False 반환\n",
    "    -   값 not in dictionary\n",
    "        -   dictionary의 **Key**로 값이 **없으면** True, 있으면 False 반환\n",
    "-   **len(dictionary)**\n",
    "    -   dictionary의 **Item의 개수** 반환\n"
   ]
  },
  {
   "cell_type": "code",
   "execution_count": null,
   "id": "71449891",
   "metadata": {},
   "outputs": [],
   "source": []
  },
  {
   "cell_type": "code",
   "execution_count": null,
   "id": "4a7c9061",
   "metadata": {
    "slideshow": {
     "slide_type": "fragment"
    }
   },
   "outputs": [],
   "source": []
  },
  {
   "cell_type": "markdown",
   "id": "9f620ec1",
   "metadata": {
    "slideshow": {
     "slide_type": "slide"
    }
   },
   "source": [
    "## Dictionary 주요 메소드\n",
    "\n",
    "| 메소드               | 설명                                                                               |\n",
    "| :------------------- | ---------------------------------------------------------------------------------- |\n",
    "| get(key\\[, 기본값\\]) | key의 item의 값을 반환한다. 단 key가 없을 경우 None또는 기본값을 반환한다.         |\n",
    "| pop(key)             | key의 item의 값을 반환하면서 dictionary에서 삭제한다. 없는 key일 경우 KeyError발생 |\n",
    "| clear()              | dictionary의 모든 item들을 삭제한다.                                               |\n",
    "| del dict\\[key\\]      | key의 item을 제거한다.                                                             |\n",
    "| items()              | item의 key, value를 튜플로 묶어 모아 반환한다.                                     |\n",
    "| keys()               | key값들만 모아 반환한다.                                                           |\n",
    "| values()             | value값들만 모아 반환한다.                                                         |\n"
   ]
  },
  {
   "cell_type": "code",
   "execution_count": 63,
   "id": "55f208b6",
   "metadata": {},
   "outputs": [
    {
     "name": "stdout",
     "output_type": "stream",
     "text": [
      "김지민\n"
     ]
    }
   ],
   "source": [
    "print(dic2.get(\"이름\"))"
   ]
  },
  {
   "cell_type": "code",
   "execution_count": 64,
   "id": "350e7ad5",
   "metadata": {
    "slideshow": {
     "slide_type": "fragment"
    }
   },
   "outputs": [
    {
     "name": "stdout",
     "output_type": "stream",
     "text": [
      "None\n"
     ]
    }
   ],
   "source": [
    "print(dic2.get(\"닉네임\"))"
   ]
  },
  {
   "cell_type": "code",
   "execution_count": 65,
   "id": "476dcc91-23ce-4fce-90cd-7f8db1bc248a",
   "metadata": {},
   "outputs": [
    {
     "data": {
      "text/plain": [
       "'없는 키 입니다.'"
      ]
     },
     "execution_count": 65,
     "metadata": {},
     "output_type": "execute_result"
    }
   ],
   "source": [
    "dic2.get(\"닉네임\") if dic2.get(\"닉네임\") != None else \"없는 키 입니다.\""
   ]
  },
  {
   "cell_type": "code",
   "execution_count": 66,
   "id": "bd00c831-8d98-4ca4-92c4-67b378eaf342",
   "metadata": {},
   "outputs": [
    {
     "data": {
      "text/plain": [
       "'없는 key'"
      ]
     },
     "execution_count": 66,
     "metadata": {},
     "output_type": "execute_result"
    }
   ],
   "source": [
    "dic2.get(\"닉네임\") if dic2.get(\"닉네임\") else \"없는 key\""
   ]
  },
  {
   "cell_type": "code",
   "execution_count": 67,
   "id": "c44f689e-19ef-4109-88e3-e28176e52ed1",
   "metadata": {},
   "outputs": [
    {
     "data": {
      "text/plain": [
       "'없는 키'"
      ]
     },
     "execution_count": 67,
     "metadata": {},
     "output_type": "execute_result"
    }
   ],
   "source": [
    "dic2.get(\"닉네임\") if dic2.get(\"닉네임\") is not None else \"없는 키\""
   ]
  },
  {
   "cell_type": "code",
   "execution_count": 68,
   "id": "eb1737d1-a396-4e22-bcef-df0820c8de8f",
   "metadata": {},
   "outputs": [
    {
     "data": {
      "text/plain": [
       "True"
      ]
     },
     "execution_count": 68,
     "metadata": {},
     "output_type": "execute_result"
    }
   ],
   "source": [
    "dic2.get(\"닉네임\") is None"
   ]
  },
  {
   "cell_type": "code",
   "execution_count": 69,
   "id": "0f212b2c-68a8-486a-9c53-5f56945e8734",
   "metadata": {},
   "outputs": [
    {
     "data": {
      "text/plain": [
       "False"
      ]
     },
     "execution_count": 69,
     "metadata": {},
     "output_type": "execute_result"
    }
   ],
   "source": [
    "dic2.get(\"닉네임\") is not None"
   ]
  },
  {
   "cell_type": "code",
   "execution_count": 70,
   "id": "a05ab365-fba7-41ae-b9e6-71b9335a977d",
   "metadata": {},
   "outputs": [
    {
     "data": {
      "text/plain": [
       "True"
      ]
     },
     "execution_count": 70,
     "metadata": {},
     "output_type": "execute_result"
    }
   ],
   "source": [
    "dic2.get(\"닉네임\") == None"
   ]
  },
  {
   "cell_type": "code",
   "execution_count": 71,
   "id": "eab3b6fe-5843-4932-9bd4-7181b7edb39e",
   "metadata": {},
   "outputs": [
    {
     "data": {
      "text/plain": [
       "0"
      ]
     },
     "execution_count": 71,
     "metadata": {},
     "output_type": "execute_result"
    }
   ],
   "source": [
    "dic2.get(\"존재하지 않는 값 아무거나 적기\", 0 ) # 이러면 값이 없을경우 0 출력"
   ]
  },
  {
   "cell_type": "code",
   "execution_count": 72,
   "id": "29c59a84-d51e-45b7-b978-aa1f3c3ee08a",
   "metadata": {},
   "outputs": [
    {
     "name": "stdout",
     "output_type": "stream",
     "text": [
      "{'주소': '서울'}\n"
     ]
    }
   ],
   "source": [
    "d1 = dict()\n",
    "d1[\"주소\"] = \"서울\"\n",
    "print(d1)"
   ]
  },
  {
   "cell_type": "code",
   "execution_count": 73,
   "id": "3543b458-b949-4dce-8f3e-e9f7fa9e587e",
   "metadata": {},
   "outputs": [],
   "source": [
    "# 키값들만 모아서 조회\n",
    "keys = dic2.keys()"
   ]
  },
  {
   "cell_type": "code",
   "execution_count": 74,
   "id": "6c17629b-2a4a-4b87-ac45-1ea36c75f0e1",
   "metadata": {},
   "outputs": [
    {
     "data": {
      "text/plain": [
       "dict_keys(['이름', '나이', '결혼여부', '취미', '휴대폰번호', '주소'])"
      ]
     },
     "execution_count": 74,
     "metadata": {},
     "output_type": "execute_result"
    }
   ],
   "source": [
    "keys"
   ]
  },
  {
   "cell_type": "code",
   "execution_count": 75,
   "id": "3713d8a3-112b-497d-a42a-8898c1488e34",
   "metadata": {},
   "outputs": [],
   "source": [
    "values = dic2.values()"
   ]
  },
  {
   "cell_type": "code",
   "execution_count": 76,
   "id": "ef919c97-6f3a-4691-b9fe-b2aadf394e35",
   "metadata": {},
   "outputs": [
    {
     "data": {
      "text/plain": [
       "dict_values(['김지민', 26, False, ['영화감상', '독서', '음악감상'], '010-123-124', {'시': '서울시', '구': '금천구', '동': '독산동'}])"
      ]
     },
     "execution_count": 76,
     "metadata": {},
     "output_type": "execute_result"
    }
   ],
   "source": [
    "values"
   ]
  },
  {
   "cell_type": "code",
   "execution_count": 77,
   "id": "55a07cfa-11e8-463b-b57b-a7a181868f1d",
   "metadata": {},
   "outputs": [],
   "source": [
    "# key-value 모아서 반환. item: (key,value)\n",
    "items = dic2.items()"
   ]
  },
  {
   "cell_type": "code",
   "execution_count": 78,
   "id": "9340c93a-19a2-43bc-bd5f-da5bf5808fd7",
   "metadata": {},
   "outputs": [
    {
     "data": {
      "text/plain": [
       "dict_items([('이름', '김지민'), ('나이', 26), ('결혼여부', False), ('취미', ['영화감상', '독서', '음악감상']), ('휴대폰번호', '010-123-124'), ('주소', {'시': '서울시', '구': '금천구', '동': '독산동'})])"
      ]
     },
     "execution_count": 78,
     "metadata": {},
     "output_type": "execute_result"
    }
   ],
   "source": [
    "items"
   ]
  },
  {
   "cell_type": "markdown",
   "id": "d97869af",
   "metadata": {
    "slideshow": {
     "slide_type": "slide"
    }
   },
   "source": [
    "# Set\n",
    "\n",
    "-   Set은 중복되는 값을 허용하지 않고 순서를 신경 쓰지 않는다.\n",
    "    -   원소를 식별할 수 있는 식별자가 없기 때문에 Set은 indexing과 slicing을 지원하지 않는다\n",
    "\n",
    "## Set 생성\n",
    "\n",
    "-   구문\n",
    "    -   {값, 값, 값 }\n",
    "\n",
    "> -   빈 Dictionary 만들기\n",
    ">     -   info = {}\n",
    ">     -   중괄호만 사용하면 빈 set이 아니라 빈 dictionary를 생성하는 것임.\n"
   ]
  },
  {
   "cell_type": "code",
   "execution_count": 79,
   "id": "89c00d98-fd55-46b0-975c-f61284fe81a6",
   "metadata": {},
   "outputs": [],
   "source": [
    "info = {} # 빈 중괄호 = 딕셔너리 생성"
   ]
  },
  {
   "cell_type": "code",
   "execution_count": 80,
   "id": "17d50b65-73bb-4801-ad67-3248ed1ed0ea",
   "metadata": {},
   "outputs": [
    {
     "data": {
      "text/plain": [
       "dict"
      ]
     },
     "execution_count": 80,
     "metadata": {},
     "output_type": "execute_result"
    }
   ],
   "source": [
    "type(info)"
   ]
  },
  {
   "cell_type": "code",
   "execution_count": 81,
   "id": "47d0c388-6670-4f30-831e-6feadbcd1a8d",
   "metadata": {},
   "outputs": [
    {
     "name": "stdout",
     "output_type": "stream",
     "text": [
      "{1, 2, 3, 4, 5, 6, 7, 8, 9, 10}\n"
     ]
    }
   ],
   "source": [
    "info2 = {1,2,3,4,5,6,7,8,9,10}\n",
    "print(info2)"
   ]
  },
  {
   "cell_type": "code",
   "execution_count": 82,
   "id": "5c88480a",
   "metadata": {
    "slideshow": {
     "slide_type": "fragment"
    }
   },
   "outputs": [
    {
     "data": {
      "text/plain": [
       "set"
      ]
     },
     "execution_count": 82,
     "metadata": {},
     "output_type": "execute_result"
    }
   ],
   "source": [
    "type(info2)"
   ]
  },
  {
   "cell_type": "code",
   "execution_count": 83,
   "id": "e7732cab-deb2-4a37-971c-482e1320f74b",
   "metadata": {},
   "outputs": [
    {
     "data": {
      "text/plain": [
       "{1, 2, 3, 4, 5, 6, 7}"
      ]
     },
     "execution_count": 83,
     "metadata": {},
     "output_type": "execute_result"
    }
   ],
   "source": [
    "set2 = {1,1,1,1,2,2,2,2,3,4,5,5,6,7,7,7,7,7,5,5,5,5,1,2,3,4,5}\n",
    "set2"
   ]
  },
  {
   "cell_type": "code",
   "execution_count": 84,
   "id": "ec65f7b8-4fd6-403a-b20d-f171f04b7960",
   "metadata": {
    "scrolled": true
   },
   "outputs": [
    {
     "data": {
      "text/plain": [
       "{1, 2, 3, 4, 5, 6, 7, 32, 43, 66666}"
      ]
     },
     "execution_count": 84,
     "metadata": {},
     "output_type": "execute_result"
    }
   ],
   "source": [
    "set3 = {5,5,32,2,6,2,4,7,2,1,2,3,5,66666,5,43,2}\n",
    "set3"
   ]
  },
  {
   "cell_type": "code",
   "execution_count": 85,
   "id": "304f16ea",
   "metadata": {},
   "outputs": [],
   "source": [
    "# info2[2] #set 집합은 인덱싱 불가 "
   ]
  },
  {
   "cell_type": "code",
   "execution_count": 86,
   "id": "61faa475-7791-49fa-b268-b943570ffc29",
   "metadata": {},
   "outputs": [],
   "source": [
    "# subscriptable = 조회할수 있는 타입 ex ) s1[0] <<\n",
    "# Type Error 중에 subscriptable 에러가 뜨면 개별적으로 조회가 안된다는 뜻임 ex ) set()"
   ]
  },
  {
   "cell_type": "code",
   "execution_count": 87,
   "id": "d5bf05fa-76c1-46ce-942f-d1267b2d7b07",
   "metadata": {},
   "outputs": [
    {
     "name": "stdout",
     "output_type": "stream",
     "text": [
      "1 / 2 / 3 / 4 / 5 / 6 / 7 / "
     ]
    }
   ],
   "source": [
    "for v in set2:\n",
    "    print(v, sep= \" / \" , end = \" / \")"
   ]
  },
  {
   "cell_type": "markdown",
   "id": "79cf0f20",
   "metadata": {
    "slideshow": {
     "slide_type": "slide"
    }
   },
   "source": [
    "## Set 연산자\n",
    "\n",
    "-   **in, not in 연산자**\n",
    "    -   값 in Set\n",
    "        -   Set의 원소로 값이 **있으면** True, 없으면 False 반환\n",
    "    -   값 not in Set\n",
    "        -   Set의 원소로 값이 **없으면** True, 있으면 False 반환\n",
    "-   **len(Set)**\n",
    "    -   Set의 **원소의 개수** 반환\n",
    "-   **[집합연산자](#Set의-집합연산-연산자-및-메소드)**\n"
   ]
  },
  {
   "cell_type": "code",
   "execution_count": 88,
   "id": "0ce79eb8-9112-4c65-bad6-8fd21303bad6",
   "metadata": {
    "scrolled": true
   },
   "outputs": [
    {
     "data": {
      "text/plain": [
       "7"
      ]
     },
     "execution_count": 88,
     "metadata": {},
     "output_type": "execute_result"
    }
   ],
   "source": [
    "len(set2)"
   ]
  },
  {
   "cell_type": "markdown",
   "id": "080c2a17",
   "metadata": {
    "slideshow": {
     "slide_type": "slide"
    }
   },
   "source": [
    "## Set의 주요 메소드\n",
    "\n",
    "| 메소드           | 설명                                   |\n",
    "| ---------------- | -------------------------------------- |\n",
    "| add(값)          | 집합에 값 추가                         |\n",
    "| update(자료구조) | 자료구조내의 원소들을 모두 집합에 추가 |\n",
    "| pop()            | 원소를 반환하고 Set에서 삭제한다.      |\n",
    "| remove(값)       | 값을 찾아서 Set에서 삭제한다.          |\n"
   ]
  },
  {
   "cell_type": "code",
   "execution_count": 89,
   "id": "d2a32b55",
   "metadata": {},
   "outputs": [],
   "source": [
    "set55 = {2,3,7,1,6,4,3,5,8,2,2,3,7,123}"
   ]
  },
  {
   "cell_type": "code",
   "execution_count": 90,
   "id": "e2d43f89",
   "metadata": {},
   "outputs": [
    {
     "data": {
      "text/plain": [
       "{1, 2, 3, 4, 5, 6, 7, 8, 123, 3333333333333333333}"
      ]
     },
     "execution_count": 90,
     "metadata": {},
     "output_type": "execute_result"
    }
   ],
   "source": [
    "set55.add(3333333333333333333)\n",
    "set55"
   ]
  },
  {
   "cell_type": "code",
   "execution_count": 91,
   "id": "1c09c9c9-e5aa-47db-822d-7a8a8f12c844",
   "metadata": {},
   "outputs": [],
   "source": [
    "set55.update([100,200,300,400,500,500,500,100,200])"
   ]
  },
  {
   "cell_type": "code",
   "execution_count": 92,
   "id": "725ec448-d864-452c-8be5-49bad44543a1",
   "metadata": {
    "scrolled": true
   },
   "outputs": [
    {
     "data": {
      "text/plain": [
       "{1, 2, 3, 4, 5, 6, 7, 8, 100, 123, 200, 300, 400, 500, 3333333333333333333}"
      ]
     },
     "execution_count": 92,
     "metadata": {},
     "output_type": "execute_result"
    }
   ],
   "source": [
    "set55"
   ]
  },
  {
   "cell_type": "code",
   "execution_count": 93,
   "id": "e8ebdc61-8faf-4023-bb7e-1693b0c58a55",
   "metadata": {},
   "outputs": [],
   "source": [
    "set55.remove(3333333333333333333)"
   ]
  },
  {
   "cell_type": "code",
   "execution_count": 94,
   "id": "e2a66dd6-0062-4781-a147-894809dbe0d9",
   "metadata": {},
   "outputs": [
    {
     "name": "stdout",
     "output_type": "stream",
     "text": [
      "1\n"
     ]
    }
   ],
   "source": [
    "a = set55.pop()\n",
    "print(a)"
   ]
  },
  {
   "cell_type": "code",
   "execution_count": 95,
   "id": "b3b41671-af8f-409a-969b-ef70bfcb5fc8",
   "metadata": {
    "scrolled": true
   },
   "outputs": [
    {
     "data": {
      "text/plain": [
       "{2, 3, 4, 5, 6, 7, 8, 100, 123, 200, 300, 400, 500}"
      ]
     },
     "execution_count": 95,
     "metadata": {},
     "output_type": "execute_result"
    }
   ],
   "source": [
    "set55"
   ]
  },
  {
   "cell_type": "code",
   "execution_count": 96,
   "id": "f437b1cd-f6cf-480b-8bab-5c4fabd6fc47",
   "metadata": {},
   "outputs": [
    {
     "data": {
      "text/plain": [
       "(dict, set)"
      ]
     },
     "execution_count": 96,
     "metadata": {},
     "output_type": "execute_result"
    }
   ],
   "source": [
    "type({}),type(set())"
   ]
  },
  {
   "cell_type": "code",
   "execution_count": 97,
   "id": "4075bf29-a888-49ea-9465-0a8ffed86632",
   "metadata": {},
   "outputs": [],
   "source": [
    "a = type({}),type(set())"
   ]
  },
  {
   "cell_type": "code",
   "execution_count": 98,
   "id": "c0dbfc66-0252-474e-a48c-7bedddd5822f",
   "metadata": {},
   "outputs": [
    {
     "data": {
      "text/plain": [
       "tuple"
      ]
     },
     "execution_count": 98,
     "metadata": {},
     "output_type": "execute_result"
    }
   ],
   "source": [
    "type(a)"
   ]
  },
  {
   "cell_type": "markdown",
   "id": "33d115cd",
   "metadata": {
    "slideshow": {
     "slide_type": "subslide"
    }
   },
   "source": [
    "## Set의 집합연산 연산자 및 메소드\n",
    "\n",
    "-   합집합\n",
    "    -   집합A | 집합B\n",
    "    -   집합A.union(집합B)\n",
    "-   교집합\n",
    "    -   집합A & 집합B\n",
    "    -   집합A.intersection(집합B)\n",
    "-   차집합\n",
    "    -   집합A - 집합B\n",
    "    -   집합A.difference(집합B)\n"
   ]
  },
  {
   "cell_type": "code",
   "execution_count": 99,
   "id": "cf4c5cc5-a32f-47c3-8d5b-029df97b5adc",
   "metadata": {},
   "outputs": [
    {
     "name": "stdout",
     "output_type": "stream",
     "text": [
      "{1, 2, 3, 4, 5}\n",
      "{1, 2, 3, 4, 5}\n"
     ]
    }
   ],
   "source": [
    "set1 = {1,2,3}\n",
    "set2 = {3,4,5}\n",
    "print(set1|set2)\n",
    "print(set1.union(set2))"
   ]
  },
  {
   "cell_type": "code",
   "execution_count": 100,
   "id": "2d067bcc-9622-4524-9f64-e7ce2ae8eba0",
   "metadata": {},
   "outputs": [
    {
     "name": "stdout",
     "output_type": "stream",
     "text": [
      "{3}\n",
      "{3}\n"
     ]
    }
   ],
   "source": [
    "set1 = {1,2,3}\n",
    "set2 = {3,4,5}\n",
    "print(set1&set2)\n",
    "print(set1.intersection(set2))"
   ]
  },
  {
   "cell_type": "code",
   "execution_count": 101,
   "id": "39a595f3-49c6-4eba-86ae-1db1a7ebcf76",
   "metadata": {},
   "outputs": [
    {
     "name": "stdout",
     "output_type": "stream",
     "text": [
      "{1, 2}\n",
      "{1, 2}\n"
     ]
    }
   ],
   "source": [
    "set1 = {1,2,3}\n",
    "set2 = {3,4,5}\n",
    "print(set1-set2)\n",
    "print(set1.difference(set2))"
   ]
  },
  {
   "cell_type": "markdown",
   "id": "17bf4f71",
   "metadata": {},
   "source": [
    "# 자료구조를 이용한 대입\n",
    "\n",
    "-   리스트, 튜플, 셋의 원소들을 개별 변수에 대입한다. 어느 자료구조에 적용하느냐에 따라 **리스트 대입, 튜플 대입, 셋 대입** 이라고 한다. 이중 리스트대입이나 튜플대입은 많이 사용된다.\n",
    "-   변수의 개수와 리스트 원소의 개수는 동일해야 한다.\n"
   ]
  },
  {
   "cell_type": "code",
   "execution_count": 102,
   "id": "d62a54b0-7768-46cb-8e64-3ccaf8656e40",
   "metadata": {},
   "outputs": [],
   "source": [
    "d = \"가\""
   ]
  },
  {
   "cell_type": "code",
   "execution_count": 103,
   "id": "bf3c0435-d1a9-4513-be81-96815a000da2",
   "metadata": {},
   "outputs": [],
   "source": [
    "a,b,c,d = 10,20,30,\"가\""
   ]
  },
  {
   "cell_type": "code",
   "execution_count": 104,
   "id": "73b925bb",
   "metadata": {},
   "outputs": [
    {
     "name": "stdout",
     "output_type": "stream",
     "text": [
      "10 20 30 가\n"
     ]
    }
   ],
   "source": [
    "print(a,b,c,d)"
   ]
  },
  {
   "cell_type": "code",
   "execution_count": 105,
   "id": "64bf5839",
   "metadata": {
    "slideshow": {
     "slide_type": "fragment"
    }
   },
   "outputs": [
    {
     "name": "stdout",
     "output_type": "stream",
     "text": [
      "True True False\n",
      "400 100 500 200 300\n"
     ]
    }
   ],
   "source": [
    "x,y,z = [True,True,False]\n",
    "l,m,n,o,p = {100,200,300,400,500}\n",
    "print(x,y,z)\n",
    "print(l,m,n,o,p)"
   ]
  },
  {
   "cell_type": "code",
   "execution_count": 106,
   "id": "ee1a97eb-0e30-440b-9cf8-623484a51a32",
   "metadata": {},
   "outputs": [],
   "source": [
    "l1 = [10,20,30]"
   ]
  },
  {
   "cell_type": "code",
   "execution_count": 107,
   "id": "1db9052e-9a3e-4838-9714-d01b51fcb5b6",
   "metadata": {},
   "outputs": [],
   "source": [
    "x1, x2, x3 = l1"
   ]
  },
  {
   "cell_type": "code",
   "execution_count": 108,
   "id": "64afb3e7-2a2a-4729-b208-3ec274760d0c",
   "metadata": {},
   "outputs": [
    {
     "name": "stdout",
     "output_type": "stream",
     "text": [
      "10 20 30\n"
     ]
    }
   ],
   "source": [
    "print(x1,x2,x3)"
   ]
  },
  {
   "cell_type": "markdown",
   "id": "a3778f41",
   "metadata": {
    "slideshow": {
     "slide_type": "slide"
    }
   },
   "source": [
    "# 자료구조 변환 함수\n",
    "\n",
    "-   **list(자료구조)**\n",
    "    -   대상 자료구조/Iterable을 List로 변환한다.\n",
    "-   **tuple(자료구조)**\n",
    "    -   대상 자료구조/Iterable을 Tuple로 변환\n",
    "-   **set(자료구조)**\n",
    "    -   대상 자료구조/Iterable을 Set으로 변환\n",
    "    -   다른 자료구조의 원소 중 중복을 빼고 조회할 때 set()를 이용해 Set으로 변환한다.\n",
    "-   Dictionary로 변환하는 함수는 없다.\n",
    "    -   dict(key=value, ..) 는 딕셔너리 생성하는 함수이다.\n",
    "-   변경 대상이 Dictionary 일 경우에는 key값들만 모아서 변환한다.\n",
    "\n",
    "> -   **Iterable**\n",
    ">     -   반복가능한 객체.\n",
    ">     -   여러개의 값을 요청을 받을 때마다 하나씩 제공해주는 타입을 iterable 이라고 함.\n",
    ">         -   Iterable이 제공하는 값을 반복문을 이용해 조회할 경우 **for in문**을 사용한다.\n",
    ">     -   대표적으로 자료구조, 문자열 등이 있다.\n"
   ]
  },
  {
   "cell_type": "code",
   "execution_count": 109,
   "id": "07fd6373",
   "metadata": {
    "slideshow": {
     "slide_type": "fragment"
    }
   },
   "outputs": [
    {
     "name": "stdout",
     "output_type": "stream",
     "text": [
      "<class 'list'>\n"
     ]
    }
   ],
   "source": [
    "l = [1,2,3,4,5,6,7]\n",
    "print(type(l))"
   ]
  },
  {
   "cell_type": "code",
   "execution_count": 110,
   "id": "f3a60fda-9a3d-4c8a-b217-b560d58cfddd",
   "metadata": {},
   "outputs": [],
   "source": [
    "t = tuple(l)"
   ]
  },
  {
   "cell_type": "code",
   "execution_count": 111,
   "id": "ca3aa038-5e2d-4256-88ba-f7cb66336758",
   "metadata": {},
   "outputs": [
    {
     "data": {
      "text/plain": [
       "(1, 2, 3, 4, 5, 6, 7)"
      ]
     },
     "execution_count": 111,
     "metadata": {},
     "output_type": "execute_result"
    }
   ],
   "source": [
    "t"
   ]
  },
  {
   "cell_type": "code",
   "execution_count": 112,
   "id": "280f1f03-2952-4d59-bacb-a1cc280914b0",
   "metadata": {},
   "outputs": [
    {
     "data": {
      "text/plain": [
       "tuple"
      ]
     },
     "execution_count": 112,
     "metadata": {},
     "output_type": "execute_result"
    }
   ],
   "source": [
    "type(t)"
   ]
  },
  {
   "cell_type": "code",
   "execution_count": 113,
   "id": "a331adb9-4dd4-4a23-9c9d-4b473b6c3d10",
   "metadata": {},
   "outputs": [],
   "source": [
    "s = set(t)"
   ]
  },
  {
   "cell_type": "code",
   "execution_count": 114,
   "id": "185e389e-8aa8-49ec-96e1-478e36fb948c",
   "metadata": {},
   "outputs": [
    {
     "data": {
      "text/plain": [
       "{1, 2, 3, 4, 5, 6, 7}"
      ]
     },
     "execution_count": 114,
     "metadata": {},
     "output_type": "execute_result"
    }
   ],
   "source": [
    "s"
   ]
  },
  {
   "cell_type": "code",
   "execution_count": 115,
   "id": "e19198bf-1f08-485f-bc9d-de3ce9f7861b",
   "metadata": {},
   "outputs": [
    {
     "data": {
      "text/plain": [
       "set"
      ]
     },
     "execution_count": 115,
     "metadata": {},
     "output_type": "execute_result"
    }
   ],
   "source": [
    "type(s)"
   ]
  },
  {
   "cell_type": "code",
   "execution_count": 116,
   "id": "3e685ac7-40c3-4007-a324-244191cae396",
   "metadata": {},
   "outputs": [],
   "source": [
    "l2 = list(s)"
   ]
  },
  {
   "cell_type": "code",
   "execution_count": 117,
   "id": "0b0bc2af-76aa-4fd1-a5b9-1057f7fa289e",
   "metadata": {
    "scrolled": true
   },
   "outputs": [
    {
     "data": {
      "text/plain": [
       "list"
      ]
     },
     "execution_count": 117,
     "metadata": {},
     "output_type": "execute_result"
    }
   ],
   "source": [
    "type(l2)"
   ]
  },
  {
   "cell_type": "code",
   "execution_count": 118,
   "id": "bb8e4261-e95d-4d75-a7a0-554c87007383",
   "metadata": {},
   "outputs": [
    {
     "data": {
      "text/plain": [
       "[1, 2, 3, 6, 7, 12, 100]"
      ]
     },
     "execution_count": 118,
     "metadata": {},
     "output_type": "execute_result"
    }
   ],
   "source": [
    "l = [1,2,3,2,1,1,12,6,7,100]\n",
    "s = set(l)\n",
    "l_unique = list(s)\n",
    "l_unique\n",
    "l_unique.sort()\n",
    "l_unique"
   ]
  },
  {
   "cell_type": "code",
   "execution_count": 119,
   "id": "c3a7b710-4a83-49be-925d-08945650acef",
   "metadata": {},
   "outputs": [
    {
     "data": {
      "text/plain": [
       "['이름', '나이', '주소']"
      ]
     },
     "execution_count": 119,
     "metadata": {},
     "output_type": "execute_result"
    }
   ],
   "source": [
    "d = {\"이름\": \"홍길동\", '나이': 20, \"주소\":\"서울\"}\n",
    "list(d)\n",
    "# 딕셔너리를 리스트화 하면 키값만 씀"
   ]
  },
  {
   "cell_type": "code",
   "execution_count": 120,
   "id": "f9413e8d-ea88-40e5-8149-de4b91f0338e",
   "metadata": {},
   "outputs": [
    {
     "data": {
      "text/plain": [
       "'a / b / c / d / e / f'"
      ]
     },
     "execution_count": 120,
     "metadata": {},
     "output_type": "execute_result"
    }
   ],
   "source": [
    "# 자료구조의 문자열들을 한 문자열로 합치기\n",
    "## \" 구분자\".join(합칠대상_iterable)\n",
    "l = \"abcdef\"\n",
    "list(l)\n",
    "\" / \".join(l)"
   ]
  },
  {
   "cell_type": "markdown",
   "id": "b4671a5d",
   "metadata": {
    "slideshow": {
     "slide_type": "skip"
    }
   },
   "source": [
    "# TODO\n"
   ]
  },
  {
   "cell_type": "code",
   "execution_count": 1,
   "id": "23ed41a7-fa21-445c-b2f0-b606b3c1d497",
   "metadata": {
    "slideshow": {
     "slide_type": "skip"
    }
   },
   "outputs": [
    {
     "name": "stdout",
     "output_type": "stream",
     "text": [
      "아래의 리스트는 학생번호 1번 ~ 10번까지 10명의 시험 점수이다.\n",
      "[100, 90, 100, 80, 70, 100, 80, 90, 95, 85]\n"
     ]
    }
   ],
   "source": [
    "# 문제 1 ~ 7\n",
    "jumsu = [100, 90, 100, 80, 70, 100, 80, 90, 95, 85]\n",
    "print(\"아래의 리스트는 학생번호 1번 ~ 10번까지 10명의 시험 점수이다.\")\n",
    "print(jumsu)"
   ]
  },
  {
   "cell_type": "code",
   "execution_count": 2,
   "id": "c20930ce-9d6b-42b9-8250-2563bed63f8f",
   "metadata": {
    "slideshow": {
     "slide_type": "skip"
    }
   },
   "outputs": [
    {
     "name": "stdout",
     "output_type": "stream",
     "text": [
      "(1)  7번의 점수를 출력하세요\n",
      "1번 문제의 정답은 :  80\n"
     ]
    }
   ],
   "source": [
    "print(\"(1)  7번의 점수를 출력하세요\")\n",
    "print(\"1번 문제의 정답은 : \",jumsu[6])"
   ]
  },
  {
   "cell_type": "code",
   "execution_count": 3,
   "id": "ee88e47b-639d-4aa8-8ea6-65ab63883601",
   "metadata": {
    "slideshow": {
     "slide_type": "skip"
    }
   },
   "outputs": [
    {
     "name": "stdout",
     "output_type": "stream",
     "text": [
      "(2)  1번부터 5번까지의 점수를 출력하세요.\n",
      "2번 문제의 정답은 :  [100, 90, 100, 80, 70]\n"
     ]
    }
   ],
   "source": [
    "print(\"(2)  1번부터 5번까지의 점수를 출력하세요.\")\n",
    "print(\"2번 문제의 정답은 : \",jumsu[:5])"
   ]
  },
  {
   "cell_type": "code",
   "execution_count": 4,
   "id": "1ad8bf9d-3ed2-4679-969c-5f7e081536a4",
   "metadata": {
    "slideshow": {
     "slide_type": "skip"
    }
   },
   "outputs": [
    {
     "name": "stdout",
     "output_type": "stream",
     "text": [
      "(3)  4, 5, 6, 7번의 점수를 출력하세요.\n",
      "3번 문제의 정답은 :  [80, 70, 100, 80]\n"
     ]
    }
   ],
   "source": [
    "print(\"(3)  4, 5, 6, 7번의 점수를 출력하세요.\")\n",
    "print(\"3번 문제의 정답은 : \",jumsu[3:7])"
   ]
  },
  {
   "cell_type": "code",
   "execution_count": 5,
   "id": "d1813c50-5eaa-459b-9cc5-0f24b84abde8",
   "metadata": {
    "slideshow": {
     "slide_type": "skip"
    }
   },
   "outputs": [
    {
     "name": "stdout",
     "output_type": "stream",
     "text": [
      "(4) 짝수번째 점수를 출력하세요.\n",
      "4번 문제의 정답은 :  [90, 80, 100, 90, 85]\n"
     ]
    }
   ],
   "source": [
    "print(\"(4) 짝수번째 점수를 출력하세요.\")\n",
    "print(\"4번 문제의 정답은 : \",jumsu[1::2])"
   ]
  },
  {
   "cell_type": "code",
   "execution_count": 6,
   "id": "5adbcb21-1fce-4a29-ab63-fc4b4602e8af",
   "metadata": {
    "slideshow": {
     "slide_type": "skip"
    }
   },
   "outputs": [
    {
     "name": "stdout",
     "output_type": "stream",
     "text": [
      "(5) 홀수번째 점수를 출력하세요.\n",
      "5번 문제의 정답은 :  [100, 100, 70, 80, 95]\n"
     ]
    }
   ],
   "source": [
    "print(\"(5) 홀수번째 점수를 출력하세요.\")\n",
    "print(\"5번 문제의 정답은 : \",jumsu[::2])"
   ]
  },
  {
   "cell_type": "code",
   "execution_count": 7,
   "id": "be27e20c-c566-4e11-9ba1-18ce246dcd13",
   "metadata": {
    "slideshow": {
     "slide_type": "skip"
    }
   },
   "outputs": [
    {
     "name": "stdout",
     "output_type": "stream",
     "text": [
      "(6) 9번의 점수를 20으로 변경하고 전체 출력하세요.\n",
      "6번 문제의 정답은 :  [100, 90, 100, 80, 70, 100, 80, 90, 20, 85]\n"
     ]
    }
   ],
   "source": [
    "print(\"(6) 9번의 점수를 20으로 변경하고 전체 출력하세요.\")\n",
    "jumsu[8]=20\n",
    "print(\"6번 문제의 정답은 : \",jumsu)"
   ]
  },
  {
   "cell_type": "code",
   "execution_count": 8,
   "id": "85213ae7-94e7-4017-aee4-50a2701bfa83",
   "metadata": {
    "slideshow": {
     "slide_type": "skip"
    }
   },
   "outputs": [
    {
     "name": "stdout",
     "output_type": "stream",
     "text": [
      "(7) 중복된 점수는 제거하고 하나씩만 나오도록 출력하세요.\n",
      "7번 문제의 정답은 :  [100, 70, 80, 20, 85, 90]\n"
     ]
    }
   ],
   "source": [
    "print(\"(7) 중복된 점수는 제거하고 하나씩만 나오도록 출력하세요.\")\n",
    "jumsu2 = set(jumsu)\n",
    "jumsu3 = list(jumsu2)\n",
    "print(\"7번 문제의 정답은 : \",jumsu3)"
   ]
  },
  {
   "cell_type": "code",
   "execution_count": 9,
   "id": "9536be82-67da-4c39-93a6-00ada7fac11c",
   "metadata": {
    "slideshow": {
     "slide_type": "skip"
    }
   },
   "outputs": [
    {
     "name": "stdout",
     "output_type": "stream",
     "text": [
      "(8) fruits 리스트에 마지막 원소로 \"사과\", \"귤\"을 추가하세요.\n",
      "['복숭아', '수박', '딸기', '사과', '귤']\n"
     ]
    }
   ],
   "source": [
    "# 문제 8 ~ 9\n",
    "fruits = [\"복숭아\", \"수박\", \"딸기\"]\n",
    "# print(fruits)\n",
    "print('(8) fruits 리스트에 마지막 원소로 \"사과\", \"귤\"을 추가하세요.')\n",
    "fruits.extend([\"사과\",\"귤\"])\n",
    "# fruits.append(\"사과\")\n",
    "# fruits.append(\"귤\")\n",
    "print(fruits)"
   ]
  },
  {
   "cell_type": "code",
   "execution_count": 10,
   "id": "bbe3a8eb-7f6e-49b5-af23-6dcd66fb2577",
   "metadata": {
    "slideshow": {
     "slide_type": "skip"
    }
   },
   "outputs": [
    {
     "name": "stdout",
     "output_type": "stream",
     "text": [
      "(9) fruits 리스트에서 \"복숭아\"를 제거하세요.\n",
      "['수박', '딸기', '사과', '귤']\n"
     ]
    }
   ],
   "source": [
    "print('(9) fruits 리스트에서 \"복숭아\"를 제거하세요.')\n",
    "fruits.remove(\"복숭아\")\n",
    "# fruits.pop(0) # 순서를 알기때문에 가능한 코드\n",
    "# del fruits[0] # 순서를 알기때문에 가능한 코드 2\n",
    "print(fruits)"
   ]
  },
  {
   "cell_type": "code",
   "execution_count": 11,
   "id": "b8b65773-02b2-420d-9ca4-5ec521a80b89",
   "metadata": {
    "slideshow": {
     "slide_type": "skip"
    }
   },
   "outputs": [
    {
     "name": "stdout",
     "output_type": "stream",
     "text": [
      "(10)본인의 이름, 나이, email주소, 취미, 결혼유무를 사전(딕셔너리)으로 생성.\n"
     ]
    }
   ],
   "source": [
    "# 문제 10 ~ 15\n",
    "print(\"(10)본인의 이름, 나이, email주소, 취미, 결혼유무를 사전(딕셔너리)으로 생성.\")\n",
    "# 취미는 2개 이상의 값을 넣는다..\n",
    "dic = dict(\n",
    "    이름=\"김지민\",\n",
    "    나이=26,\n",
    "    email=\"kzm0502@naver.com\",\n",
    "    취미=[\"영화보기\",\"노래듣기\"],\n",
    "    결혼유무=False\n",
    ")\n",
    "# print(dic)"
   ]
  },
  {
   "cell_type": "code",
   "execution_count": 12,
   "id": "47d24b13-611b-4ceb-9dfd-959816b2c303",
   "metadata": {
    "slideshow": {
     "slide_type": "skip"
    }
   },
   "outputs": [
    {
     "name": "stdout",
     "output_type": "stream",
     "text": [
      "(11) 위 딕셔너리에서 이름과 email주소를 조회해서 출력하세요.\n",
      "김지민 kzm0502@naver.com\n"
     ]
    }
   ],
   "source": [
    "print('(11) 위 딕셔너리에서 이름과 email주소를 조회해서 출력하세요.')\n",
    "print(dic[\"이름\"],dic[\"email\"])"
   ]
  },
  {
   "cell_type": "code",
   "execution_count": 13,
   "id": "ebbf71be-9d9f-4d61-92f5-e6ae786a7934",
   "metadata": {
    "scrolled": true,
    "slideshow": {
     "slide_type": "skip"
    }
   },
   "outputs": [
    {
     "name": "stdout",
     "output_type": "stream",
     "text": [
      "(12) 위 딕셔너리에서 취미중 두번째 취미를 조회해서 출력하세요.\n",
      "노래듣기\n"
     ]
    }
   ],
   "source": [
    "print('(12) 위 딕셔너리에서 취미중 두번째 취미를 조회해서 출력하세요.')\n",
    "print(dic[\"취미\"][1])"
   ]
  },
  {
   "cell_type": "code",
   "execution_count": 14,
   "id": "0da88ba9-21a0-4a71-ab72-3d1e46edc2f2",
   "metadata": {
    "scrolled": true,
    "slideshow": {
     "slide_type": "skip"
    }
   },
   "outputs": [
    {
     "name": "stdout",
     "output_type": "stream",
     "text": [
      "(13) 위 딕셔너리에 몸무게와 키 항목을 추가하세요.\n",
      "{'이름': '김지민', '나이': 26, 'email': 'kzm0502@naver.com', '취미': ['영화보기', '노래듣기'], '결혼유무': False, '몸무게': '75kg', '키': 177}\n"
     ]
    }
   ],
   "source": [
    "print('(13) 위 딕셔너리에 몸무게와 키 항목을 추가하세요.')\n",
    "dic[\"몸무게\"] = \"75kg\"\n",
    "dic[\"키\"] = 177\n",
    "print(dic)"
   ]
  },
  {
   "cell_type": "code",
   "execution_count": 15,
   "id": "144b5004-1a3a-4606-bfd1-b7890c72404e",
   "metadata": {
    "scrolled": true,
    "slideshow": {
     "slide_type": "skip"
    }
   },
   "outputs": [
    {
     "name": "stdout",
     "output_type": "stream",
     "text": [
      "(14) 위 딕셔너리에서 email 주소를 다른 값으로 변경하세요.\n",
      "{'이름': '김지민', '나이': 26, 'email': 'kimzimin0502@gmail.com', '취미': ['영화보기', '노래듣기'], '결혼유무': False, '몸무게': '75kg', '키': 177}\n"
     ]
    }
   ],
   "source": [
    "print('(14) 위 딕셔너리에서 email 주소를 다른 값으로 변경하세요.')\n",
    "dic[\"email\"] = \"kimzimin0502@gmail.com\"\n",
    "print(dic)"
   ]
  },
  {
   "cell_type": "code",
   "execution_count": 16,
   "id": "c068881b-2775-4a9b-8f47-feaf0e606a55",
   "metadata": {
    "scrolled": true,
    "slideshow": {
     "slide_type": "skip"
    }
   },
   "outputs": [
    {
     "name": "stdout",
     "output_type": "stream",
     "text": [
      "(15) 위 딕셔너리에서 나이를 제거하세요.\n",
      "{'이름': '김지민', 'email': 'kimzimin0502@gmail.com', '취미': ['영화보기', '노래듣기'], '결혼유무': False, '몸무게': '75kg', '키': 177}\n"
     ]
    }
   ],
   "source": [
    "print('(15) 위 딕셔너리에서 나이를 제거하세요.')\n",
    "# del dic[\"나이\"]\n",
    "dic.pop(\"나이\")\n",
    "print(dic)"
   ]
  },
  {
   "cell_type": "code",
   "execution_count": null,
   "id": "0a5da9b6-e705-443d-b182-e08c8238dec1",
   "metadata": {},
   "outputs": [],
   "source": []
  },
  {
   "cell_type": "code",
   "execution_count": null,
   "id": "eeac20d0-16de-41ca-874c-055f17d43239",
   "metadata": {},
   "outputs": [],
   "source": []
  },
  {
   "cell_type": "code",
   "execution_count": null,
   "id": "8aa716f5-b76c-4bae-87cf-77f1692221da",
   "metadata": {},
   "outputs": [],
   "source": []
  },
  {
   "cell_type": "code",
   "execution_count": 14,
   "id": "87e11437-af65-4733-ad41-02dd9373b7b4",
   "metadata": {
    "scrolled": true
   },
   "outputs": [
    {
     "name": "stdout",
     "output_type": "stream",
     "text": [
      "{100: 20, '100': 30}\n"
     ]
    },
    {
     "data": {
      "text/plain": [
       "30"
      ]
     },
     "execution_count": 14,
     "metadata": {},
     "output_type": "execute_result"
    }
   ],
   "source": [
    "dic2= {100:20, \"100\":30}\n",
    "print(dic2)\n",
    "\n",
    "dic2[\"100\"]"
   ]
  },
  {
   "cell_type": "code",
   "execution_count": 15,
   "id": "5f5c7882-6012-4eee-91b1-f61755388ae9",
   "metadata": {},
   "outputs": [
    {
     "name": "stdout",
     "output_type": "stream",
     "text": [
      "{100: 20, '100': 30}\n"
     ]
    }
   ],
   "source": [
    "dic3 = dict([(100,20),(\"100\",30)])\n",
    "print(dic3)"
   ]
  },
  {
   "cell_type": "code",
   "execution_count": 126,
   "id": "4260e227-0e5c-4de6-a396-7e0fbfbb4313",
   "metadata": {},
   "outputs": [
    {
     "name": "stdout",
     "output_type": "stream",
     "text": [
      "Help on class dict in module builtins:\n",
      "\n",
      "class dict(object)\n",
      " |  dict() -> new empty dictionary\n",
      " |  dict(mapping) -> new dictionary initialized from a mapping object's\n",
      " |      (key, value) pairs\n",
      " |  dict(iterable) -> new dictionary initialized as if via:\n",
      " |      d = {}\n",
      " |      for k, v in iterable:\n",
      " |          d[k] = v\n",
      " |  dict(**kwargs) -> new dictionary initialized with the name=value pairs\n",
      " |      in the keyword argument list.  For example:  dict(one=1, two=2)\n",
      " |\n",
      " |  Built-in subclasses:\n",
      " |      StgDict\n",
      " |\n",
      " |  Methods defined here:\n",
      " |\n",
      " |  __contains__(self, key, /)\n",
      " |      True if the dictionary has the specified key, else False.\n",
      " |\n",
      " |  __delitem__(self, key, /)\n",
      " |      Delete self[key].\n",
      " |\n",
      " |  __eq__(self, value, /)\n",
      " |      Return self==value.\n",
      " |\n",
      " |  __ge__(self, value, /)\n",
      " |      Return self>=value.\n",
      " |\n",
      " |  __getattribute__(self, name, /)\n",
      " |      Return getattr(self, name).\n",
      " |\n",
      " |  __getitem__(self, key, /)\n",
      " |      Return self[key].\n",
      " |\n",
      " |  __gt__(self, value, /)\n",
      " |      Return self>value.\n",
      " |\n",
      " |  __init__(self, /, *args, **kwargs)\n",
      " |      Initialize self.  See help(type(self)) for accurate signature.\n",
      " |\n",
      " |  __ior__(self, value, /)\n",
      " |      Return self|=value.\n",
      " |\n",
      " |  __iter__(self, /)\n",
      " |      Implement iter(self).\n",
      " |\n",
      " |  __le__(self, value, /)\n",
      " |      Return self<=value.\n",
      " |\n",
      " |  __len__(self, /)\n",
      " |      Return len(self).\n",
      " |\n",
      " |  __lt__(self, value, /)\n",
      " |      Return self<value.\n",
      " |\n",
      " |  __ne__(self, value, /)\n",
      " |      Return self!=value.\n",
      " |\n",
      " |  __or__(self, value, /)\n",
      " |      Return self|value.\n",
      " |\n",
      " |  __repr__(self, /)\n",
      " |      Return repr(self).\n",
      " |\n",
      " |  __reversed__(self, /)\n",
      " |      Return a reverse iterator over the dict keys.\n",
      " |\n",
      " |  __ror__(self, value, /)\n",
      " |      Return value|self.\n",
      " |\n",
      " |  __setitem__(self, key, value, /)\n",
      " |      Set self[key] to value.\n",
      " |\n",
      " |  __sizeof__(...)\n",
      " |      D.__sizeof__() -> size of D in memory, in bytes\n",
      " |\n",
      " |  clear(...)\n",
      " |      D.clear() -> None.  Remove all items from D.\n",
      " |\n",
      " |  copy(...)\n",
      " |      D.copy() -> a shallow copy of D\n",
      " |\n",
      " |  get(self, key, default=None, /)\n",
      " |      Return the value for key if key is in the dictionary, else default.\n",
      " |\n",
      " |  items(...)\n",
      " |      D.items() -> a set-like object providing a view on D's items\n",
      " |\n",
      " |  keys(...)\n",
      " |      D.keys() -> a set-like object providing a view on D's keys\n",
      " |\n",
      " |  pop(...)\n",
      " |      D.pop(k[,d]) -> v, remove specified key and return the corresponding value.\n",
      " |\n",
      " |      If the key is not found, return the default if given; otherwise,\n",
      " |      raise a KeyError.\n",
      " |\n",
      " |  popitem(self, /)\n",
      " |      Remove and return a (key, value) pair as a 2-tuple.\n",
      " |\n",
      " |      Pairs are returned in LIFO (last-in, first-out) order.\n",
      " |      Raises KeyError if the dict is empty.\n",
      " |\n",
      " |  setdefault(self, key, default=None, /)\n",
      " |      Insert key with a value of default if key is not in the dictionary.\n",
      " |\n",
      " |      Return the value for key if key is in the dictionary, else default.\n",
      " |\n",
      " |  update(...)\n",
      " |      D.update([E, ]**F) -> None.  Update D from mapping/iterable E and F.\n",
      " |      If E is present and has a .keys() method, then does:  for k in E.keys(): D[k] = E[k]\n",
      " |      If E is present and lacks a .keys() method, then does:  for k, v in E: D[k] = v\n",
      " |      In either case, this is followed by: for k in F:  D[k] = F[k]\n",
      " |\n",
      " |  values(...)\n",
      " |      D.values() -> an object providing a view on D's values\n",
      " |\n",
      " |  ----------------------------------------------------------------------\n",
      " |  Class methods defined here:\n",
      " |\n",
      " |  __class_getitem__(...)\n",
      " |      See PEP 585\n",
      " |\n",
      " |  fromkeys(iterable, value=None, /)\n",
      " |      Create a new dictionary with keys from iterable and values set to value.\n",
      " |\n",
      " |  ----------------------------------------------------------------------\n",
      " |  Static methods defined here:\n",
      " |\n",
      " |  __new__(*args, **kwargs)\n",
      " |      Create and return a new object.  See help(type) for accurate signature.\n",
      " |\n",
      " |  ----------------------------------------------------------------------\n",
      " |  Data and other attributes defined here:\n",
      " |\n",
      " |  __hash__ = None\n",
      "\n"
     ]
    }
   ],
   "source": [
    "help(dict)"
   ]
  }
 ],
 "metadata": {
  "kernelspec": {
   "display_name": "Python 3 (ipykernel)",
   "language": "python",
   "name": "python3"
  },
  "language_info": {
   "codemirror_mode": {
    "name": "ipython",
    "version": 3
   },
   "file_extension": ".py",
   "mimetype": "text/x-python",
   "name": "python",
   "nbconvert_exporter": "python",
   "pygments_lexer": "ipython3",
   "version": "3.12.9"
  },
  "toc": {
   "base_numbering": 1,
   "nav_menu": {},
   "number_sections": true,
   "sideBar": true,
   "skip_h1_title": false,
   "title_cell": "Table of Contents",
   "title_sidebar": "Contents",
   "toc_cell": false,
   "toc_position": {
    "height": "calc(100% - 180px)",
    "left": "10px",
    "top": "150px",
    "width": "512px"
   },
   "toc_section_display": true,
   "toc_window_display": true
  },
  "varInspector": {
   "cols": {
    "lenName": 16,
    "lenType": 16,
    "lenVar": 40
   },
   "kernels_config": {
    "python": {
     "delete_cmd_postfix": "",
     "delete_cmd_prefix": "del ",
     "library": "var_list.py",
     "varRefreshCmd": "print(var_dic_list())"
    },
    "r": {
     "delete_cmd_postfix": ") ",
     "delete_cmd_prefix": "rm(",
     "library": "var_list.r",
     "varRefreshCmd": "cat(var_dic_list()) "
    }
   },
   "types_to_exclude": [
    "module",
    "function",
    "builtin_function_or_method",
    "instance",
    "_Feature"
   ],
   "window_display": false
  }
 },
 "nbformat": 4,
 "nbformat_minor": 5
}
