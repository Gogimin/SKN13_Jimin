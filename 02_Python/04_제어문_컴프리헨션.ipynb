{
 "cells": [
  {
   "cell_type": "markdown",
   "id": "8c49cd8e",
   "metadata": {
    "slideshow": {
     "slide_type": "slide"
    }
   },
   "source": [
    "# 제어문(Control flow statement)\n",
    "\n",
    "기본적으로 프로그램은 순차구조를 가진다. 즉 작성한 순서대로 실행이 된다.  \n",
    "이런 실행흐름을 다른 순서로 제어하기 위한 구문을 만드는 문법이 제어문이다.  \n",
    "제어문은 **조건문** 과 **반복문** 두가지 문법이 있다.\n",
    "\n",
    "-   **조건문**\n",
    "    -   if 문\n",
    "-   **반복문**\n",
    "    -   while 문\n",
    "    -   for in 문\n"
   ]
  },
  {
   "cell_type": "markdown",
   "id": "92c502ce",
   "metadata": {
    "slideshow": {
     "slide_type": "slide"
    }
   },
   "source": [
    "# 조건문/분기문 (conditional statement)\n",
    "\n",
    "-   프로그램이 명령문들을 실행하는 도중 특정 순서에서 **조건에 따라 흐름의 나눠져야 하는 경우 사용한다**\n",
    "-   파이썬은 조건문으로 **if문**이 있다.\n",
    "\n",
    "![조건문](images/ch03_01.png)\n",
    "\n",
    "<center>입력 받은 a 의 값이 0인지 여부에 따라 두가지 흐름으로 분기된다.</center>\n"
   ]
  },
  {
   "cell_type": "markdown",
   "id": "2a3c1835",
   "metadata": {
    "slideshow": {
     "slide_type": "subslide"
    }
   },
   "source": [
    "## 구문\n",
    "\n",
    "-   조건이 True일 경우만 특정 구문들을 실행 하는 조건문.\n",
    "\n",
    "```python\n",
    "if 조건:    # 조건은 bool 표현식을 기술한다. 조건선언 다음에 : 으로 선언해서 코드블록을 구분한다.\n",
    "    명령문1  # 조건이 True이면 실행할 구문들을 코드블럭에 기술한다.\n",
    "    명령문2  # 코드 블록은 들여쓰기를 이용해 묶어준다. 보통 공백 4칸으로 들여쓰기를 한다.\n",
    "    ...\n",
    "```\n",
    "\n",
    "> ### 파이썬의 코드블록(code block)\n",
    ">\n",
    "> 코드블록이란 **여러 명령문들을 묶어놓은 것을** 말한다. 코드블록으로 묶이면 실행시 같이 다 실행되고 실행이 안되면 같이 다 실행이 안된다.  \n",
    "> 파이썬에서는 코드블록을 작성할 때 **들여쓰기를 이용해 묶어준다.**  \n",
    "> 같은 칸만큼 들여쓰기를 한 명령문들이 같은 블록으로 묶인다.\n",
    "> 들여쓰기는 관례적으로 **공백 4칸을** 사용한다.\n",
    "\n",
    "> ### pass 키워드(예약어)\n",
    ">\n",
    "> -   빈 구현부를 만들때 사용\n",
    ">     -   제어문, 함수의 body 코드블럭은 비울 수 없다. 반드시 명령문을 한개 이상 작성해야한다.\n",
    ">     -   작성할 내용이 없을 경우 사용하는 키워드로 `pass`를 사용한다.\n"
   ]
  },
  {
   "cell_type": "code",
   "execution_count": 1,
   "id": "9aa311a5",
   "metadata": {
    "slideshow": {
     "slide_type": "fragment"
    }
   },
   "outputs": [],
   "source": [
    "if 0 == 0 :\n",
    "    pass\n",
    "else:\n",
    "    pass"
   ]
  },
  {
   "cell_type": "markdown",
   "id": "09c79c35",
   "metadata": {
    "slideshow": {
     "slide_type": "subslide"
    }
   },
   "source": [
    "-   **조건이 True일 때 False일때 실행 구문이 분기되는 조건문.**\n",
    "\n",
    "```python\n",
    "if 조건:\n",
    "    명령문1_1 # 조건이 True일 경우 실행할 구문들\n",
    "    명령문1_2\n",
    "    ...\n",
    "else:\n",
    "    명령문2_1 # 조건이 False일 경우 실행할 구문들\n",
    "    명령문2_2\n",
    "    ...\n",
    "```\n"
   ]
  },
  {
   "cell_type": "code",
   "execution_count": 2,
   "id": "87b51956",
   "metadata": {
    "slideshow": {
     "slide_type": "fragment"
    }
   },
   "outputs": [
    {
     "name": "stdin",
     "output_type": "stream",
     "text": [
      "0이 아닌 정수를 입력하세요. 1\n"
     ]
    },
    {
     "name": "stdout",
     "output_type": "stream",
     "text": [
      "숫자는 1 입니다.\n"
     ]
    }
   ],
   "source": [
    "num = int(input(\"0이 아닌 정수를 입력하세요.\"))\n",
    "\n",
    "if num != 0:\n",
    "    print(f\"숫자는 {num} 입니다.\")\n",
    "else:\n",
    "    print(f\"0이 아닌 다른 정수를 입력하세요.\")"
   ]
  },
  {
   "cell_type": "code",
   "execution_count": 3,
   "id": "5cba5e03-6f96-4b62-8992-ba448a828e5a",
   "metadata": {
    "jp-MarkdownHeadingCollapsed": true,
    "slideshow": {
     "slide_type": "fragment"
    }
   },
   "outputs": [
    {
     "name": "stdin",
     "output_type": "stream",
     "text": [
      "0이 아닌 정수를 입력하세요. 2\n"
     ]
    },
    {
     "name": "stdout",
     "output_type": "stream",
     "text": [
      "숫자는 2 입니다.\n"
     ]
    }
   ],
   "source": [
    "num = int(input(\"0이 아닌 정수를 입력하세요.\"))\n",
    "\n",
    "if num == 0:\n",
    "    print(f\"0이 아닌 다른 정수를 입력하세요.\")\n",
    "else:\n",
    "    print(f\"숫자는 {num} 입니다.\")"
   ]
  },
  {
   "cell_type": "code",
   "execution_count": 4,
   "id": "93940738-bc64-43ef-b62e-61d35cedd304",
   "metadata": {},
   "outputs": [
    {
     "name": "stdin",
     "output_type": "stream",
     "text": [
      ">>> : 정수를 입력하세요 3\n"
     ]
    },
    {
     "name": "stdout",
     "output_type": "stream",
     "text": [
      "3 입니다.\n",
      "종료\n"
     ]
    }
   ],
   "source": [
    "num1 = int(input(\">>> : 정수를 입력하세요\"))\n",
    "\n",
    "if num1 == 0:\n",
    "    pass\n",
    "    print(\"0 입니다.\")\n",
    "    print(\"zero\")\n",
    "    num1 +=1\n",
    "    if num1 == 1:\n",
    "        print(\"한글로는 영입니다.\")\n",
    "        print(\"이제는 1이지롱\")\n",
    "        print(num1)\n",
    "    else:\n",
    "        print(\"뿡\")\n",
    "else:\n",
    "    pass\n",
    "    print(f\"{num1} 입니다.\")\n",
    "    print(\"종료\")"
   ]
  },
  {
   "cell_type": "code",
   "execution_count": 5,
   "id": "c65831d8-09c7-4c9e-9fdb-08f1b88a33d7",
   "metadata": {},
   "outputs": [],
   "source": [
    "x = 10\n",
    "\n",
    "if x > 0:\n",
    "    pass  # 나중에 양수일 때의 로직을 추가할 예정\n",
    "else:\n",
    "    print(\"x는 0 이하입니다.\")"
   ]
  },
  {
   "cell_type": "markdown",
   "id": "995b23eb-92be-4c0e-87d8-9ebd64eac045",
   "metadata": {},
   "source": [
    "# num = int(input(\"정수를 입력하세요 :\"))\n",
    "\n",
    "if num == 0:\n",
    "    print(\"0입니다.\")\n",
    "elif num > 0:\n",
    "    print(f\"{num} 입니다.\")\n",
    "else:\n",
    "    print(f\"{num}은 음수입니다.\")"
   ]
  },
  {
   "cell_type": "markdown",
   "id": "621eae9a",
   "metadata": {
    "slideshow": {
     "slide_type": "subslide"
    }
   },
   "source": [
    "-   **조건이 여러 개인 조건문.**\n",
    "\n",
    "```python\n",
    "if 조건1:\n",
    "    명령문1_1  # 조건1이 True일 경우 실행할 코드블록.\n",
    "    명령문1_2\n",
    "    ...\n",
    "elif 조건2:    # 다음 조건으로 앞의 조건들이 모드 False일 경우 비교한다.\n",
    "    명령문2_1  # 조건2가 True일 경우 실행할 코드블록.\n",
    "    명령문2_2\n",
    "    ...\n",
    "elif 조건3 :\n",
    "    명령문3_1\n",
    "    명령문3_2\n",
    "    ...\n",
    "else:         # 위의 모든 조건이 False일 경우 실행하는 코드블록. 생략 가능하다.\n",
    "    명령문4\n",
    "```\n"
   ]
  },
  {
   "cell_type": "code",
   "execution_count": 6,
   "id": "bf229131-be92-4e45-8843-a50d02ede4e8",
   "metadata": {},
   "outputs": [
    {
     "name": "stdout",
     "output_type": "stream",
     "text": [
      "0이 아닙니다\n",
      "True\n"
     ]
    }
   ],
   "source": [
    "num = 1\n",
    "# num = 0\n",
    "if num:\n",
    "    print(\"0이 아닙니다\")\n",
    "else:\n",
    "    print(\"0입니다.\")\n",
    "print(bool(num))"
   ]
  },
  {
   "cell_type": "code",
   "execution_count": 7,
   "id": "7d716777-a8cb-4b62-9951-61d074188f32",
   "metadata": {
    "slideshow": {
     "slide_type": "slide"
    }
   },
   "outputs": [
    {
     "name": "stdout",
     "output_type": "stream",
     "text": [
      "3이 아닙니다\n"
     ]
    }
   ],
   "source": [
    "# num = 3\n",
    "# num = 2\n",
    "if num == 3:print(num)\n",
    "else:print(\"3이 아닙니다\")"
   ]
  },
  {
   "cell_type": "markdown",
   "id": "461878c3-8135-40ff-8273-cee650412a0a",
   "metadata": {
    "slideshow": {
     "slide_type": "slide"
    }
   },
   "source": [
    "# 반복문 (Loop statement)\n",
    "\n",
    "특정 구문들을 반복해서 실행할 때 사용한다. 동일한 코드를 여러번 반복하거나 값이 일정하게 변하는 코드를 반복할 경우 사용한다.  \n",
    "단순 반복을 처리하는 **while문**과 iterable객체가 제공하는 값들을 반복 조회하는 **for in문** 두가지 문법이 있다.\n",
    "\n",
    "![반복문](images/ch03_02.png)\n",
    "\n",
    "<center>count의 값이 limit의 값보다 크거나 같을때 까지 count의 값을 1증가 후 출력하는 구문을 반복한다. </center>"
   ]
  },
  {
   "cell_type": "markdown",
   "id": "b4740a36",
   "metadata": {
    "slideshow": {
     "slide_type": "subslide"
    }
   },
   "source": [
    "## while문\n",
    "\n",
    "-   조건이 True인 동안 구문을 반복해서 실행한다.\n",
    "\n",
    "### 구문\n",
    "\n",
    "```python\n",
    "while 조건:       # 조건은 bool 표현식을 기술한다. 조건선언 다음에 : 으로 선언해서 코드블록을 구분한다\n",
    "    반복할 구문1  # 반복할 구문을 코드블록으로 작성한다.\n",
    "    반복할 구문2\n",
    "    ...\n",
    "```\n"
   ]
  },
  {
   "cell_type": "code",
   "execution_count": 8,
   "id": "14478359-c9ee-46cc-b5be-0d2907e3172c",
   "metadata": {
    "slideshow": {
     "slide_type": "fragment"
    }
   },
   "outputs": [
    {
     "name": "stdout",
     "output_type": "stream",
     "text": [
      "10\n"
     ]
    }
   ],
   "source": [
    "n = 0\n",
    "while True:\n",
    "    if n == 10:\n",
    "        break\n",
    "    else:\n",
    "        n += 1\n",
    "\n",
    "print(n)"
   ]
  },
  {
   "cell_type": "markdown",
   "id": "e9e379c8-d902-458a-a242-5fb48bf546ac",
   "metadata": {},
   "source": [
    "```python\n",
    "count = 0\n",
    "limit = 10\n",
    "\n",
    "while count<limit:\n",
    "    # print(\"안녕하세요\")\n",
    "    pass\n",
    "print(\"종료\")\n",
    "```\n",
    "와 같이 하면 무한히 반복"
   ]
  },
  {
   "cell_type": "code",
   "execution_count": 9,
   "id": "58360228-8dee-4403-a118-a3d795bf0e1a",
   "metadata": {},
   "outputs": [
    {
     "name": "stdout",
     "output_type": "stream",
     "text": [
      "1. 안녕하세요.\n",
      "2. 안녕하세요.\n",
      "3. 안녕하세요.\n",
      "4. 안녕하세요.\n",
      "5. 안녕하세요.\n",
      "6. 안녕하세요.\n",
      "7. 안녕하세요.\n",
      "8. 안녕하세요.\n",
      "9. 안녕하세요.\n",
      "10. 안녕하세요.\n",
      "종료\n"
     ]
    }
   ],
   "source": [
    "count = 0\n",
    "limit = 10\n",
    "\n",
    "while count<limit:\n",
    "    count +=1\n",
    "    print(f\"{count}. 안녕하세요.\")\n",
    "print(\"종료\")"
   ]
  },
  {
   "cell_type": "markdown",
   "id": "04f12e55",
   "metadata": {
    "slideshow": {
     "slide_type": "subslide"
    }
   },
   "source": [
    "## for in 문\n",
    "\n",
    "-   Iterable 객체를 순환조회하는 구문\n",
    "    -   for in문은 Iterable 타입의 객체가 가지고 있는 값들을 하나씩 처리하는 구문을 작성할 때 사용한다.\n",
    "\n",
    "> -   **Iterable**\n",
    ">     -   반복가능한 객체. 반복문(for in)을 이용해 일련의 값들을 반복적으로 각각 제공하는 객체를 말한다.\n",
    ">     -   대표적으로 List, Tuple, Dictionary, Set, 문자열 등이 있다.\n",
    "\n",
    "### 구문\n",
    "\n",
    "```python\n",
    "for 변수 in Iterable: # for in 선언후 : 으로 선언부와 구현부를 나눈다.\n",
    "    반복구문          # Iterable이 반복시 제공하는 값을 가지는 \"변수\"를 이용해 값들을 처리하는 구문을 코드블록으로 작성한다.\n",
    "    반복구문\n",
    "```\n"
   ]
  },
  {
   "cell_type": "code",
   "execution_count": 10,
   "id": "da0ce0f6",
   "metadata": {
    "slideshow": {
     "slide_type": "fragment"
    }
   },
   "outputs": [
    {
     "name": "stdout",
     "output_type": "stream",
     "text": [
      "10\n",
      "100\n",
      "1000\n",
      "10000\n",
      "100000\n",
      "10\n",
      "100\n",
      "1000\n",
      "10000\n",
      "100000\n"
     ]
    }
   ],
   "source": [
    "l = [10, 100, 1000, 10000, 100000]\n",
    "# l 의 모든 원소들을 출력\n",
    "\n",
    "for i in range(len(l)):\n",
    "    print(l[i])\n",
    "\n",
    "for v in l:\n",
    "    print(v)"
   ]
  },
  {
   "cell_type": "code",
   "execution_count": 11,
   "id": "27f58f53-e543-4dad-8b07-f47262bf926d",
   "metadata": {
    "scrolled": true
   },
   "outputs": [
    {
     "name": "stdout",
     "output_type": "stream",
     "text": [
      "20\n",
      "200\n",
      "2000\n",
      "20000\n",
      "200000\n",
      "[20, 200, 2000, 20000, 200000]\n"
     ]
    }
   ],
   "source": [
    "ㅣ = [10, 100, 20, 30, 500]\n",
    "# l의 모든 값들을 두배로 늘리기. (iterable : l , 일괄처리 : 두배)\n",
    "result = []\n",
    "\n",
    "for v in l:\n",
    "    print(v * 2)\n",
    "    result.append(v * 2)\n",
    "\n",
    "print(result)"
   ]
  },
  {
   "cell_type": "code",
   "execution_count": 12,
   "id": "9f5b4310-a5a7-46f0-bc5e-137a75d3f1ae",
   "metadata": {
    "scrolled": true
   },
   "outputs": [
    {
     "name": "stdout",
     "output_type": "stream",
     "text": [
      "1\n",
      "2\n",
      "3\n",
      "4\n",
      "5\n"
     ]
    }
   ],
   "source": [
    "t = 1,2,3,4,5\n",
    "\n",
    "for v in t:\n",
    "    print(v)"
   ]
  },
  {
   "cell_type": "code",
   "execution_count": 13,
   "id": "4c964c58-e5a1-4e6b-acd1-8236259c6515",
   "metadata": {},
   "outputs": [
    {
     "name": "stdout",
     "output_type": "stream",
     "text": [
      "a 10\n",
      "b 20\n",
      "c 30\n",
      "{'a': 10, 'b': 20, 'c': 30}\n"
     ]
    }
   ],
   "source": [
    "# dict \n",
    "d = dict([(\"a\",10), (\"b\",20),(\"c\",30)])\n",
    "\n",
    "for key in d:\n",
    "    print(key,d[key])\n",
    "\n",
    "print(d)"
   ]
  },
  {
   "cell_type": "code",
   "execution_count": 14,
   "id": "8a3c72b1-75e1-46ac-b8da-c38d4d190784",
   "metadata": {
    "scrolled": true
   },
   "outputs": [
    {
     "name": "stdout",
     "output_type": "stream",
     "text": [
      "a 10\n",
      "b 20\n",
      "c 30\n"
     ]
    }
   ],
   "source": [
    "d.items()\n",
    "\n",
    "for key, value in d.items(): # 원소가 자료구조일 때 원소 개수만큼 변수를 선언할 수 있다.\n",
    "    print(key,value)"
   ]
  },
  {
   "cell_type": "code",
   "execution_count": 15,
   "id": "7fff3199-f81b-44ab-acca-0ebc0cee64e1",
   "metadata": {},
   "outputs": [
    {
     "name": "stdout",
     "output_type": "stream",
     "text": [
      "가 나 다 a b c d e 1 2 3 4 "
     ]
    }
   ],
   "source": [
    "# 문자열\n",
    "for char in \"가나다abcde1234\":\n",
    "    print(char, end = \" \")"
   ]
  },
  {
   "cell_type": "markdown",
   "id": "1f30cd6f",
   "metadata": {
    "slideshow": {
     "slide_type": "subslide"
    }
   },
   "source": [
    "## continue와 break를 이용한 반복문 제어\n",
    "\n",
    "-   **continue**\n",
    "    -   실행 블록에서 continue가 실행되면 현재 반복을 중단하고 다음 반복을 진행한다.\n",
    "    -   특정 조건에서 처리를 멈추고 다음 처리를 반복할 때 사용한다.\n",
    "-   **break**\n",
    "    -   반복문 실행을 중단한다.\n",
    "    -   특정 조건에서 반복문을 중간에 중지할때 사용한다.\n",
    "-   continue와 break는 특정 조건에서 실행되야 하는 경우가 대부분이므로 if문 안에 작성한다.\n"
   ]
  },
  {
   "cell_type": "code",
   "execution_count": 16,
   "id": "90c41e9f",
   "metadata": {
    "scrolled": true,
    "slideshow": {
     "slide_type": "fragment"
    }
   },
   "outputs": [
    {
     "name": "stdout",
     "output_type": "stream",
     "text": [
      "0 / 2 / 4 / 6 / 8 / 10 / 12 / 14 / 16 / 18 / 20 / 22 / 24 / 26 / 28 / 30 / 32 / 34 / 36 / 38 / 40 / 42 / 44 / 46 / 48 / 50 / 52 / 54 / 56 / 58 / 60 / 62 / 64 / 66 / 68 / 70 / 72 / 74 / 76 / 78 / 80 / 82 / 84 / 86 / 88 / 90 / 92 / 94 / 96 / 98 / 100 / 종료\n",
      "\n",
      "\n",
      "1 / 2 / 3 / 4 / 5 / 6 / 종료\n",
      "\n",
      "\n",
      "0 / 2 / 4 / 6 / 8 / 10 / 12 / 14 / 16 / 18 / 20 / 22 / 24 / 26 / 28 / 30 / 32 / 34 / 36 / 38 / 40 / 42 / 44 / 46 / 48 / 50 / 52 / 54 / 56 / 58 / 60 / 62 / 64 / 66 / 68 / 70 / 72 / 74 / 76 / 78 / 80 / 82 / 84 / 86 / 88 / 90 / 92 / 94 / 96 / 98 / 100 / 종료\n",
      "\n",
      "\n"
     ]
    }
   ],
   "source": [
    "num = []\n",
    "for i in range(101):\n",
    "    num.append(i)\n",
    "\n",
    "# print(num)\n",
    "\n",
    "for v in num:\n",
    "    if v % 2 == 0:\n",
    "        print(v , end = \" / \")\n",
    "print(\"종료\")\n",
    "\n",
    "print(\"\\n\")\n",
    "\n",
    "l = [1,2,3,4,5,6,7,8,9,10]\n",
    "for v in l:\n",
    "    if v == 7:\n",
    "        break\n",
    "        # continue\n",
    "    print(v, end = \" / \")\n",
    "print(\"종료\")\n",
    "print(\"\\n\")\n",
    "\n",
    "for i in range(101):\n",
    "    if num[i] % 2 == 1:\n",
    "        continue\n",
    "    else:\n",
    "        print(num[i] , end = \" / \")\n",
    "print(\"종료\")\n",
    "print(\"\\n\")"
   ]
  },
  {
   "cell_type": "code",
   "execution_count": 17,
   "id": "046eaedd-62ec-44ba-8ec4-d51b4378fb8a",
   "metadata": {},
   "outputs": [
    {
     "name": "stdout",
     "output_type": "stream",
     "text": [
      "[16, 1, 14, 66, 33, 86, 88, 86, 41, 11, 87, 14, 49, 69, 36, 26, 1, 68, 86, 46, 24, 100, 10, 9, 37, 50, 31, 48, 36, 25, 65, 88, 64, 65, 94, 98, 94, 89, 73, 63, 61, 6, 70, 43, 88, 14, 1, 2, 26, 38, 67, 64, 55, 48, 36, 81, 13, 20, 57, 71, 36, 38, 46, 80, 11, 49, 15, 69, 44, 56, 82, 25, 74, 85, 18, 22, 55, 48, 47, 60, 8, 85, 70, 74, 69, 100, 28, 55, 78, 59, 28, 9, 8, 96, 2, 100, 40, 67, 18, 45, 48, 18, 39, 75] \n",
      " \n",
      " [-94, -16, -27, -98, -64, -51, -7, -93, -16, -15, -2, -1, -62, -68, -52, -3, -97, -89, -94, -33, -63, -49, -33, -42, -75, -75, -25, -71, -52, -53, -93, -72, -21, -2, -1, -94, -14, -61, -70, -25, -5, -44, -54, -2, -73, -70, -65, -48, -99, -67, -38, -35, -15, -19, -89, -59, -78, -86, -38, -1, -3, -40, -19, -22, -59, -54, -43, -88, -8, -5, -3, -22, -47, -87]\n"
     ]
    }
   ],
   "source": [
    "import random\n",
    "# print(random.randint(10,21?)) # 시작(10) ~ 끝(20) 범위 안에 있는 임의의 정수 (난수 - random값) 을 반환\n",
    "# - 100 ~ 100 범위에 정수 난수를 생성\n",
    "# 생성된 정수 중 양수는 'pos_result' 리스트에 음수는 'neg_result' 리스트에 저장\n",
    "# 0이되면 성성 종료\n",
    "pos_result = []\n",
    "neg_result = []\n",
    "    \n",
    "\n",
    "while True:\n",
    "    a = random.randint(-100,101)\n",
    "\n",
    "    if a > 0:\n",
    "        pos_result.append(a)        \n",
    "    elif a < 0:\n",
    "        neg_result.append(a)\n",
    "    else:\n",
    "        break\n",
    "print(pos_result,\"\\n\",\"\\n\",neg_result)"
   ]
  },
  {
   "cell_type": "code",
   "execution_count": 18,
   "id": "4194da2e-5282-4a20-87af-dd6c9e6f2f45",
   "metadata": {
    "scrolled": true
   },
   "outputs": [
    {
     "name": "stdout",
     "output_type": "stream",
     "text": [
      "[26, 65, 11, 59, 46, 19, 72, 63, 77, 71, 3, 44, 46, 60, 60, 59, 44, 92, 80, 18, 70, 55, 69, 16, 98, 33, 73, 27, 54, 23, 89, 23, 75, 34, 66, 64, 59, 22, 18, 60, 45, 32, 6, 6, 38, 15, 35, 82, 17, 83, 19, 92, 39, 91, 87, 26, 21, 12, 85, 46, 56, 99, 29, 27, 23, 42, 57, 64, 25, 17, 96, 74, 50, 57, 64, 2, 100, 18, 52, 88, 43, 19, 78, 61, 77, 63, 69, 37, 25, 71, 33, 97, 58, 90, 26, 24, 81, 56, 73, 83, 50, 75, 72, 1, 48, 13, 61, 37, 36, 58, 77, 81, 63, 50, 70, 48, 39, 37, 32, 39, 9, 98, 64, 92, 58, 96, 18, 79, 50, 35, 35, 65, 92, 39, 65, 65, 18, 35, 62, 84, 2, 26, 13, 40, 67, 37, 73, 37, 59, 77, 11, 16, 25, 92, 23, 16, 20, 50, 12, 4, 25, 73, 47, 1, 62, 39, 28, 22, 96, 82, 70, 77, 3, 54, 84, 89, 57, 67, 63, 16, 77, 16, 35, 31, 48, 98, 37, 10, 59, 63, 69, 66, 82, 64, 39, 92, 22, 69, 95, 8, 74, 30, 69, 19, 36, 3] \n",
      " \n",
      " [-20, -78, -72, -29, -16, -9, -90, -43, -52, -32, -23, -35, -83, -76, -5, -97, -55, -69, -25, -3, -9, -15, -100, -6, -38, -27, -36, -39, -80, -98, -58, -98, -55, -41, -21, -8, -3, -66, -26, -93, -60, -48, -82, -88, -76, -19, -92, -57, -96, -78, -46, -32, -69, -19, -34, -67, -83, -64, -71, -97, -63, -12, -17, -30, -42, -21, -9, -15, -5, -46, -62, -61, -65, -53, -62, -54, -88, -82, -30, -23, -53, -64, -14, -50, -2, -20, -76, -13, -73, -92, -73, -42, -14, -72, -4, -25, -96, -95, -57, -41, -67, -39, -75, -17, -84, -2, -13, -20, -80, -77, -6, -80, -28, -80, -7, -76, -20, -6, -55, -38, -62, -84, -31, -2, -35, -12, -49, -52, -90, -93, -94, -37, -47, -65, -23, -97, -56, -41, -47, -85, -42, -84, -95, -18, -94, -35, -24, -29, -29, -92, -74, -73, -37, -62, -65, -4, -58, -63, -64, -12, -54, -21, -76, -7, -89, -6, -56, -26, -81, -46, -83, -46, -69, -17, -72, -87, -66, -45, -46, -11, -50, -46, -71, -60, -98, -81, -55, -91, -47, -87, -8, -29, -38, -86, -75, -58]\n"
     ]
    }
   ],
   "source": [
    "import random\n",
    "\n",
    "pos_result = []\n",
    "neg_result = []\n",
    "num = random.randint(-100,100)\n",
    "\n",
    "while num != 0:\n",
    "    if num > 0:\n",
    "        pos_result.append(num)\n",
    "    else:\n",
    "        neg_result.append(num)\n",
    "    num = random.randint(-100,100)\n",
    "\n",
    "print(pos_result,\"\\n\",\"\\n\",neg_result)"
   ]
  },
  {
   "cell_type": "code",
   "execution_count": 19,
   "id": "585cdf29-61d0-4039-9ab2-0a409059e8fd",
   "metadata": {
    "scrolled": true
   },
   "outputs": [
    {
     "name": "stdout",
     "output_type": "stream",
     "text": [
      "[20, 61] \n",
      " \n",
      " [-70, -61, -19, -95, -37, -97]\n"
     ]
    }
   ],
   "source": [
    "import random\n",
    "\n",
    "pos_result = []\n",
    "neg_result = []\n",
    "\n",
    "# := (왈러스 연산자 - 대입연산자 중에 하나) - if/while 조건절. 값을 변수에 대입하고 반환. \n",
    "# 1. 값을 변수에 대입. 2. 대입한 값을 다시 반환.\n",
    "\n",
    "while num:= random.randint(-100,101):\n",
    "    if num > 0:\n",
    "        pos_result.append(num)\n",
    "    else:\n",
    "        neg_result.append(num)\n",
    "print(pos_result,\"\\n\",\"\\n\",neg_result)"
   ]
  },
  {
   "cell_type": "code",
   "execution_count": 20,
   "id": "73899101-4939-4685-b5a7-f40fd5a663e6",
   "metadata": {
    "scrolled": true
   },
   "outputs": [
    {
     "name": "stdout",
     "output_type": "stream",
     "text": [
      "[1, 1, 1, 1, 2, 2, 2, 2, 2, 2, 4, 4, 4, 5, 5, 5, 6, 6, 6, 6, 7, 7, 7, 7, 8, 9, 9, 9, 10, 10, 10, 10, 10, 11, 11, 11, 11, 11, 12, 12, 12, 12, 13, 13, 14, 14, 14, 14, 15, 15, 16, 16, 16, 16, 17, 17, 17, 17, 17, 17, 17, 18, 18, 18, 18, 19, 19, 19, 19, 19, 19, 19, 19, 19, 19, 19, 20, 20, 20, 21, 21, 21, 21, 21, 22, 22, 22, 22, 24, 24, 24, 24, 24, 25, 25, 25, 25, 26, 26, 26, 26, 27, 27, 28, 28, 28, 28, 28, 29, 29, 30, 30, 30, 30, 31, 31, 31, 32, 32, 33, 33, 33, 34, 35, 35, 35, 35, 36, 36, 36, 38, 38, 38, 38, 38, 39, 39, 39, 39, 39, 40, 40, 40, 40, 41, 42, 42, 42, 43, 43, 43, 43, 43, 45, 45, 45, 45, 45, 45, 46, 46, 46, 46, 46, 47, 47, 47, 47, 47, 47, 48, 48, 48, 49, 49, 49, 49, 49, 49, 49, 50, 50, 50, 50, 51, 51, 51, 51, 51, 52, 52, 52, 53, 53, 53, 53, 53, 54, 55, 55, 55, 55, 55, 56, 56, 56, 57, 57, 57, 57, 57, 58, 58, 58, 59, 59, 59, 59, 60, 60, 61, 61, 61, 62, 62, 62, 63, 64, 64, 64, 65, 65, 65, 65, 65, 66, 66, 67, 67, 67, 67, 67, 68, 68, 69, 69, 69, 69, 69, 69, 70, 70, 70, 70, 70, 70, 71, 72, 72, 72, 72, 72, 73, 73, 73, 73, 73, 74, 74, 74, 75, 75, 75, 76, 76, 77, 77, 77, 77, 78, 78, 79, 79, 79, 79, 79, 80, 80, 80, 81, 82, 82, 82, 82, 82, 83, 83, 83, 83, 84, 84, 85, 85, 85, 85, 85, 86, 86, 86, 87, 87, 87, 87, 88, 88, 88, 88, 88, 88, 88, 89, 89, 89, 89, 89, 90, 90, 90, 90, 90, 90, 90, 90, 91, 91, 91, 91, 91, 92, 92, 92, 93, 93, 93, 93, 94, 94, 94, 95, 95, 95, 95, 95, 96, 96, 96, 97, 99, 99, 100, 100, 100, 100, 101, 101, 101, 101] \n",
      " \n",
      " [-1, -1, -1, -1, -1, -2, -3, -3, -3, -3, -4, -4, -5, -5, -6, -6, -6, -6, -7, -7, -7, -8, -8, -8, -9, -9, -9, -9, -10, -10, -10, -10, -10, -10, -10, -11, -11, -11, -11, -12, -12, -12, -13, -13, -14, -14, -14, -15, -15, -15, -15, -15, -15, -15, -16, -16, -16, -17, -17, -17, -17, -18, -18, -18, -18, -18, -18, -19, -19, -19, -19, -19, -19, -19, -20, -20, -20, -20, -20, -20, -20, -21, -21, -21, -21, -22, -23, -23, -23, -24, -24, -24, -24, -24, -24, -24, -25, -26, -27, -27, -27, -27, -27, -28, -28, -28, -28, -29, -29, -29, -29, -29, -29, -30, -30, -30, -31, -31, -31, -31, -31, -32, -32, -32, -32, -32, -32, -33, -33, -33, -34, -34, -35, -35, -36, -36, -36, -37, -37, -38, -38, -38, -38, -39, -39, -40, -41, -41, -42, -42, -42, -43, -44, -44, -44, -45, -45, -45, -45, -45, -45, -46, -47, -47, -48, -48, -48, -48, -48, -48, -49, -49, -49, -51, -52, -52, -53, -53, -53, -53, -53, -53, -54, -54, -55, -55, -55, -56, -56, -56, -56, -57, -57, -57, -57, -57, -57, -58, -58, -59, -59, -59, -59, -59, -59, -59, -59, -59, -60, -60, -60, -60, -60, -60, -61, -61, -61, -61, -62, -62, -62, -63, -63, -63, -63, -64, -64, -64, -64, -65, -65, -65, -65, -66, -66, -66, -67, -67, -67, -67, -67, -67, -68, -68, -69, -69, -69, -69, -70, -70, -70, -71, -71, -71, -71, -71, -71, -72, -72, -72, -73, -73, -73, -73, -73, -74, -74, -74, -74, -75, -75, -76, -76, -76, -77, -77, -77, -77, -78, -78, -78, -79, -79, -80, -80, -80, -80, -80, -80, -81, -82, -82, -83, -83, -83, -83, -84, -84, -86, -86, -86, -87, -87, -88, -88, -88, -89, -89, -89, -89, -90, -90, -90, -90, -91, -91, -91, -92, -92, -93, -93, -93, -93, -94, -94, -94, -94, -94, -95, -96, -96, -97, -98, -98, -98, -98, -99, -99, -100, -100, -100]\n"
     ]
    }
   ],
   "source": [
    "import random\n",
    "\n",
    "pos_result = []\n",
    "neg_result = []\n",
    "\n",
    "# := (왈러스 연산자 - 대입연산자 중에 하나) - if/while 조건절. 값을 변수에 대입하고 반환. \n",
    "# 1. 값을 변수에 대입. 2. 대입한 값을 다시 반환.\n",
    "\n",
    "while ( num:= random.randint(-100,101) )!= 0 :\n",
    "    if num > 0:\n",
    "        pos_result.append(num)\n",
    "    else:\n",
    "        neg_result.append(num)\n",
    "print(sorted(pos_result),\"\\n\",\"\\n\",sorted(neg_result,reverse=True))"
   ]
  },
  {
   "cell_type": "markdown",
   "id": "dc6099c5",
   "metadata": {
    "slideshow": {
     "slide_type": "slide"
    }
   },
   "source": [
    "## for in 문 연관 내장 함수\n",
    "\n",
    "### range()\n",
    "\n",
    "-   일정한 간격의 연속된 정수를 제공하는 반복가능 객체 생성한다.\n",
    "-   구문\n",
    "    -   `range([시작값], 멈춤값, [증감값])`\n",
    "        -   시작값, 멈춤값, 증감값 모두 정수만 가능하다.\n",
    "        -   시작값 > 멈춤값 이고 증감값이 음수이면 내림차순으로 값을 제공한다.\n",
    "        1. 전달값이 **1개: 멈춤값**.\n",
    "            - 0 ~ (멈춤값-1)까지 1씩 증가하는 정수를 제공\n",
    "        2. 전달값이 **2개: 시작값, 멈춤값**.\n",
    "            - 시작값 ~ (멈춤값-1) 까지 1씩 증가하는 정수 제공\n",
    "        3. 전달값이 **3개: 시작값, 멈춤값, 증감값(간격)**.\n",
    "            - 시작값 ~ (멈춤값-1)까지 증감값만큼 증가하는 정수를 제공.\n"
   ]
  },
  {
   "cell_type": "code",
   "execution_count": 21,
   "id": "352d937b",
   "metadata": {
    "slideshow": {
     "slide_type": "fragment"
    }
   },
   "outputs": [
    {
     "name": "stdout",
     "output_type": "stream",
     "text": [
      "100 99 98 97 96 95 94 93 92 91 90 89 88 87 86 85 84 83 82 81 80 79 78 77 76 75 74 73 72 71 70 69 68 67 66 65 64 63 62 61 60 59 58 57 56 55 54 53 52 51 50 49 48 47 46 45 44 43 42 41 40 39 38 37 36 35 34 33 32 31 30 29 28 27 26 25 24 23 22 21 20 19 18 17 16 15 14 13 12 11 10 9 8 7 6 5 4 3 2 1 "
     ]
    }
   ],
   "source": [
    "for v in range(100,0,-1):\n",
    "    print(v, end=\" \")"
   ]
  },
  {
   "cell_type": "code",
   "execution_count": 22,
   "id": "e273e66e-e0e2-4cc5-9c07-21f9e8ae0558",
   "metadata": {},
   "outputs": [
    {
     "data": {
      "text/plain": [
       "(1, 2, 3, 4, 5, 6, 7, 8, 9)"
      ]
     },
     "execution_count": 22,
     "metadata": {},
     "output_type": "execute_result"
    }
   ],
   "source": [
    "l = list(range(1,11))\n",
    "l = set(range(-10,10))\n",
    "l = tuple(range(1,10))\n",
    "l"
   ]
  },
  {
   "cell_type": "code",
   "execution_count": 23,
   "id": "0616d054-2bba-4caf-b1bc-bea850c581f2",
   "metadata": {},
   "outputs": [
    {
     "name": "stdout",
     "output_type": "stream",
     "text": [
      "안녕\n",
      "안녕\n",
      "안녕\n",
      "안녕\n",
      "안녕\n"
     ]
    }
   ],
   "source": [
    "for _ in range(1,10,2):\n",
    "    print(\"안녕\")\n",
    "\n",
    "# 변수에 안쓰는것 관례 = _ 사용"
   ]
  },
  {
   "cell_type": "markdown",
   "id": "5de9d74e",
   "metadata": {
    "slideshow": {
     "slide_type": "subslide"
    }
   },
   "source": [
    "## enumerate()\n",
    "\n",
    "-   구문\n",
    "    -   `enumerate(Iterable,  [, start=정수])`\n",
    "        -   현재 몇번째 값을 제공하는 지(현재 몇번째 반복인지)를 나타내는 **index**와 제공하는 **원소**를 tuple로 묶어서 반환\n",
    "        -   Iterable\n",
    "            -   값을 제공할 Iterable객체\n",
    "        -   start: 정수\n",
    "            -   index 시작 값. 생략하면 0부터 시작한다.\n"
   ]
  },
  {
   "cell_type": "code",
   "execution_count": 24,
   "id": "e7626ec9-9dbe-4dce-9c18-34c856fc06ab",
   "metadata": {},
   "outputs": [
    {
     "name": "stdout",
     "output_type": "stream",
     "text": [
      "(0, 10) (1, 11) (2, 12) (3, 13) (4, 14) (5, 15) (6, 16) (7, 17) (8, 18) (9, 19) "
     ]
    }
   ],
   "source": [
    "l = list(range(10,20))\n",
    "for v in enumerate(l):\n",
    "    print(v, end = \" \")"
   ]
  },
  {
   "cell_type": "code",
   "execution_count": 25,
   "id": "b8fc2169-db52-4368-896c-6de6efb8f06f",
   "metadata": {},
   "outputs": [
    {
     "name": "stdout",
     "output_type": "stream",
     "text": [
      "0 10\n",
      "1 11\n",
      "2 12\n",
      "3 13\n",
      "4 14\n",
      "5 15\n",
      "6 16\n",
      "7 17\n",
      "8 18\n",
      "9 19\n"
     ]
    }
   ],
   "source": [
    "l = list(range(10,20))\n",
    "for idx,value in enumerate(l):\n",
    "    print(idx, value)\n"
   ]
  },
  {
   "cell_type": "code",
   "execution_count": 26,
   "id": "33dd96c5",
   "metadata": {
    "slideshow": {
     "slide_type": "fragment"
    }
   },
   "outputs": [
    {
     "name": "stdout",
     "output_type": "stream",
     "text": [
      "1000  - 중간결과의 값은 :  0  입니다.\n",
      "2000  - 중간결과의 값은 :  1000  입니다.\n",
      "3000  - 중간결과의 값은 :  2000  입니다.\n",
      "4000  - 중간결과의 값은 :  3000  입니다.\n",
      "5000  - 중간결과의 값은 :  4000  입니다.\n",
      "6000  - 중간결과의 값은 :  5000  입니다.\n",
      "7000  - 중간결과의 값은 :  6000  입니다.\n",
      "8000  - 중간결과의 값은 :  7000  입니다.\n",
      "9000  - 중간결과의 값은 :  8000  입니다.\n",
      "10000  - 중간결과의 값은 :  9000  입니다.\n"
     ]
    }
   ],
   "source": [
    "#10_000 번 반복처리 -> 중간 결과를 1000번에 한번씩 출력하겠다.\n",
    "for idx, value in enumerate(range(10000),start = 1000):\n",
    "    if idx % 1000 ==0:\n",
    "        print(f\"{idx}  - 중간결과의 값은 :  {value}  입니다.\")   "
   ]
  },
  {
   "cell_type": "markdown",
   "id": "f5a5540f",
   "metadata": {
    "slideshow": {
     "slide_type": "subslide"
    }
   },
   "source": [
    "## zip()\n",
    "\n",
    "-   여러 개의 Iterable 객체를 받아 반복시 같은 index의 값끼리 튜플로 묶어 반환한다.\n",
    "-   구문\n",
    "    -   `zip(Iterable1, Iterable2, Iterable3 [, .......])`\n",
    "        -   Iterable 2개이상.전달한다.\n",
    "-   각 Iterable이 제공하는 원소의 개수가가 다를 경우 가장 적은 것의 개수에 맞춰 반복한다.\n"
   ]
  },
  {
   "cell_type": "code",
   "execution_count": 27,
   "id": "ce0a4c30-35f7-48d8-bc3a-dc822f6b1591",
   "metadata": {},
   "outputs": [],
   "source": [
    "name_list = [\"이세돌\",\"이창호\",\"조훈현\"]"
   ]
  },
  {
   "cell_type": "code",
   "execution_count": 28,
   "id": "a2fe4775-16d6-4b03-a349-0b0bff275c0a",
   "metadata": {},
   "outputs": [],
   "source": [
    "age_list = [30,40,50]"
   ]
  },
  {
   "cell_type": "code",
   "execution_count": 29,
   "id": "f67365a3-f981-45b7-9f96-5bbc1fffa84f",
   "metadata": {},
   "outputs": [],
   "source": [
    "address_list = [\"서울\",\"인천\",\"부산\"]"
   ]
  },
  {
   "cell_type": "code",
   "execution_count": 30,
   "id": "14ff0136-e991-4a0d-b852-65ddb0376889",
   "metadata": {},
   "outputs": [
    {
     "name": "stdout",
     "output_type": "stream",
     "text": [
      "['이세돌', 30, '서울']\n",
      "['이창호', 40, '인천']\n",
      "['조훈현', 50, '부산']\n"
     ]
    }
   ],
   "source": [
    "#같은 index가 같은 사람의 데이터 일 떄\n",
    "#개별 사람의 데이터를 출력하고싶음.\n",
    "# ex ) 이세돌 30 서울 <<<\n",
    "\n",
    "for v in zip(name_list,age_list,address_list):\n",
    "    print(list(v))    "
   ]
  },
  {
   "cell_type": "code",
   "execution_count": 31,
   "id": "87994a18-d684-4f3a-b5e2-dc145b68176d",
   "metadata": {},
   "outputs": [
    {
     "name": "stdout",
     "output_type": "stream",
     "text": [
      "이세돌 30 서울\n",
      "이창호 40 인천\n",
      "조훈현 50 부산\n"
     ]
    }
   ],
   "source": [
    "#같은 index가 같은 사람의 데이터 일 떄\n",
    "#개별 사람의 데이터를 출력하고싶음.\n",
    "# ex ) 이세돌 30 서울 <<<\n",
    "\n",
    "for name, age, address in zip(name_list,age_list,address_list):\n",
    "    print(name,age,address)   "
   ]
  },
  {
   "cell_type": "code",
   "execution_count": 32,
   "id": "ae5bed7b-e3c0-47ad-ae38-93b7d19c3f75",
   "metadata": {},
   "outputs": [
    {
     "data": {
      "text/plain": [
       "[2, 4, 6]"
      ]
     },
     "execution_count": 32,
     "metadata": {},
     "output_type": "execute_result"
    }
   ],
   "source": [
    "# filtering\n",
    "l = [1,2,3,4,5,6]\n",
    "result = []\n",
    "for v in l:\n",
    "    if v % 2 ==0:\n",
    "        result.append(v)\n",
    "result"
   ]
  },
  {
   "cell_type": "code",
   "execution_count": 33,
   "id": "764642fe-a23f-4b65-a87d-27b8db0299ff",
   "metadata": {},
   "outputs": [
    {
     "data": {
      "text/plain": [
       "[2, 4, 6, 8, 10, 12]"
      ]
     },
     "execution_count": 33,
     "metadata": {},
     "output_type": "execute_result"
    }
   ],
   "source": [
    "# mapping\n",
    "result2 = []\n",
    "\n",
    "for v in l:\n",
    "    result2.append(v*2)\n",
    "result2"
   ]
  },
  {
   "cell_type": "markdown",
   "id": "2df89dae",
   "metadata": {
    "slideshow": {
     "slide_type": "subslide"
    }
   },
   "source": [
    "# 컴프리헨션(Comprehension)\n",
    "\n",
    "-   기존 Iterable의 원소들을 이용해서 새로운 자료구조(List, Dictionary, Set)를 생성하는 구문.\n",
    "    -   기존 Iterable의 **원소들을 처리한 결과**나 **특정 조건이 True인 값들을** 새로운 자료구조에 넣을때 사용.\n",
    "    -   결과를 넣을 새로운 자료구조 타입에 따라 다음 세가지가 있다.\n",
    "        -   리스트 컴프리헨션\n",
    "        -   딕셔너리 컴프리헨션\n",
    "        -   셋 컴프리헨션\n",
    "- **튜플 컴프리헨션**은 tuple() 함수를 이용해서 만든다.\n",
    "-   **딕셔너리 컴프리헨션**과 **셋 컴프리헨션**은 파이썬 3 에 새로 추가되었다.\n",
    "-   컴프리헨션 문법은 iterable 을 타입을 넣는 곳에서는 다 적용할 수있다.\n"
   ]
  },
  {
   "cell_type": "code",
   "execution_count": 34,
   "id": "2b124aad-3a5d-4290-ace7-a99f8f9a7d20",
   "metadata": {},
   "outputs": [
    {
     "data": {
      "text/plain": [
       "[1, 2, 3, 4, 5, 6]"
      ]
     },
     "execution_count": 34,
     "metadata": {},
     "output_type": "execute_result"
    }
   ],
   "source": [
    "# mapping을 컴프리헨션 문법으로 \n",
    "result3 = [v for v in l]\n",
    "result3"
   ]
  },
  {
   "cell_type": "code",
   "execution_count": 35,
   "id": "a0fb82ca-14f5-42a3-9796-c2bf1b9e0998",
   "metadata": {},
   "outputs": [
    {
     "data": {
      "text/plain": [
       "[2, 4, 6, 8, 10, 12]"
      ]
     },
     "execution_count": 35,
     "metadata": {},
     "output_type": "execute_result"
    }
   ],
   "source": [
    "# mapping을 컴프리헨션 문법으로 \n",
    "result3 = [2* v for v in l]\n",
    "result3"
   ]
  },
  {
   "cell_type": "code",
   "execution_count": 36,
   "id": "0fc07c98-05df-4b40-8233-3cfea7ee7947",
   "metadata": {},
   "outputs": [],
   "source": [
    "# alpha = []\n",
    "\n",
    "# for i in range(102):\n",
    "#     if i % 2 == 0:\n",
    "#         alpha.append(\"0\")\n",
    "#     else:\n",
    "#         alpha.append(\"O\")\n",
    "\n",
    "# print(alpha)"
   ]
  },
  {
   "cell_type": "code",
   "execution_count": 37,
   "id": "aac38b2f-1a48-4286-aafa-7fdf5f0fc5e9",
   "metadata": {
    "scrolled": true
   },
   "outputs": [],
   "source": [
    "# print([2 * i for i in alpha])"
   ]
  },
  {
   "cell_type": "code",
   "execution_count": 38,
   "id": "f0f6d95c-139b-4774-b45f-1acc9492e208",
   "metadata": {},
   "outputs": [
    {
     "data": {
      "text/plain": [
       "[2, 4, 6, 2, 4, 6]"
      ]
     },
     "execution_count": 38,
     "metadata": {},
     "output_type": "execute_result"
    }
   ],
   "source": [
    "for v in l:\n",
    "    if v % 2 ==0:\n",
    "        result.append(v)\n",
    "result"
   ]
  },
  {
   "cell_type": "code",
   "execution_count": 39,
   "id": "0d39775d-356a-448a-be1b-7a37518f64a8",
   "metadata": {},
   "outputs": [
    {
     "data": {
      "text/plain": [
       "[20, 40, 60]"
      ]
     },
     "execution_count": 39,
     "metadata": {},
     "output_type": "execute_result"
    }
   ],
   "source": [
    "# filtering을 컴프리헨션 문법으로 구현\n",
    "result5 = [v * 10 for v in l if v%2 ==0]\n",
    "result5"
   ]
  },
  {
   "cell_type": "code",
   "execution_count": 40,
   "id": "346d6db0-54e9-4855-b390-ed676bbc9a50",
   "metadata": {},
   "outputs": [
    {
     "data": {
      "text/plain": [
       "[5, 7, 3, 1, 3, 5]"
      ]
     },
     "execution_count": 40,
     "metadata": {},
     "output_type": "execute_result"
    }
   ],
   "source": [
    "l2 = [\n",
    "    [10,5,7],\n",
    "    [3,50,4],\n",
    "    [1,2,3,4,5,6],\n",
    " #   [\"채수혁 바보\"]\n",
    "]\n",
    "result = [] # l2 원소중 홀수만 저장.\n",
    "\n",
    "for l in l2:\n",
    "    for v in l:\n",
    "        if v % 2 !=0:\n",
    "            result.append(v)\n",
    "        else:\n",
    "            pass\n",
    "result"
   ]
  },
  {
   "cell_type": "code",
   "execution_count": 41,
   "id": "fea748b6-e24b-4830-9c16-41015f0ccd9e",
   "metadata": {},
   "outputs": [
    {
     "data": {
      "text/plain": [
       "[5, 7, 3, 1, 3, 5]"
      ]
     },
     "execution_count": 41,
     "metadata": {},
     "output_type": "execute_result"
    }
   ],
   "source": [
    "result2 = [v for l in l2 for v in l if v % 2 != 0]\n",
    "result2"
   ]
  },
  {
   "cell_type": "markdown",
   "id": "092288d7",
   "metadata": {
    "slideshow": {
     "slide_type": "skip"
    }
   },
   "source": [
    "\n",
    "# TODO\n"
   ]
  },
  {
   "cell_type": "code",
   "execution_count": 42,
   "id": "9d67f23f-2a4f-4f79-8d8e-6d94358368fd",
   "metadata": {
    "slideshow": {
     "slide_type": "skip"
    }
   },
   "outputs": [
    {
     "name": "stdin",
     "output_type": "stream",
     "text": [
      "ID를 입력하세요 : idididid\n"
     ]
    },
    {
     "name": "stdout",
     "output_type": "stream",
     "text": [
      "사용할 수 있습니다.\n"
     ]
    }
   ],
   "source": [
    "# (1) 사용자로 부터 ID를 입력 받은 뒤 입력받은 ID가 5글자 이상이면 \"사용할 수 있습니다.\"를 5글자 미만이면 \"사용할 수 없는 ID입니다.\"를 출력하세요.\n",
    "id_list = input(\"ID를 입력하세요 :\")\n",
    "if len(id_list) >= 5:\n",
    "    print(\"사용할 수 있습니다.\")\n",
    "else:\n",
    "    print(\"사용할 수 없는 ID입니다.\")"
   ]
  },
  {
   "cell_type": "code",
   "execution_count": 43,
   "id": "10e4ed08-5064-4360-b4d3-962d70c2a517",
   "metadata": {
    "slideshow": {
     "slide_type": "skip"
    }
   },
   "outputs": [
    {
     "name": "stdin",
     "output_type": "stream",
     "text": [
      "우리나라 도시명을 입력하세요. 진주\n"
     ]
    },
    {
     "name": "stdout",
     "output_type": "stream",
     "text": [
      "특별시나 광역시가 아닙니다.\n"
     ]
    }
   ],
   "source": [
    "# (2) 사용자로부터 우리나라 도시명을 입력 받은 뒤 입력받은 도시명이 서울이면 \"특별시\"를\n",
    "#인천,부산,광주,대구,대전,울산 이면 \"광역시\"를 나머지는 \"특별시나 광역시가 아닙니다.\"를 출력하세요.\n",
    "city_name = input(\"우리나라 도시명을 입력하세요.\")\n",
    "if city_name == \"서울\":\n",
    "    print(\"특별시\")\n",
    "elif city_name in (\"인천\",\"부산\",\"광주\",\"대구\",\"대전\",\"울산\"):\n",
    "    print(\"광역시\")\n",
    "else:\n",
    "    print(\"특별시나 광역시가 아닙니다.\")"
   ]
  },
  {
   "cell_type": "code",
   "execution_count": 44,
   "id": "620d6d8b-d0d9-45ce-958c-a5ed58afe55f",
   "metadata": {
    "slideshow": {
     "slide_type": "skip"
    }
   },
   "outputs": [
    {
     "name": "stdin",
     "output_type": "stream",
     "text": [
      "우리나라 도시명을 입력하세요. 서울\n"
     ]
    },
    {
     "name": "stdout",
     "output_type": "stream",
     "text": [
      "특별시\n"
     ]
    }
   ],
   "source": [
    "# (2) 사용자로부터 우리나라 도시명을 입력 받은 뒤 입력받은 도시명이 서울이면 \"특별시\"를\n",
    "#인천,부산,광주,대구,대전,울산 이면 \"광역시\"를 나머지는 \"특별시나 광역시가 아닙니다.\"를 출력하세요.\n",
    "city_name = input(\"우리나라 도시명을 입력하세요.\")\n",
    "if city_name == \"서울\":\n",
    "    print(\"특별시\")\n",
    "elif city_name == \"인천\" or city_name == \"부산\" or city_name == \"광주\" or city_name == \"대구\" or city_name == \"대전\" or city_name == \"울산\":\n",
    "    print(\"광역시\")\n",
    "else:\n",
    "    print(\"특별시나 광역시가 아닙니다.\")"
   ]
  },
  {
   "cell_type": "code",
   "execution_count": 45,
   "id": "ab766f1c-93d5-46cb-b564-d12d0e6d030c",
   "metadata": {
    "slideshow": {
     "slide_type": "skip"
    }
   },
   "outputs": [
    {
     "name": "stdout",
     "output_type": "stream",
     "text": [
      "89.0\n"
     ]
    }
   ],
   "source": [
    "# (3-4)\n",
    "# (3) 아래 리스트의 평균을 구하시오.\n",
    "jumsu = [100, 90, 100, 80, 70, 100, 80, 90, 95, 85]\n",
    "jum_sum = 0\n",
    "for i in jumsu:\n",
    "    jum_sum += i\n",
    "jum_avg = jum_sum/len(jumsu)\n",
    "print(jum_avg)"
   ]
  },
  {
   "cell_type": "code",
   "execution_count": 46,
   "id": "57a30784-46ce-4b88-b7e8-8b152b6d6bed",
   "metadata": {},
   "outputs": [
    {
     "name": "stdout",
     "output_type": "stream",
     "text": [
      "총점 :  890\n",
      "평균 :  89.0\n"
     ]
    }
   ],
   "source": [
    "jumsu = [100, 90, 100, 80, 70, 100, 80, 90, 95, 85]\n",
    "\n",
    "jumsu_sum = 0\n",
    "for v in jumsu:\n",
    "    jumsu_sum = jumsu_sum + v # jumsu_sum += v\n",
    "\n",
    "print(\"총점 : \", jumsu_sum)\n",
    "jumsu_avg = jumsu_sum / len(jumsu)\n",
    "print(\"평균 : \", jumsu_avg)"
   ]
  },
  {
   "cell_type": "code",
   "execution_count": 47,
   "id": "84b636c8-f3b4-4301-bd04-4d73633276b8",
   "metadata": {
    "slideshow": {
     "slide_type": "skip"
    }
   },
   "outputs": [
    {
     "name": "stdout",
     "output_type": "stream",
     "text": [
      "1번 100점 - pass\n",
      "2번 90점 - pass\n",
      "3번 100점 - pass\n",
      "4번 80점 - fail\n",
      "5번 70점 - fail\n",
      "6번 100점 - pass\n",
      "7번 80점 - fail\n",
      "8번 90점 - pass\n",
      "9번 95점 - pass\n",
      "10번 85점 - fail\n"
     ]
    }
   ],
   "source": [
    "# (4) 위 jumsu리스트에서 평균점수이상은 pass, 미만은 fail을 index번호와 함께 출력하시오. (ex: 0-pass, 1-pass, 2-fail)\n",
    "for idx, i in enumerate(jumsu, start = 1):\n",
    "    if i >= jum_avg:\n",
    "        print(f\"{idx}번 {i}점 - pass\")\n",
    "    else:\n",
    "        print(f\"{idx}번 {i}점 - fail\")"
   ]
  },
  {
   "cell_type": "code",
   "execution_count": 48,
   "id": "c16799cf-7cb5-482f-9d05-482b35f1a5f2",
   "metadata": {
    "slideshow": {
     "slide_type": "skip"
    }
   },
   "outputs": [
    {
     "name": "stdout",
     "output_type": "stream",
     "text": [
      "jumsu_list의 최대값은 95 입니다.\n"
     ]
    }
   ],
   "source": [
    "# (5) 아래 리스트 값들 중 최대값을 조회해 출력하시오.\n",
    "jumsu = [60, 90, 80, 80, 70, 55, 80, 90, 95, 85]\n",
    "print(f\"jumsu_list의 최대값은 {max(jumsu)} 입니다.\")"
   ]
  },
  {
   "cell_type": "code",
   "execution_count": 49,
   "id": "31b026bc-e6bc-440d-9117-c1694d409a2e",
   "metadata": {
    "slideshow": {
     "slide_type": "skip"
    }
   },
   "outputs": [
    {
     "name": "stdout",
     "output_type": "stream",
     "text": [
      "최대값은 :  95\n"
     ]
    }
   ],
   "source": [
    "# (5) 아래 리스트 값들 중 최대값을 조회해 출력하시오.\n",
    "jumsu = [60, 90, 80, 80, 70, 55, 80, 90, 95, 85]\n",
    "\n",
    "max_value = jumsu[0]\n",
    "for v in jumsu:\n",
    "    if max_value < v:\n",
    "        max_value = v\n",
    "print(\"최대값은 : \", max_value)"
   ]
  },
  {
   "cell_type": "code",
   "execution_count": 50,
   "id": "81ddc6a4-95ed-4246-9e83-4afb41523736",
   "metadata": {
    "slideshow": {
     "slide_type": "skip"
    }
   },
   "outputs": [
    {
     "name": "stdout",
     "output_type": "stream",
     "text": [
      "최소값은 :  55\n"
     ]
    }
   ],
   "source": [
    "# (5-1) 아래 리스트 값들 중 최소값을 조회해 출력하시오.\n",
    "jumsu = [60, 90, 80, 80, 70, 55, 80, 90, 95, 85]\n",
    "\n",
    "max_value = jumsu[0]\n",
    "for v in jumsu:\n",
    "    if max_value > v:\n",
    "        max_value = v\n",
    "print(\"최소값은 : \", max_value)"
   ]
  },
  {
   "cell_type": "code",
   "execution_count": 51,
   "id": "ca77cebc-2303-439b-81b7-e28b56c01bac",
   "metadata": {},
   "outputs": [
    {
     "name": "stdin",
     "output_type": "stream",
     "text": [
      "단을 입력하세요 2\n"
     ]
    },
    {
     "name": "stdout",
     "output_type": "stream",
     "text": [
      "2 x 1 = 2\n",
      "2 x 2 = 4\n",
      "2 x 3 = 6\n",
      "2 x 4 = 8\n",
      "2 x 5 = 10\n",
      "2 x 6 = 12\n",
      "2 x 7 = 14\n",
      "2 x 8 = 16\n",
      "2 x 9 = 18\n"
     ]
    }
   ],
   "source": [
    "# (6) 사용자로부터 정수를 입력받아 그 정수 단의 구구단을 출력하시오.\n",
    "# ex)\n",
    "# 단을 입력하시오 : 2\n",
    "# 2 x 1 = 2\n",
    "# 2 x 2 = 4\n",
    "# ..\n",
    "# 2 x 9 = 18\n",
    "\n",
    "dan = int(input(\"단을 입력하세요\"))\n",
    "for i in range(1,10):\n",
    "    print(f\"{dan} x {i} = {dan * i}\")"
   ]
  },
  {
   "cell_type": "code",
   "execution_count": 52,
   "id": "eb01f5d0-1f08-4dda-922c-cd3cef35362c",
   "metadata": {},
   "outputs": [
    {
     "name": "stdout",
     "output_type": "stream",
     "text": [
      "2 x 1 = 2\t3 x 1 = 3\t4 x 1 = 4\t5 x 1 = 5\t6 x 1 = 6\t7 x 1 = 7\t8 x 1 = 8\t9 x 1 = 9\t\n",
      "2 x 2 = 4\t3 x 2 = 6\t4 x 2 = 8\t5 x 2 = 10\t6 x 2 = 12\t7 x 2 = 14\t8 x 2 = 16\t9 x 2 = 18\t\n",
      "2 x 3 = 6\t3 x 3 = 9\t4 x 3 = 12\t5 x 3 = 15\t6 x 3 = 18\t7 x 3 = 21\t8 x 3 = 24\t9 x 3 = 27\t\n",
      "2 x 4 = 8\t3 x 4 = 12\t4 x 4 = 16\t5 x 4 = 20\t6 x 4 = 24\t7 x 4 = 28\t8 x 4 = 32\t9 x 4 = 36\t\n",
      "2 x 5 = 10\t3 x 5 = 15\t4 x 5 = 20\t5 x 5 = 25\t6 x 5 = 30\t7 x 5 = 35\t8 x 5 = 40\t9 x 5 = 45\t\n",
      "2 x 6 = 12\t3 x 6 = 18\t4 x 6 = 24\t5 x 6 = 30\t6 x 6 = 36\t7 x 6 = 42\t8 x 6 = 48\t9 x 6 = 54\t\n",
      "2 x 7 = 14\t3 x 7 = 21\t4 x 7 = 28\t5 x 7 = 35\t6 x 7 = 42\t7 x 7 = 49\t8 x 7 = 56\t9 x 7 = 63\t\n",
      "2 x 8 = 16\t3 x 8 = 24\t4 x 8 = 32\t5 x 8 = 40\t6 x 8 = 48\t7 x 8 = 56\t8 x 8 = 64\t9 x 8 = 72\t\n",
      "2 x 9 = 18\t3 x 9 = 27\t4 x 9 = 36\t5 x 9 = 45\t6 x 9 = 54\t7 x 9 = 63\t8 x 9 = 72\t9 x 9 = 81\t\n"
     ]
    }
   ],
   "source": [
    "# (6) 사용자로부터 정수를 입력받아 그 정수 단의 구구단을 출력하시오.\n",
    "# ex)\n",
    "# 단을 입력하시오 : 2\n",
    "# 2 x 1 = 2\n",
    "# 2 x 2 = 4\n",
    "# ..\n",
    "# 2 x 9 = 18\n",
    "\n",
    "# 구구단 표를 출력해보자\n",
    "dan = 2\n",
    "for i in range(1,10):\n",
    "    for j in range(2,10):\n",
    "        print(f\"{j} x {i} = {j * i}\",end = \"\\t\")\n",
    "    print()"
   ]
  },
  {
   "cell_type": "code",
   "execution_count": 53,
   "id": "0532c205-d1c7-44c1-9873-f917e8f5e035",
   "metadata": {
    "slideshow": {
     "slide_type": "skip"
    }
   },
   "outputs": [
    {
     "name": "stdin",
     "output_type": "stream",
     "text": [
      "단을 입력하시오 :  5\n"
     ]
    },
    {
     "name": "stdout",
     "output_type": "stream",
     "text": [
      "5 x 1 = 5\n",
      "5 x 2 = 10\n",
      "5 x 3 = 15\n",
      "5 x 4 = 20\n",
      "5 x 5 = 25\n",
      "5 x 6 = 30\n",
      "5 x 7 = 35\n",
      "5 x 8 = 40\n",
      "5 x 9 = 45\n"
     ]
    }
   ],
   "source": [
    "# (6) 사용자로부터 정수를 입력받아 그 정수 단의 구구단을 출력하시오.\n",
    "# ex)\n",
    "# 단을 입력하시오 : 2\n",
    "# 2 x 1 = 2\n",
    "# 2 x 2 = 4\n",
    "# ..\n",
    "# 2 x 9 = 18\n",
    "gugu = int(input(\"단을 입력하시오 : \"))\n",
    "\n",
    "for i in range(9):\n",
    "    print(str(gugu) + \" x \" + str(i+1) + \" = \" + str(gugu*(i+1)))"
   ]
  },
  {
   "cell_type": "code",
   "execution_count": 54,
   "id": "29688476-47fb-46fd-b967-62a5d2158996",
   "metadata": {},
   "outputs": [
    {
     "name": "stdin",
     "output_type": "stream",
     "text": [
      "단을 입력하시오:  6\n"
     ]
    },
    {
     "name": "stdout",
     "output_type": "stream",
     "text": [
      "6 x 1 = 6\n",
      "6 x 2 = 12\n",
      "6 x 3 = 18\n",
      "6 x 4 = 24\n",
      "6 x 5 = 30\n",
      "6 x 6 = 36\n",
      "6 x 7 = 42\n",
      "6 x 8 = 48\n",
      "6 x 9 = 54\n"
     ]
    }
   ],
   "source": [
    "dan = int(input(\"단을 입력하시오: \"))\n",
    "print(\"\\n\".join([f\"{dan} x {i} = {dan * i}\" for i in range(1, 10)]))"
   ]
  },
  {
   "cell_type": "code",
   "execution_count": 55,
   "id": "63c9b0a7-2c97-4993-ab8a-a3f502cd8d0f",
   "metadata": {
    "slideshow": {
     "slide_type": "skip"
    }
   },
   "outputs": [
    {
     "name": "stdout",
     "output_type": "stream",
     "text": [
      "[(10, 100), (30, 300), (70, 700), (5, 50), (5, 50), (120, 1200), (700, 7000), (1, 10), (35, 350), (35, 350)]\n"
     ]
    }
   ],
   "source": [
    "# 컴프리헨션\n",
    "# (7) 다음 리스트의 원소들에 10배한 값을 (원래값, 10배값) 의 튜플 묶음으로 가지는 리스트를 만드시오 (리스트 컴프리헨션 이용)\n",
    "# Ex) [(10,100), (30,300), .., (35, 350)]\n",
    "lst = [10, 30, 70, 5, 5, 120, 700, 1, 35, 35]\n",
    "\n",
    "lst_com = [(v, v * 10) for v in lst]\n",
    "print(lst_com)"
   ]
  },
  {
   "cell_type": "code",
   "execution_count": 56,
   "id": "7e79cb07-fe9b-4535-98b0-e013531dcf86",
   "metadata": {
    "slideshow": {
     "slide_type": "skip"
    }
   },
   "outputs": [
    {
     "name": "stdout",
     "output_type": "stream",
     "text": [
      "[3, 33, 21, 33, 60, 120]\n"
     ]
    }
   ],
   "source": [
    "# (8) 다음 리스트가 가진 값들 중 3의 배수만 가지는 리스트를 만드시오. (리스트 컴프리헨션 이용)\n",
    "lst2 = [3, 20, 33, 21, 33, 8, 11, 10, 7, 17, 60, 120, 2]\n",
    "lst2_com = [v for v in lst2 if v%3 ==0]\n",
    "print(lst2_com)"
   ]
  },
  {
   "cell_type": "code",
   "execution_count": 57,
   "id": "0cb51a83-7bd4-4f70-b9ba-885cf34c403e",
   "metadata": {
    "slideshow": {
     "slide_type": "skip"
    }
   },
   "outputs": [
    {
     "name": "stdout",
     "output_type": "stream",
     "text": [
      "['a.exe', 'function.exe', 'b.exe', 'run.exe']\n"
     ]
    }
   ],
   "source": [
    "# (9)) 다음 파일이름들을 담은 리스트에서 확장자가 exe인 파일만 골라서 새로운 리스트에 담으시오.(string의 endswith()함수 이용)\n",
    "file_names = [\n",
    "    \"test.txt\",\n",
    "    \"a.exe\",\n",
    "    \"jupyter.bat\",\n",
    "    \"function.exe\",\n",
    "    \"b.exe\",\n",
    "    \"cat.jpg\",\n",
    "    \"dog.png\",\n",
    "    \"run.exe\",\n",
    "    \"i.dll\",\n",
    "]\n",
    "exe_files = [file for file in file_names if file.endswith(\".exe\")]\n",
    "print(exe_files)"
   ]
  },
  {
   "cell_type": "code",
   "execution_count": 60,
   "id": "4c5033f7-48da-44d7-a909-000faa1c9382",
   "metadata": {
    "slideshow": {
     "slide_type": "skip"
    }
   },
   "outputs": [
    {
     "data": {
      "text/plain": [
       "[('mystroy.txt', 11), ('jupyter.bat', 11), ('function.exe', 12)]"
      ]
     },
     "execution_count": 60,
     "metadata": {},
     "output_type": "execute_result"
    }
   ],
   "source": [
    "# (10) 다음 중 10글자 이상인 파일명(확장자포함)만 가지는 리스트를 만드시오.\n",
    "file_names = [\n",
    "    \"mystroy.txt\",\n",
    "    \"a.exe\",\n",
    "    \"jupyter.bat\",\n",
    "    \"function.exe\",\n",
    "    \"b.exe\",\n",
    "    \"cat.jpg\",\n",
    "    \"dog.png\",\n",
    "    \"run.exe\",\n",
    "    \"i.dll\",\n",
    "]\n",
    "ten_up_file = [(file, len(file)) for file in file_names if len(file)>=10]\n",
    "ten_up_file"
   ]
  }
 ],
 "metadata": {
  "kernelspec": {
   "display_name": "Python 3 (ipykernel)",
   "language": "python",
   "name": "python3"
  },
  "language_info": {
   "codemirror_mode": {
    "name": "ipython",
    "version": 3
   },
   "file_extension": ".py",
   "mimetype": "text/x-python",
   "name": "python",
   "nbconvert_exporter": "python",
   "pygments_lexer": "ipython3",
   "version": "3.12.9"
  },
  "toc": {
   "base_numbering": 1,
   "nav_menu": {},
   "number_sections": true,
   "sideBar": true,
   "skip_h1_title": false,
   "title_cell": "Table of Contents",
   "title_sidebar": "Contents",
   "toc_cell": false,
   "toc_position": {},
   "toc_section_display": true,
   "toc_window_display": false
  },
  "varInspector": {
   "cols": {
    "lenName": 16,
    "lenType": 16,
    "lenVar": 40
   },
   "kernels_config": {
    "python": {
     "delete_cmd_postfix": "",
     "delete_cmd_prefix": "del ",
     "library": "var_list.py",
     "varRefreshCmd": "print(var_dic_list())"
    },
    "r": {
     "delete_cmd_postfix": ") ",
     "delete_cmd_prefix": "rm(",
     "library": "var_list.r",
     "varRefreshCmd": "cat(var_dic_list()) "
    }
   },
   "types_to_exclude": [
    "module",
    "function",
    "builtin_function_or_method",
    "instance",
    "_Feature"
   ],
   "window_display": false
  }
 },
 "nbformat": 4,
 "nbformat_minor": 5
}
