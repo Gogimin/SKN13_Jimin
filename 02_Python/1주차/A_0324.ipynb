{
 "cells": [
  {
   "cell_type": "code",
   "execution_count": 1,
   "id": "6e396fc1-02b4-45ed-9eac-2b0ddfee75c2",
   "metadata": {},
   "outputs": [
    {
     "data": {
      "text/plain": [
       "2"
      ]
     },
     "execution_count": 1,
     "metadata": {},
     "output_type": "execute_result"
    }
   ],
   "source": [
    "# shift + enter : 실행 후 다음 cell로 이동한다.\n",
    "1 + 1"
   ]
  },
  {
   "cell_type": "code",
   "execution_count": 3,
   "id": "5bf878eb-47bf-4318-97ed-5670ec241cda",
   "metadata": {},
   "outputs": [
    {
     "data": {
      "text/plain": [
       "3"
      ]
     },
     "execution_count": 3,
     "metadata": {},
     "output_type": "execute_result"
    }
   ],
   "source": [
    "# control + enter : 실행 후 그 cell에 머물러 있는다.\n",
    "1 + 2 # control enter 2번 적용"
   ]
  },
  {
   "cell_type": "code",
   "execution_count": null,
   "id": "a8f52c57-f1b9-4ae8-87d5-9188ba5752a8",
   "metadata": {},
   "outputs": [],
   "source": [
    "# 4번 cell 기준 a 눌려서 생긴 cell"
   ]
  },
  {
   "cell_type": "code",
   "execution_count": 4,
   "id": "2447a552-b6db-444a-b780-80227572e12a",
   "metadata": {},
   "outputs": [],
   "source": [
    "# 명령 모드 - a : 위에 빈 셀을 추가\n",
    "# 명령 모드 - b : 아래에 빈 셀을 추가"
   ]
  },
  {
   "cell_type": "code",
   "execution_count": null,
   "id": "8e3a87ec-c432-43d2-9ed0-3c4d87cf373e",
   "metadata": {},
   "outputs": [],
   "source": [
    "# 4번 cell 기준 b 눌려서 생긴 cell"
   ]
  },
  {
   "cell_type": "markdown",
   "id": "af2b2756-dd59-4034-b802-c03b5c208fda",
   "metadata": {},
   "source": [
    "# 명령 모드\n",
    "# - x : cell을 짤라내기\n",
    "# - v : cell을 붙여넣기\n",
    "# -dd : cell을 삭제하기\n",
    "# - y : cell을 코드 모드로 변경\n",
    "# - m : cell을 마크다운으로 변경"
   ]
  }
 ],
 "metadata": {
  "kernelspec": {
   "display_name": "Python 3 (ipykernel)",
   "language": "python",
   "name": "python3"
  },
  "language_info": {
   "codemirror_mode": {
    "name": "ipython",
    "version": 3
   },
   "file_extension": ".py",
   "mimetype": "text/x-python",
   "name": "python",
   "nbconvert_exporter": "python",
   "pygments_lexer": "ipython3",
   "version": "3.12.9"
  }
 },
 "nbformat": 4,
 "nbformat_minor": 5
}
