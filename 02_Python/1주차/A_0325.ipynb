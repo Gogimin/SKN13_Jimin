{
 "cells": [
  {
   "cell_type": "code",
   "execution_count": 1,
   "id": "f750b98e-91c1-45ed-9e5a-9bb91cb7a653",
   "metadata": {
    "slideshow": {
     "slide_type": "fragment"
    }
   },
   "outputs": [],
   "source": [
    "# 변수이름 규칙 연습\n",
    "a = 10\n",
    "b = 20\n",
    "c = 2**5"
   ]
  },
  {
   "cell_type": "code",
   "execution_count": 2,
   "id": "e5d30e07-291f-41c3-b645-818aab1e53a3",
   "metadata": {},
   "outputs": [
    {
     "data": {
      "text/plain": [
       "10"
      ]
     },
     "execution_count": 2,
     "metadata": {},
     "output_type": "execute_result"
    }
   ],
   "source": [
    "a"
   ]
  },
  {
   "cell_type": "code",
   "execution_count": 3,
   "id": "b368ae99-63cd-42a4-b455-77d6aa3efe42",
   "metadata": {},
   "outputs": [
    {
     "data": {
      "text/plain": [
       "20"
      ]
     },
     "execution_count": 3,
     "metadata": {},
     "output_type": "execute_result"
    }
   ],
   "source": [
    "b"
   ]
  },
  {
   "cell_type": "code",
   "execution_count": 4,
   "id": "db1da821-6b5e-4033-9341-f1664382a068",
   "metadata": {},
   "outputs": [
    {
     "data": {
      "text/plain": [
       "32"
      ]
     },
     "execution_count": 4,
     "metadata": {},
     "output_type": "execute_result"
    }
   ],
   "source": [
    "c"
   ]
  },
  {
   "cell_type": "code",
   "execution_count": 5,
   "id": "06a311c5-8837-4332-b21f-ba292ace7fb5",
   "metadata": {},
   "outputs": [
    {
     "data": {
      "text/plain": [
       "30"
      ]
     },
     "execution_count": 5,
     "metadata": {},
     "output_type": "execute_result"
    }
   ],
   "source": [
    "a + b"
   ]
  },
  {
   "cell_type": "code",
   "execution_count": 6,
   "id": "a8313607-f084-45d4-bed6-51f34024837f",
   "metadata": {},
   "outputs": [
    {
     "data": {
      "text/plain": [
       "42"
      ]
     },
     "execution_count": 6,
     "metadata": {},
     "output_type": "execute_result"
    }
   ],
   "source": [
    "a + c"
   ]
  },
  {
   "cell_type": "code",
   "execution_count": 7,
   "id": "ea090562-6e1e-444c-b055-37937445c489",
   "metadata": {},
   "outputs": [
    {
     "data": {
      "text/plain": [
       "52"
      ]
     },
     "execution_count": 7,
     "metadata": {},
     "output_type": "execute_result"
    }
   ],
   "source": [
    "b + c"
   ]
  },
  {
   "cell_type": "code",
   "execution_count": 8,
   "id": "059c251c-5652-4fb4-80fc-1c4ef2d6a71f",
   "metadata": {},
   "outputs": [],
   "source": [
    "my_name = \"김지민\""
   ]
  },
  {
   "cell_type": "code",
   "execution_count": 9,
   "id": "b9bb8b2b-f617-47bb-a6a0-6147a11946e4",
   "metadata": {},
   "outputs": [],
   "source": [
    "# my name = \"홍길동\""
   ]
  },
  {
   "cell_type": "code",
   "execution_count": 10,
   "id": "5214ee59-4fd6-4f2f-9b22-5a32cf6d1ccd",
   "metadata": {},
   "outputs": [
    {
     "data": {
      "text/plain": [
       "20"
      ]
     },
     "execution_count": 10,
     "metadata": {},
     "output_type": "execute_result"
    }
   ],
   "source": [
    "a\n",
    "b"
   ]
  },
  {
   "cell_type": "code",
   "execution_count": 11,
   "id": "9b4090f6-bbfd-4757-b1c3-1e477cfcff1c",
   "metadata": {},
   "outputs": [
    {
     "name": "stdout",
     "output_type": "stream",
     "text": [
      "10\n"
     ]
    },
    {
     "data": {
      "text/plain": [
       "20"
      ]
     },
     "execution_count": 11,
     "metadata": {},
     "output_type": "execute_result"
    }
   ],
   "source": [
    "print(a)\n",
    "b"
   ]
  },
  {
   "cell_type": "code",
   "execution_count": 12,
   "id": "470507ef-ef95-4592-bd51-f75dfa30ac16",
   "metadata": {},
   "outputs": [
    {
     "name": "stdout",
     "output_type": "stream",
     "text": [
      "10\n",
      "20\n"
     ]
    }
   ],
   "source": [
    "print(a)\n",
    "print(b)"
   ]
  },
  {
   "cell_type": "code",
   "execution_count": 13,
   "id": "a377580b-3ce4-4b78-9393-286d64f0a462",
   "metadata": {},
   "outputs": [
    {
     "name": "stdout",
     "output_type": "stream",
     "text": [
      "10 20 32 김지민\n"
     ]
    }
   ],
   "source": [
    "print(a, b, c, my_name)"
   ]
  },
  {
   "cell_type": "code",
   "execution_count": 14,
   "id": "ccfe2d33-2aeb-442b-a266-bbe567f4262e",
   "metadata": {},
   "outputs": [
    {
     "name": "stdout",
     "output_type": "stream",
     "text": [
      "10 / 20 / 32 / 김지민 끝 "
     ]
    }
   ],
   "source": [
    "print(a, b, c, my_name, sep=\" / \", end= \" 끝 \")"
   ]
  },
  {
   "cell_type": "code",
   "execution_count": 15,
   "id": "3aa4fe21-1f08-4bc0-ad41-ca1045319fa4",
   "metadata": {},
   "outputs": [],
   "source": [
    "age = 10\n",
    "age = 30\n",
    "# age 라는 변수의 값만 바뀌는것이지 age를 하나 더 만든것이 아님."
   ]
  },
  {
   "cell_type": "code",
   "execution_count": 16,
   "id": "0af47958-935c-494a-b300-619d44335b6f",
   "metadata": {},
   "outputs": [
    {
     "name": "stdout",
     "output_type": "stream",
     "text": [
      "30\n"
     ]
    }
   ],
   "source": [
    "print(age)"
   ]
  },
  {
   "cell_type": "code",
   "execution_count": 17,
   "id": "9c631b04-0fbb-4b74-bd41-7ecd0d5f60f7",
   "metadata": {
    "slideshow": {
     "slide_type": "fragment"
    }
   },
   "outputs": [
    {
     "data": {
      "text/plain": [
       "10"
      ]
     },
     "execution_count": 17,
     "metadata": {},
     "output_type": "execute_result"
    }
   ],
   "source": [
    "x = 10\n",
    "x"
   ]
  },
  {
   "cell_type": "code",
   "execution_count": 18,
   "id": "0561050c-7ea3-499c-8ec0-c299e716896e",
   "metadata": {},
   "outputs": [],
   "source": [
    "del x"
   ]
  },
  {
   "cell_type": "code",
   "execution_count": 19,
   "id": "a6c7a876-ab32-4895-b191-dfb80d5cbab0",
   "metadata": {},
   "outputs": [],
   "source": [
    "# print(x)"
   ]
  },
  {
   "cell_type": "code",
   "execution_count": null,
   "id": "af09f878-0f96-4f3a-b361-9a2272478233",
   "metadata": {},
   "outputs": [],
   "source": []
  },
  {
   "cell_type": "code",
   "execution_count": 20,
   "id": "0f67d8af-614e-4d5c-96a5-449d16704cc4",
   "metadata": {},
   "outputs": [],
   "source": [
    "# + 02_변수와 데이터타입 파일로 정리 다해뒀음"
   ]
  },
  {
   "cell_type": "code",
   "execution_count": 22,
   "id": "db793acd-f561-4e82-9d0a-c95548f860af",
   "metadata": {},
   "outputs": [
    {
     "data": {
      "text/plain": [
       "20"
      ]
     },
     "execution_count": 22,
     "metadata": {},
     "output_type": "execute_result"
    }
   ],
   "source": [
    "int(\"20\")"
   ]
  },
  {
   "cell_type": "code",
   "execution_count": 24,
   "id": "fec35d3b-28e7-4bf4-a4c8-76fcb686c7be",
   "metadata": {},
   "outputs": [],
   "source": [
    "url = \"https://www.naver.com\""
   ]
  },
  {
   "cell_type": "code",
   "execution_count": 25,
   "id": "c47fd014-85a7-4db8-877c-bf7e9fb0896d",
   "metadata": {},
   "outputs": [
    {
     "data": {
      "text/plain": [
       "True"
      ]
     },
     "execution_count": 25,
     "metadata": {},
     "output_type": "execute_result"
    }
   ],
   "source": [
    "url.endswith(\"com\")"
   ]
  },
  {
   "cell_type": "code",
   "execution_count": 27,
   "id": "ab5451e8-cb3a-4206-a4ed-2826cab22099",
   "metadata": {},
   "outputs": [],
   "source": [
    "name=\"TV\"\n",
    "price=300000\n",
    "maker = \"LG\""
   ]
  },
  {
   "cell_type": "code",
   "execution_count": 28,
   "id": "8981ba5a-6e03-48c2-80ed-852ab10aedbb",
   "metadata": {
    "scrolled": true
   },
   "outputs": [
    {
     "data": {
      "text/plain": [
       "'제품명 : TV 가격 : 300000 제조사 : LG'"
      ]
     },
     "execution_count": 28,
     "metadata": {},
     "output_type": "execute_result"
    }
   ],
   "source": [
    "\"제품명 : {} 가격 : {} 제조사 : {}\".format(name,str(price),maker)"
   ]
  },
  {
   "cell_type": "code",
   "execution_count": 29,
   "id": "2899fece-e75e-44f6-b438-dc23b3fc450b",
   "metadata": {},
   "outputs": [
    {
     "name": "stdout",
     "output_type": "stream",
     "text": [
      "홍길동\n",
      "30\n",
      "홍길동\n"
     ]
    }
   ],
   "source": [
    "name:str = \"홍길동\"\n",
    "print(name)\n",
    "age:int = 30\n",
    "print(age)\n",
    "name:\"학생의이름\" = \"홍길동\"\n",
    "print(name)"
   ]
  }
 ],
 "metadata": {
  "kernelspec": {
   "display_name": "Python 3 (ipykernel)",
   "language": "python",
   "name": "python3"
  },
  "language_info": {
   "codemirror_mode": {
    "name": "ipython",
    "version": 3
   },
   "file_extension": ".py",
   "mimetype": "text/x-python",
   "name": "python",
   "nbconvert_exporter": "python",
   "pygments_lexer": "ipython3",
   "version": "3.12.9"
  }
 },
 "nbformat": 4,
 "nbformat_minor": 5
}
