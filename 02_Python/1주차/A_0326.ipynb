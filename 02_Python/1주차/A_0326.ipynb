{
 "cells": [
  {
   "cell_type": "code",
   "execution_count": 1,
   "id": "f3c47b1d-eead-45f3-8540-a866e6e95250",
   "metadata": {},
   "outputs": [
    {
     "data": {
      "text/plain": [
       "0.9999999999999999"
      ]
     },
     "execution_count": 1,
     "metadata": {},
     "output_type": "execute_result"
    }
   ],
   "source": [
    "0.1 + 0.1 + 0.1 + 0.1 + 0.1 + 0.1 + 0.1 + 0.1 + 0.1 + 0.1 #부동 소수점"
   ]
  },
  {
   "cell_type": "code",
   "execution_count": 2,
   "id": "d46fd661-eb6c-4e1d-ad56-c8087a4e1037",
   "metadata": {},
   "outputs": [
    {
     "data": {
      "text/plain": [
       "1.0"
      ]
     },
     "execution_count": 2,
     "metadata": {},
     "output_type": "execute_result"
    }
   ],
   "source": [
    "0.1 * 10"
   ]
  },
  {
   "cell_type": "code",
   "execution_count": 3,
   "id": "fc47b703-b958-4a6c-bf64-55a55c2ae910",
   "metadata": {},
   "outputs": [
    {
     "data": {
      "text/plain": [
       "'일이삼사오'"
      ]
     },
     "execution_count": 3,
     "metadata": {},
     "output_type": "execute_result"
    }
   ],
   "source": [
    "\"일이삼사오륙칠팔구십\"[0:5]"
   ]
  },
  {
   "cell_type": "code",
   "execution_count": 4,
   "id": "5a4715d5-95c6-4323-b922-9d9cbedb1623",
   "metadata": {},
   "outputs": [
    {
     "data": {
      "text/plain": [
       "'--------------------------------------------------'"
      ]
     },
     "execution_count": 4,
     "metadata": {},
     "output_type": "execute_result"
    }
   ],
   "source": [
    "\"-\" * 50"
   ]
  },
  {
   "cell_type": "code",
   "execution_count": 5,
   "id": "9f505a32-54f6-4826-af05-ff36054f0b79",
   "metadata": {},
   "outputs": [],
   "source": [
    "A = {\"이름\":\"홍길동\", \"나이\":\"17\", \"학교 이름\":\"A 고등학교\", \"반\":\"3반\", \"학년\":\"3학년\"}"
   ]
  },
  {
   "cell_type": "code",
   "execution_count": 6,
   "id": "2f429bd9-4545-4bf5-a1f7-2fa5bc91d5f2",
   "metadata": {},
   "outputs": [
    {
     "data": {
      "text/plain": [
       "{'이름': '홍길동', '나이': '17', '학교 이름': 'A 고등학교', '반': '3반', '학년': '3학년'}"
      ]
     },
     "execution_count": 6,
     "metadata": {},
     "output_type": "execute_result"
    }
   ],
   "source": [
    "A"
   ]
  },
  {
   "cell_type": "code",
   "execution_count": 7,
   "id": "d1a03676-e0c6-426d-a62f-0716abb0fb03",
   "metadata": {},
   "outputs": [
    {
     "data": {
      "text/plain": [
       "dict"
      ]
     },
     "execution_count": 7,
     "metadata": {},
     "output_type": "execute_result"
    }
   ],
   "source": [
    "type(A)"
   ]
  },
  {
   "cell_type": "code",
   "execution_count": 8,
   "id": "458491bd-7412-4be8-a03f-4c876ecaf8db",
   "metadata": {},
   "outputs": [
    {
     "name": "stdout",
     "output_type": "stream",
     "text": [
      "<class 'dict'>\n"
     ]
    }
   ],
   "source": [
    "print(type(A))"
   ]
  },
  {
   "cell_type": "code",
   "execution_count": 9,
   "id": "461d430b-c5fa-498f-8211-9ff2db82d742",
   "metadata": {
    "scrolled": true
   },
   "outputs": [
    {
     "data": {
      "text/plain": [
       "'홍길동'"
      ]
     },
     "execution_count": 9,
     "metadata": {},
     "output_type": "execute_result"
    }
   ],
   "source": [
    "A[\"이름\"]"
   ]
  },
  {
   "cell_type": "code",
   "execution_count": 10,
   "id": "2dc19936-fabd-43ee-be44-f6ff8e2fa597",
   "metadata": {},
   "outputs": [],
   "source": [
    "# 리스트 튜플 딕셔너리 셋 차이를 말씀하심"
   ]
  },
  {
   "cell_type": "code",
   "execution_count": 11,
   "id": "866c3690-0584-48f7-bcd2-76f5084d6d38",
   "metadata": {},
   "outputs": [
    {
     "data": {
      "text/plain": [
       "5"
      ]
     },
     "execution_count": 11,
     "metadata": {},
     "output_type": "execute_result"
    }
   ],
   "source": [
    "len(A)"
   ]
  },
  {
   "cell_type": "code",
   "execution_count": 12,
   "id": "36fde760-98f4-4129-87f3-0d799c71ba9f",
   "metadata": {},
   "outputs": [],
   "source": [
    "# 리스트"
   ]
  },
  {
   "cell_type": "code",
   "execution_count": 13,
   "id": "5f2ad93f-1f9d-4791-b426-286406b089d9",
   "metadata": {},
   "outputs": [],
   "source": [
    "a = [[1,2,3,4,5,6,7,8,9,10],[10,20,30,40,50,60,70,80,90,100]]"
   ]
  },
  {
   "cell_type": "code",
   "execution_count": 14,
   "id": "afdbce9c-9704-4234-ae96-af43a20c386a",
   "metadata": {},
   "outputs": [
    {
     "data": {
      "text/plain": [
       "[1, 2, 3, 4, 5, 6, 7, 8, 9, 10]"
      ]
     },
     "execution_count": 14,
     "metadata": {},
     "output_type": "execute_result"
    }
   ],
   "source": [
    "a[0]"
   ]
  },
  {
   "cell_type": "code",
   "execution_count": 15,
   "id": "371dc692-07f7-4992-8955-817ab56aeda9",
   "metadata": {},
   "outputs": [
    {
     "data": {
      "text/plain": [
       "1"
      ]
     },
     "execution_count": 15,
     "metadata": {},
     "output_type": "execute_result"
    }
   ],
   "source": [
    "a[0][0]"
   ]
  },
  {
   "cell_type": "code",
   "execution_count": 16,
   "id": "7e735044-db01-481e-b8f3-4ca2a6211ba5",
   "metadata": {},
   "outputs": [
    {
     "data": {
      "text/plain": [
       "10"
      ]
     },
     "execution_count": 16,
     "metadata": {},
     "output_type": "execute_result"
    }
   ],
   "source": [
    "a[1][0]"
   ]
  },
  {
   "cell_type": "code",
   "execution_count": 17,
   "id": "29daa64f-6c1e-44fe-ad65-f52b657acf4c",
   "metadata": {},
   "outputs": [
    {
     "data": {
      "text/plain": [
       "2"
      ]
     },
     "execution_count": 17,
     "metadata": {},
     "output_type": "execute_result"
    }
   ],
   "source": [
    "a[0][1]"
   ]
  },
  {
   "cell_type": "code",
   "execution_count": 19,
   "id": "8c1acf43-ce53-4284-ae94-c88eb45b5a7f",
   "metadata": {},
   "outputs": [
    {
     "data": {
      "text/plain": [
       "'--------------------------------------------------------------------------------'"
      ]
     },
     "execution_count": 19,
     "metadata": {},
     "output_type": "execute_result"
    }
   ],
   "source": [
    "\"-\" * 80"
   ]
  },
  {
   "cell_type": "code",
   "execution_count": 29,
   "id": "12cc5584-2212-4696-99b7-c88ce560c2ca",
   "metadata": {},
   "outputs": [
    {
     "data": {
      "text/plain": [
       "9"
      ]
     },
     "execution_count": 29,
     "metadata": {},
     "output_type": "execute_result"
    }
   ],
   "source": [
    "l = [0,1,2,3,4,5,6,7,8,9]\n",
    "# indexing\n",
    "l[0]\n",
    "l[5]\n",
    "l[-1]"
   ]
  },
  {
   "cell_type": "code",
   "execution_count": 30,
   "id": "300d68e0-bf9d-4b0b-b98f-170f044c63f3",
   "metadata": {
    "slideshow": {
     "slide_type": "fragment"
    }
   },
   "outputs": [
    {
     "name": "stdout",
     "output_type": "stream",
     "text": [
      "[0, 1, 2, 3, 4, 5, 6, 7, 8, 9]\n",
      "[10000, 1, 2, 3, 4, 5, 6, 7, 8, 100000]\n"
     ]
    }
   ],
   "source": [
    "print(l)\n",
    "l[0] = 10000\n",
    "l[-1] = 100000\n",
    "print(l)"
   ]
  },
  {
   "cell_type": "code",
   "execution_count": 31,
   "id": "17191e9f-5239-47d6-97b0-1fe18ea01957",
   "metadata": {},
   "outputs": [
    {
     "name": "stdout",
     "output_type": "stream",
     "text": [
      "[10000, 10, 20, 30, 40, 50, 60, 70, 8, 100000]\n"
     ]
    }
   ],
   "source": [
    "l[1:8] = [10,20,30,40,50,60,70]\n",
    "print(l)"
   ]
  },
  {
   "cell_type": "code",
   "execution_count": 32,
   "id": "fb3a3c9b-0d36-43a8-af75-cbd2ee2e4182",
   "metadata": {
    "scrolled": true
   },
   "outputs": [
    {
     "data": {
      "text/plain": [
       "[10, 30, 50, 70]"
      ]
     },
     "execution_count": 32,
     "metadata": {},
     "output_type": "execute_result"
    }
   ],
   "source": [
    "l[1:8:2]"
   ]
  },
  {
   "cell_type": "code",
   "execution_count": 20,
   "id": "0a076e79-0216-460c-9295-00128e2560d3",
   "metadata": {},
   "outputs": [
    {
     "data": {
      "text/plain": [
       "'--------------------------------------------------------------------------------'"
      ]
     },
     "execution_count": 20,
     "metadata": {},
     "output_type": "execute_result"
    }
   ],
   "source": [
    "\"-\" * 80"
   ]
  },
  {
   "cell_type": "code",
   "execution_count": 70,
   "id": "1a7c6cf1-d6b9-405b-b2ed-e5be36b7d62e",
   "metadata": {},
   "outputs": [
    {
     "name": "stdout",
     "output_type": "stream",
     "text": [
      "[10, 20, 30]\n"
     ]
    }
   ],
   "source": [
    "l = [10,20,30]\n",
    "print(l)"
   ]
  },
  {
   "cell_type": "code",
   "execution_count": 71,
   "id": "d70e60f4-ab3a-413b-a079-3d1c823d7fd6",
   "metadata": {},
   "outputs": [
    {
     "name": "stdout",
     "output_type": "stream",
     "text": [
      "[10, 20, 30, 1000]\n"
     ]
    }
   ],
   "source": [
    "l.append(1000) # 하나만 추가\n",
    "print(l)"
   ]
  },
  {
   "cell_type": "code",
   "execution_count": 72,
   "id": "9a4e0e49-e08c-43c2-a55d-fa3fcdd028b3",
   "metadata": {},
   "outputs": [
    {
     "name": "stdout",
     "output_type": "stream",
     "text": [
      "[10, 20, 30, 1000, 1, 3, 4, 2]\n"
     ]
    }
   ],
   "source": [
    "l.extend([1,3,4,2]) # 여러개 추가\n",
    "print(l)"
   ]
  },
  {
   "cell_type": "code",
   "execution_count": 73,
   "id": "b9b76fff-0dfd-41ea-879b-f45ec987eb98",
   "metadata": {},
   "outputs": [
    {
     "name": "stdout",
     "output_type": "stream",
     "text": [
      "[1, 2, 3, 4, 10, 20, 30, 1000]\n"
     ]
    }
   ],
   "source": [
    "l.sort()\n",
    "print(l)"
   ]
  },
  {
   "cell_type": "code",
   "execution_count": 74,
   "id": "df6b7cfc-2cd1-4e5c-a07f-bdd878fb98e3",
   "metadata": {},
   "outputs": [
    {
     "name": "stdout",
     "output_type": "stream",
     "text": [
      "[1000, 30, 20, 10, 4, 3, 2, 1]\n"
     ]
    }
   ],
   "source": [
    "l.sort(reverse=True)\n",
    "print(l)"
   ]
  },
  {
   "cell_type": "code",
   "execution_count": 75,
   "id": "9a6cccee-204f-43ff-9ca5-001c2a79be8f",
   "metadata": {},
   "outputs": [
    {
     "name": "stdout",
     "output_type": "stream",
     "text": [
      "[1000, 30, 100, 20, 10, 4, 3, 2, 1, 1]\n",
      "2\n",
      "30\n",
      "[1000, 100, 20, 10, 4, 3, 2, 1, 1]\n"
     ]
    }
   ],
   "source": [
    "l.insert(2, 100)\n",
    "l.insert(100,1)\n",
    "print(l)\n",
    "print(l.count(1))\n",
    "print(l.pop(1))\n",
    "print(l)"
   ]
  },
  {
   "cell_type": "code",
   "execution_count": 76,
   "id": "5002d6b2-3f9b-4581-b72f-44f1312c0b19",
   "metadata": {},
   "outputs": [
    {
     "name": "stdout",
     "output_type": "stream",
     "text": [
      "[1, 1, 2, 3, 4, 10, 20, 100, 1000]\n",
      "[1000, 100, 20, 10, 4, 3, 2, 1, 1]\n"
     ]
    }
   ],
   "source": [
    "print(sorted(l))\n",
    "print(l)"
   ]
  },
  {
   "cell_type": "code",
   "execution_count": 79,
   "id": "f43b190f-3992-485d-b79c-f357cc27f286",
   "metadata": {},
   "outputs": [
    {
     "name": "stdout",
     "output_type": "stream",
     "text": [
      "[1, 1, 2, 3, 4, 10, 20, 100, 1000]\n"
     ]
    }
   ],
   "source": [
    "l.sort()\n",
    "print(l)"
   ]
  },
  {
   "cell_type": "code",
   "execution_count": 78,
   "id": "fce152d7-ebcf-4680-b0d7-453c4964cc01",
   "metadata": {},
   "outputs": [],
   "source": [
    "# 정렬 - sorted() 함수, sort() list의 메소드\n",
    "# sorted() 함수 - 모든 자료구조를 받아서 정렬 한 결과를 list로 반환. *원본을 정렬하지않는다.)\n",
    "# sort() 함수 - list용. List 자체를 정렬."
   ]
  },
  {
   "cell_type": "code",
   "execution_count": null,
   "id": "0e4878cc-4f9d-4c97-92a5-5cb607ff7451",
   "metadata": {},
   "outputs": [],
   "source": []
  },
  {
   "cell_type": "code",
   "execution_count": 20,
   "id": "5133bddc-444f-4c48-931a-654cb59c5250",
   "metadata": {},
   "outputs": [
    {
     "data": {
      "text/plain": [
       "'--------------------------------------------------------------------------------'"
      ]
     },
     "execution_count": 20,
     "metadata": {},
     "output_type": "execute_result"
    }
   ],
   "source": [
    "\"-\" * 80"
   ]
  },
  {
   "cell_type": "code",
   "execution_count": 3,
   "id": "3f874305-3487-4da5-a5f2-f334e07df921",
   "metadata": {},
   "outputs": [
    {
     "data": {
      "text/plain": [
       "['a', 'b', 'c', 'd', 'e', 'f', 'g', 'o', 'p']"
      ]
     },
     "execution_count": 3,
     "metadata": {},
     "output_type": "execute_result"
    }
   ],
   "source": [
    "list(\"abcdefgop\")"
   ]
  },
  {
   "cell_type": "code",
   "execution_count": 4,
   "id": "aa63bc26-882e-46a7-b779-6d1c55be58c8",
   "metadata": {},
   "outputs": [
    {
     "data": {
      "text/plain": [
       "('가', '나', '다', '라', '마', '바', '사', '아', '자', '차', '카', '타', '파', '하')"
      ]
     },
     "execution_count": 4,
     "metadata": {},
     "output_type": "execute_result"
    }
   ],
   "source": [
    "tuple(\"가나다라마바사아자차카타파하\")"
   ]
  },
  {
   "cell_type": "code",
   "execution_count": 5,
   "id": "c678d051-407b-46f5-80fc-8b4911ed9691",
   "metadata": {},
   "outputs": [
    {
     "data": {
      "text/plain": [
       "{'.', '녕', '세', '안', '요', '하'}"
      ]
     },
     "execution_count": 5,
     "metadata": {},
     "output_type": "execute_result"
    }
   ],
   "source": [
    "set(\"안녕하세요.\")"
   ]
  },
  {
   "cell_type": "code",
   "execution_count": 6,
   "id": "8562a66b-316b-45b3-97dc-3569ec7c1ded",
   "metadata": {},
   "outputs": [
    {
     "data": {
      "text/plain": [
       "{'1', '2', '3', '4', '5', '6', '7', '8', '9'}"
      ]
     },
     "execution_count": 6,
     "metadata": {},
     "output_type": "execute_result"
    }
   ],
   "source": [
    "set(\"123456789\")"
   ]
  },
  {
   "cell_type": "code",
   "execution_count": 10,
   "id": "47dc43d4-9f4a-4564-9869-4b2e54f0554d",
   "metadata": {},
   "outputs": [
    {
     "data": {
      "text/plain": [
       "{'2', '3', '4', '5', '6', '7', '8', '9'}"
      ]
     },
     "execution_count": 10,
     "metadata": {},
     "output_type": "execute_result"
    }
   ],
   "source": [
    "set(\"98765432\")"
   ]
  },
  {
   "cell_type": "code",
   "execution_count": 11,
   "id": "181a7a47-79a3-4671-bdf9-539687388eb9",
   "metadata": {},
   "outputs": [
    {
     "data": {
      "text/plain": [
       "'--------------------------------------------------------------------------------'"
      ]
     },
     "execution_count": 11,
     "metadata": {},
     "output_type": "execute_result"
    }
   ],
   "source": [
    "\"-\" * 80"
   ]
  },
  {
   "cell_type": "code",
   "execution_count": 12,
   "id": "762ea961-9c81-42b0-a21e-db0e8a895134",
   "metadata": {},
   "outputs": [],
   "source": [
    "# 순서도"
   ]
  },
  {
   "cell_type": "code",
   "execution_count": null,
   "id": "99809133-fb6e-4426-8b81-4b0070b3edbd",
   "metadata": {},
   "outputs": [],
   "source": []
  }
 ],
 "metadata": {
  "kernelspec": {
   "display_name": "Python 3 (ipykernel)",
   "language": "python",
   "name": "python3"
  },
  "language_info": {
   "codemirror_mode": {
    "name": "ipython",
    "version": 3
   },
   "file_extension": ".py",
   "mimetype": "text/x-python",
   "name": "python",
   "nbconvert_exporter": "python",
   "pygments_lexer": "ipython3",
   "version": "3.12.9"
  }
 },
 "nbformat": 4,
 "nbformat_minor": 5
}
