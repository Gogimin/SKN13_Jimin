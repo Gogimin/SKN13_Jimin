{
 "cells": [
  {
   "cell_type": "code",
   "execution_count": 1,
   "id": "3e98d983-829c-414a-b679-9e468c7217d5",
   "metadata": {
    "slideshow": {
     "slide_type": "fragment"
    }
   },
   "outputs": [],
   "source": [
    "if 0 == 0 :\n",
    "    pass\n",
    "else:\n",
    "    pass"
   ]
  },
  {
   "cell_type": "code",
   "execution_count": 2,
   "id": "14607c75-c19f-4e35-87de-c987ac65ff9b",
   "metadata": {
    "slideshow": {
     "slide_type": "fragment"
    }
   },
   "outputs": [
    {
     "name": "stdin",
     "output_type": "stream",
     "text": [
      "0이 아닌 정수를 입력하세요. 1\n"
     ]
    },
    {
     "name": "stdout",
     "output_type": "stream",
     "text": [
      "숫자는 1 입니다.\n"
     ]
    }
   ],
   "source": [
    "num = int(input(\"0이 아닌 정수를 입력하세요.\"))\n",
    "\n",
    "if num != 0:\n",
    "    print(f\"숫자는 {num} 입니다.\")\n",
    "else:\n",
    "    print(f\"0이 아닌 다른 정수를 입력하세요.\")"
   ]
  },
  {
   "cell_type": "code",
   "execution_count": 3,
   "id": "ce38952d-48b9-4fa6-b905-3f78e4a37185",
   "metadata": {
    "jp-MarkdownHeadingCollapsed": true,
    "slideshow": {
     "slide_type": "fragment"
    }
   },
   "outputs": [
    {
     "name": "stdin",
     "output_type": "stream",
     "text": [
      "0이 아닌 정수를 입력하세요. 2\n"
     ]
    },
    {
     "name": "stdout",
     "output_type": "stream",
     "text": [
      "숫자는 2 입니다.\n"
     ]
    }
   ],
   "source": [
    "num = int(input(\"0이 아닌 정수를 입력하세요.\"))\n",
    "\n",
    "if num == 0:\n",
    "    print(f\"0이 아닌 다른 정수를 입력하세요.\")\n",
    "else:\n",
    "    print(f\"숫자는 {num} 입니다.\")"
   ]
  },
  {
   "cell_type": "code",
   "execution_count": 4,
   "id": "f232a966-11ca-4a97-9d41-bf5be267c583",
   "metadata": {},
   "outputs": [
    {
     "name": "stdin",
     "output_type": "stream",
     "text": [
      ">>> : 정수를 입력하세요 3\n"
     ]
    },
    {
     "name": "stdout",
     "output_type": "stream",
     "text": [
      "3 입니다.\n",
      "종료\n"
     ]
    }
   ],
   "source": [
    "num1 = int(input(\">>> : 정수를 입력하세요\"))\n",
    "\n",
    "if num1 == 0:\n",
    "    pass\n",
    "    print(\"0 입니다.\")\n",
    "    print(\"zero\")\n",
    "    num1 +=1\n",
    "    if num1 == 1:\n",
    "        print(\"한글로는 영입니다.\")\n",
    "        print(\"이제는 1이지롱\")\n",
    "        print(num1)\n",
    "    else:\n",
    "        print(\"뿡\")\n",
    "else:\n",
    "    pass\n",
    "    print(f\"{num1} 입니다.\")\n",
    "    print(\"종료\")"
   ]
  },
  {
   "cell_type": "code",
   "execution_count": 5,
   "id": "85a5bab3-dd80-429c-b1e8-af35da38d231",
   "metadata": {},
   "outputs": [],
   "source": [
    "x = 10\n",
    "\n",
    "if x > 0:\n",
    "    pass  # 나중에 양수일 때의 로직을 추가할 예정\n",
    "else:\n",
    "    print(\"x는 0 이하입니다.\")"
   ]
  },
  {
   "cell_type": "code",
   "execution_count": 6,
   "id": "91bc0d0f-d2f5-4040-850e-95c40dcbdd15",
   "metadata": {},
   "outputs": [
    {
     "name": "stdin",
     "output_type": "stream",
     "text": [
      "정수를 입력하세요 : 4\n"
     ]
    },
    {
     "name": "stdout",
     "output_type": "stream",
     "text": [
      "4 입니다.\n"
     ]
    }
   ],
   "source": [
    "num = int(input(\"정수를 입력하세요 :\"))\n",
    "\n",
    "if num == 0:\n",
    "    print(\"0입니다.\")\n",
    "elif num > 0:\n",
    "    print(f\"{num} 입니다.\")\n",
    "else:\n",
    "    print(f\"{num}은 음수입니다.\")"
   ]
  },
  {
   "cell_type": "code",
   "execution_count": 7,
   "id": "71e7c100-7794-49b1-b962-0dd85206f422",
   "metadata": {},
   "outputs": [
    {
     "name": "stdout",
     "output_type": "stream",
     "text": [
      "0이 아닙니다\n",
      "True\n"
     ]
    }
   ],
   "source": [
    "num = 1\n",
    "# num = 0\n",
    "if num:\n",
    "    print(\"0이 아닙니다\")\n",
    "else:\n",
    "    print(\"0입니다.\")\n",
    "print(bool(num))"
   ]
  },
  {
   "cell_type": "code",
   "execution_count": 8,
   "id": "c7939330-dfd6-475d-8c8c-5eb29b30b1fa",
   "metadata": {
    "slideshow": {
     "slide_type": "slide"
    }
   },
   "outputs": [
    {
     "name": "stdout",
     "output_type": "stream",
     "text": [
      "3이 아닙니다\n"
     ]
    }
   ],
   "source": [
    "# num = 3\n",
    "# num = 2\n",
    "if num == 3:print(num)\n",
    "else:print(\"3이 아닙니다\")"
   ]
  },
  {
   "cell_type": "code",
   "execution_count": null,
   "id": "2c9d617a-7400-41e0-9186-b8578f605aad",
   "metadata": {},
   "outputs": [],
   "source": []
  },
  {
   "cell_type": "code",
   "execution_count": 9,
   "id": "908eb68a-b2f8-4ded-b574-83216babcac7",
   "metadata": {
    "slideshow": {
     "slide_type": "fragment"
    }
   },
   "outputs": [
    {
     "name": "stdout",
     "output_type": "stream",
     "text": [
      "10\n"
     ]
    }
   ],
   "source": [
    "n = 0\n",
    "while True:\n",
    "    if n == 10:\n",
    "        break\n",
    "    else:\n",
    "        n += 1\n",
    "\n",
    "print(n)"
   ]
  },
  {
   "cell_type": "code",
   "execution_count": 10,
   "id": "e93fd137-5159-49f0-96a1-2073a5f217ec",
   "metadata": {},
   "outputs": [
    {
     "name": "stdout",
     "output_type": "stream",
     "text": [
      "1. 안녕하세요.\n",
      "2. 안녕하세요.\n",
      "3. 안녕하세요.\n",
      "4. 안녕하세요.\n",
      "5. 안녕하세요.\n",
      "6. 안녕하세요.\n",
      "7. 안녕하세요.\n",
      "8. 안녕하세요.\n",
      "9. 안녕하세요.\n",
      "10. 안녕하세요.\n",
      "종료\n"
     ]
    }
   ],
   "source": [
    "count = 0\n",
    "limit = 10\n",
    "\n",
    "while count<limit:\n",
    "    count +=1\n",
    "    print(f\"{count}. 안녕하세요.\")\n",
    "print(\"종료\")"
   ]
  },
  {
   "cell_type": "code",
   "execution_count": 12,
   "id": "f5743df7-0ef7-4558-ae77-7fe2697de94c",
   "metadata": {},
   "outputs": [
    {
     "name": "stdout",
     "output_type": "stream",
     "text": [
      "예시1 1\n",
      "예시2 2\n",
      "예시3 3\n",
      "예시4 4\n"
     ]
    }
   ],
   "source": [
    "d = {\"예시1\":1,\"예시2\":2,\"예시3\":3,\"예시4\":4}\n",
    "\n",
    "d.items()\n",
    "\n",
    "for key, value in d.items(): # 원소가 자료구조일 때 원소 개수만큼 변수를 선언할 수 있다.\n",
    "    print(key,value)"
   ]
  },
  {
   "cell_type": "code",
   "execution_count": 13,
   "id": "f760845b-4a8e-4634-9634-730b6ff9e35f",
   "metadata": {},
   "outputs": [
    {
     "name": "stdout",
     "output_type": "stream",
     "text": [
      "dict_keys(['a', 'b', 'c']) dict_values([10, 20, 30])\n",
      "dict_keys(['a', 'b', 'c']) dict_values([10, 20, 30])\n",
      "dict_keys(['a', 'b', 'c']) dict_values([10, 20, 30])\n"
     ]
    }
   ],
   "source": [
    "d = dict([(\"a\",10), (\"b\",20),(\"c\",30)])\n",
    "\n",
    "d.items()\n",
    "\n",
    "for key, value in d.items():\n",
    "    k = d.keys()\n",
    "    v = d.values()\n",
    "    print(k,v)"
   ]
  },
  {
   "cell_type": "code",
   "execution_count": 14,
   "id": "7f70e90b-7331-4814-88f2-b1a1779369a3",
   "metadata": {},
   "outputs": [
    {
     "data": {
      "text/plain": [
       "dict_keys(['a', 'b', 'c'])"
      ]
     },
     "execution_count": 14,
     "metadata": {},
     "output_type": "execute_result"
    }
   ],
   "source": [
    "d.keys()"
   ]
  },
  {
   "cell_type": "code",
   "execution_count": null,
   "id": "bdb481ff-f34b-488c-95ed-c476f84bbfc7",
   "metadata": {},
   "outputs": [],
   "source": []
  },
  {
   "cell_type": "code",
   "execution_count": 11,
   "id": "aab5fe5b-783f-4164-b2a5-fb1a66bb226d",
   "metadata": {
    "slideshow": {
     "slide_type": "fragment"
    }
   },
   "outputs": [
    {
     "name": "stdout",
     "output_type": "stream",
     "text": [
      "10\n",
      "100\n",
      "1000\n",
      "10000\n",
      "100000\n",
      "10\n",
      "100\n",
      "1000\n",
      "10000\n",
      "100000\n"
     ]
    }
   ],
   "source": [
    "l = [10, 100, 1000, 10000, 100000]\n",
    "# l 의 모든 원소들을 출력\n",
    "\n",
    "for i in range(len(l)):\n",
    "    print(l[i])\n",
    "\n",
    "for v in l:\n",
    "    print(v)"
   ]
  },
  {
   "cell_type": "code",
   "execution_count": 12,
   "id": "da0140f1-0f8e-4cb0-8d45-4f325a7fe4cb",
   "metadata": {
    "scrolled": true
   },
   "outputs": [
    {
     "name": "stdout",
     "output_type": "stream",
     "text": [
      "20\n",
      "200\n",
      "2000\n",
      "20000\n",
      "200000\n",
      "[20, 200, 2000, 20000, 200000]\n"
     ]
    }
   ],
   "source": [
    "ㅣ = [10, 100, 20, 30, 500]\n",
    "# l의 모든 값들을 두배로 늘리기. (iterable : l , 일괄처리 : 두배)\n",
    "result = []\n",
    "\n",
    "for v in l:\n",
    "    print(v * 2)\n",
    "    result.append(v * 2)\n",
    "\n",
    "print(result)"
   ]
  },
  {
   "cell_type": "code",
   "execution_count": 13,
   "id": "6ffb6d21-10b8-4d91-8434-cd4a616d3b34",
   "metadata": {
    "scrolled": true
   },
   "outputs": [
    {
     "name": "stdout",
     "output_type": "stream",
     "text": [
      "1\n",
      "2\n",
      "3\n",
      "4\n",
      "5\n"
     ]
    }
   ],
   "source": [
    "t = 1,2,3,4,5\n",
    "\n",
    "for v in t:\n",
    "    print(v)"
   ]
  },
  {
   "cell_type": "code",
   "execution_count": 14,
   "id": "3fbc7381-87c9-4884-bbc4-1a270be70ccb",
   "metadata": {},
   "outputs": [
    {
     "name": "stdout",
     "output_type": "stream",
     "text": [
      "a 10\n",
      "b 20\n",
      "c 30\n",
      "{'a': 10, 'b': 20, 'c': 30}\n"
     ]
    }
   ],
   "source": [
    "# dict \n",
    "d = dict([(\"a\",10), (\"b\",20),(\"c\",30)])\n",
    "\n",
    "for key in d:\n",
    "    print(key,d[key])\n",
    "\n",
    "print(d)"
   ]
  },
  {
   "cell_type": "code",
   "execution_count": 15,
   "id": "34f289d8-5558-4960-90f1-5cb156076bee",
   "metadata": {
    "scrolled": true
   },
   "outputs": [
    {
     "name": "stdout",
     "output_type": "stream",
     "text": [
      "a 10\n",
      "b 20\n",
      "c 30\n"
     ]
    }
   ],
   "source": [
    "d.items()\n",
    "\n",
    "for key, value in d.items(): # 원소가 자료구조일 때 원소 개수만큼 변수를 선언할 수 있다.\n",
    "    print(key,value)"
   ]
  },
  {
   "cell_type": "code",
   "execution_count": 16,
   "id": "0f4e925d-d59d-49b7-8e8b-bf2dceda6c84",
   "metadata": {},
   "outputs": [
    {
     "name": "stdout",
     "output_type": "stream",
     "text": [
      "가 나 다 a b c d e 1 2 3 4 "
     ]
    }
   ],
   "source": [
    "# 문자열\n",
    "for char in \"가나다abcde1234\":\n",
    "    print(char, end = \" \")"
   ]
  },
  {
   "cell_type": "code",
   "execution_count": 20,
   "id": "62240b51-0609-49d3-8b8b-ca7d7f598e88",
   "metadata": {
    "scrolled": true,
    "slideshow": {
     "slide_type": "fragment"
    }
   },
   "outputs": [
    {
     "name": "stdout",
     "output_type": "stream",
     "text": [
      "0 / 2 / 4 / 6 / 8 / 10 / 12 / 14 / 16 / 18 / 20 / 22 / 24 / 26 / 28 / 30 / 32 / 34 / 36 / 38 / 40 / 42 / 44 / 46 / 48 / 50 / 52 / 54 / 56 / 58 / 60 / 62 / 64 / 66 / 68 / 70 / 72 / 74 / 76 / 78 / 80 / 82 / 84 / 86 / 88 / 90 / 92 / 94 / 96 / 98 / 100 / 종료\n",
      "\n",
      "\n",
      "1 / 2 / 3 / 4 / 5 / 6 / 종료\n",
      "\n",
      "\n",
      "0 / 2 / 4 / 6 / 8 / 10 / 12 / 14 / 16 / 18 / 20 / 22 / 24 / 26 / 28 / 30 / 32 / 34 / 36 / 38 / 40 / 42 / 44 / 46 / 48 / 50 / 52 / 54 / 56 / 58 / 60 / 62 / 64 / 66 / 68 / 70 / 72 / 74 / 76 / 78 / 80 / 82 / 84 / 86 / 88 / 90 / 92 / 94 / 96 / 98 / 100 / 종료\n",
      "\n",
      "\n"
     ]
    }
   ],
   "source": [
    "num = []\n",
    "for i in range(101):\n",
    "    num.append(i)\n",
    "\n",
    "# print(num)\n",
    "\n",
    "for v in num:\n",
    "    if v % 2 == 0:\n",
    "        print(v , end = \" / \")\n",
    "print(\"종료\")\n",
    "\n",
    "print(\"\\n\")\n",
    "\n",
    "l = [1,2,3,4,5,6,7,8,9,10]\n",
    "for v in l:\n",
    "    if v == 7:\n",
    "        break\n",
    "        # continue\n",
    "    print(v, end = \" / \")\n",
    "print(\"종료\")\n",
    "print(\"\\n\")\n",
    "\n",
    "for i in range(101):\n",
    "    if num[i] % 2 == 1:\n",
    "        continue\n",
    "    else:\n",
    "        print(num[i] , end = \" / \")\n",
    "print(\"종료\")\n",
    "print(\"\\n\")"
   ]
  },
  {
   "cell_type": "code",
   "execution_count": 97,
   "id": "d92192f4-3c72-4b6c-86f3-6a40e606ba98",
   "metadata": {},
   "outputs": [
    {
     "name": "stdout",
     "output_type": "stream",
     "text": [
      "[48, 82, 1, 24, 72, 51] \n",
      " \n",
      " [-73, -14, -34, -49, -26, -27, -22, -37]\n"
     ]
    }
   ],
   "source": [
    "import random\n",
    "# print(random.randint(10,21?)) # 시작(10) ~ 끝(20) 범위 안에 있는 임의의 정수 (난수 - random값) 을 반환\n",
    "# - 100 ~ 100 범위에 정수 난수를 생성\n",
    "# 생성된 정수 중 양수는 'pos_result' 리스트에 음수는 'neg_result' 리스트에 저장\n",
    "# 0이되면 성성 종료\n",
    "pos_result = []\n",
    "neg_result = []\n",
    "    \n",
    "\n",
    "while True:\n",
    "    a = random.randint(-100,101)\n",
    "\n",
    "    if a > 0:\n",
    "        pos_result.append(a)        \n",
    "    elif a < 0:\n",
    "        neg_result.append(a)\n",
    "    else:\n",
    "        break\n",
    "print(pos_result,\"\\n\",\"\\n\",neg_result)"
   ]
  },
  {
   "cell_type": "code",
   "execution_count": 121,
   "id": "9a104168-925c-47c4-b993-2278d63d22a5",
   "metadata": {
    "scrolled": true
   },
   "outputs": [
    {
     "name": "stdout",
     "output_type": "stream",
     "text": [
      "[14, 41, 48, 87, 60, 87, 11, 7, 52, 83, 32, 71, 30, 47, 54, 13, 81, 23, 18, 54, 98, 25, 17, 100, 78, 13, 97, 27, 99, 100, 16, 14, 47, 14, 43, 98, 68, 7, 18, 71, 26, 34, 15, 54, 33, 63, 16, 31, 96, 45, 84, 67, 99, 76, 22, 30, 35, 2, 39, 99, 22, 87, 81, 17, 14, 10, 12, 92, 80, 5, 36, 58, 15, 34, 33, 98, 63, 99, 64, 93, 80, 75, 18, 13, 93, 8, 28, 7, 97, 83, 33, 1, 13, 30, 25, 82, 20, 27, 32, 12, 82, 60, 75, 91, 65, 97, 52, 98, 55] \n",
      " \n",
      " [-62, -21, -87, -90, -70, -10, -90, -41, -38, -18, -13, -11, -82, -90, -40, -28, -54, -60, -35, -73, -56, -1, -11, -32, -7, -92, -85, -22, -61, -84, -71, -16, -39, -46, -30, -100, -14, -7, -1, -51, -27, -57, -18, -18, -11, -96, -83, -60, -42, -42, -40, -100, -30, -42, -17, -38, -68, -39, -57, -51, -14, -27, -39, -82, -57, -29, -55, -9, -44, -76, -30, -21, -1, -44, -47, -96, -63, -59, -51, -7, -19, -74, -47, -61, -21, -39, -34, -50, -59, -46, -90, -12, -52, -17, -18, -34, -74, -40, -80, -82, -52, -69, -26, -73, -48]\n"
     ]
    }
   ],
   "source": [
    "import random\n",
    "\n",
    "pos_result = []\n",
    "neg_result = []\n",
    "num = random.randint(-100,100)\n",
    "\n",
    "while num != 0:\n",
    "    if num > 0:\n",
    "        pos_result.append(num)\n",
    "    else:\n",
    "        neg_result.append(num)\n",
    "    num = random.randint(-100,100)\n",
    "\n",
    "print(pos_result,\"\\n\",\"\\n\",neg_result)"
   ]
  },
  {
   "cell_type": "code",
   "execution_count": 200,
   "id": "abdd08a1-1437-4460-a9a6-567a71dfb2ee",
   "metadata": {
    "scrolled": true
   },
   "outputs": [
    {
     "name": "stdout",
     "output_type": "stream",
     "text": [
      "[20, 19, 42, 48, 70, 20, 4, 44, 5, 26, 14, 99, 35, 23, 36, 21, 61, 39, 11, 77, 61, 52, 57, 28, 5, 10, 89, 93, 80, 90, 91, 17, 86, 47, 10, 57, 53, 82, 2, 71, 66, 41, 84, 101, 7, 16, 39, 65, 55, 94, 64, 57, 37, 17, 47, 15, 72, 52, 67, 52, 97, 21, 45, 79, 2, 34, 100, 62, 21, 63, 14, 62, 54, 10, 50, 38, 62, 5, 59, 97, 11, 53, 82, 69, 99, 12, 90, 81, 26, 97, 18, 58, 94, 78, 56, 36, 27, 60, 6, 16, 57, 3, 56, 26, 74, 37, 67, 71, 93, 31, 52, 39, 66, 32, 65, 70, 90, 10, 36, 73, 45, 70, 43, 7, 70, 74, 29, 99, 101, 49, 80, 95, 95, 67, 50, 9, 72, 4, 5, 67, 27, 94, 20, 13, 76, 95, 24, 53, 28, 49, 29, 5, 20, 86, 66, 15, 3, 9, 41, 19, 2, 91, 77, 72, 36, 80, 68, 80, 62, 48, 90] \n",
      " \n",
      " [-48, -17, -33, -19, -42, -38, -9, -87, -49, -20, -48, -19, -96, -70, -60, -42, -73, -78, -9, -90, -91, -8, -3, -68, -64, -44, -84, -88, -67, -26, -91, -83, -95, -70, -12, -95, -12, -93, -55, -35, -76, -18, -34, -54, -24, -67, -24, -2, -8, -45, -70, -77, -3, -16, -100, -73, -21, -68, -51, -78, -69, -68, -71, -57, -68, -20, -28, -12, -81, -13, -11, -90, -68, -64, -57, -100, -36, -20, -18, -18, -5, -80, -94, -4, -78, -73, -36, -88, -28, -36, -54, -29, -80, -33, -23, -37, -93, -87, -98, -26, -11, -27, -59, -95, -54, -64, -37, -39, -33, -98, -24, -64, -74, -28, -63, -48, -54, -61, -44, -24, -70, -13, -11, -63, -72, -29, -90, -58, -69, -79, -69, -13, -28, -59, -15, -23, -6, -67, -74, -60, -66, -86, -74, -11, -98, -15, -94, -79, -86, -72, -13, -16, -46, -30, -64, -81, -50, -79, -43, -24, -11, -36, -10, -77, -83, -43, -40, -68, -83, -27, -29, -86, -98, -90, -23, -9, -46, -71, -29, -69, -34, -53, -62, -40, -63, -56, -34, -20, -98]\n"
     ]
    }
   ],
   "source": [
    "import random\n",
    "\n",
    "pos_result = []\n",
    "neg_result = []\n",
    "\n",
    "# := (왈러스 연산자 - 대입연산자 중에 하나) - if/while 조건절. 값을 변수에 대입하고 반환. \n",
    "# 1. 값을 변수에 대입. 2. 대입한 값을 다시 반환.\n",
    "\n",
    "while num:= random.randint(-100,101):\n",
    "    if num > 0:\n",
    "        pos_result.append(num)\n",
    "    else:\n",
    "        neg_result.append(num)\n",
    "print(pos_result,\"\\n\",\"\\n\",neg_result)"
   ]
  },
  {
   "cell_type": "code",
   "execution_count": 211,
   "id": "a85c082e-97b6-44d8-880e-e867790dacef",
   "metadata": {
    "scrolled": true
   },
   "outputs": [
    {
     "name": "stdout",
     "output_type": "stream",
     "text": [
      "[1, 2, 9, 22, 30, 31, 37, 37, 47, 47, 55, 63, 67, 78, 79, 95] \n",
      " \n",
      " [-93, -85, -76, -76, -74, -74, -69, -55, -51, -47, -41, -38, -29, -14, -13, -7, -4]\n"
     ]
    }
   ],
   "source": [
    "import random\n",
    "\n",
    "pos_result = []\n",
    "neg_result = []\n",
    "\n",
    "# := (왈러스 연산자 - 대입연산자 중에 하나) - if/while 조건절. 값을 변수에 대입하고 반환. \n",
    "# 1. 값을 변수에 대입. 2. 대입한 값을 다시 반환.\n",
    "\n",
    "while ( num:= random.randint(-100,101) )!= 0 :\n",
    "    if num > 0:\n",
    "        pos_result.append(num)\n",
    "    else:\n",
    "        neg_result.append(num)\n",
    "print(sorted(pos_result),\"\\n\",\"\\n\",sorted(neg_result))"
   ]
  }
 ],
 "metadata": {
  "kernelspec": {
   "display_name": "Python 3 (ipykernel)",
   "language": "python",
   "name": "python3"
  },
  "language_info": {
   "codemirror_mode": {
    "name": "ipython",
    "version": 3
   },
   "file_extension": ".py",
   "mimetype": "text/x-python",
   "name": "python",
   "nbconvert_exporter": "python",
   "pygments_lexer": "ipython3",
   "version": "3.12.9"
  }
 },
 "nbformat": 4,
 "nbformat_minor": 5
}
