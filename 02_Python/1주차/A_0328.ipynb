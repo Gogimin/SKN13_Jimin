{
 "cells": [
  {
   "cell_type": "code",
   "execution_count": 1,
   "id": "ec464346-7aa2-4b8c-ba3d-1d86d71b6ccc",
   "metadata": {
    "scrolled": true
   },
   "outputs": [
    {
     "name": "stdout",
     "output_type": "stream",
     "text": [
      "1 0\n",
      "2 1\n",
      "3 2\n",
      "4 3\n",
      "5 4\n",
      "6 5\n",
      "7 6\n",
      "8 7\n",
      "9 8\n",
      "10 9\n",
      "11 10\n",
      "12 11\n",
      "13 12\n",
      "14 13\n",
      "15 14\n",
      "16 15\n",
      "17 16\n",
      "18 17\n",
      "19 18\n",
      "20 19\n",
      "21 20\n",
      "22 21\n",
      "23 22\n",
      "24 23\n",
      "25 24\n",
      "26 25\n",
      "27 26\n",
      "28 27\n",
      "29 28\n",
      "30 29\n",
      "31 30\n",
      "32 31\n",
      "33 32\n",
      "34 33\n",
      "35 34\n",
      "36 35\n",
      "37 36\n",
      "38 37\n",
      "39 38\n",
      "40 39\n",
      "41 40\n",
      "42 41\n",
      "43 42\n",
      "44 43\n",
      "45 44\n",
      "46 45\n",
      "47 46\n",
      "48 47\n",
      "49 48\n",
      "50 49\n",
      "51 50\n",
      "52 51\n",
      "53 52\n",
      "54 53\n",
      "55 54\n",
      "56 55\n",
      "57 56\n",
      "58 57\n",
      "59 58\n",
      "60 59\n",
      "61 60\n",
      "62 61\n",
      "63 62\n",
      "64 63\n",
      "65 64\n",
      "66 65\n",
      "67 66\n",
      "68 67\n",
      "69 68\n",
      "70 69\n",
      "71 70\n",
      "72 71\n",
      "73 72\n",
      "74 73\n",
      "75 74\n",
      "76 75\n",
      "77 76\n",
      "78 77\n",
      "79 78\n",
      "80 79\n",
      "81 80\n",
      "82 81\n",
      "83 82\n",
      "84 83\n",
      "85 84\n",
      "86 85\n",
      "87 86\n",
      "88 87\n",
      "89 88\n",
      "90 89\n",
      "91 90\n",
      "92 91\n",
      "93 92\n",
      "94 93\n",
      "95 94\n",
      "96 95\n",
      "97 96\n",
      "98 97\n",
      "99 98\n",
      "100 99\n"
     ]
    }
   ],
   "source": [
    "for idx, value in enumerate(range(100),start = 1):\n",
    "    print(idx,value)"
   ]
  },
  {
   "cell_type": "code",
   "execution_count": 2,
   "id": "13d2f90e-f0fc-45b9-9855-67f38c543560",
   "metadata": {},
   "outputs": [],
   "source": [
    "l = list(range(10))"
   ]
  },
  {
   "cell_type": "code",
   "execution_count": 3,
   "id": "2c1205ad-0d96-4541-9456-fea51cae9d2c",
   "metadata": {},
   "outputs": [
    {
     "data": {
      "text/plain": [
       "[0, 1, 2, 3, 4, 5, 6, 7, 8, 9]"
      ]
     },
     "execution_count": 3,
     "metadata": {},
     "output_type": "execute_result"
    }
   ],
   "source": [
    "l"
   ]
  },
  {
   "cell_type": "code",
   "execution_count": 4,
   "id": "1bba92e9-d2e5-482e-b570-fb7e96adbf74",
   "metadata": {},
   "outputs": [
    {
     "data": {
      "text/plain": [
       "[0, 2, 4, 6, 8]"
      ]
     },
     "execution_count": 4,
     "metadata": {},
     "output_type": "execute_result"
    }
   ],
   "source": [
    "[v for v in l if v % 2 == 0]"
   ]
  },
  {
   "cell_type": "code",
   "execution_count": 5,
   "id": "a7de2dba-fd14-4dd7-a5ff-6aed61d2c772",
   "metadata": {},
   "outputs": [
    {
     "data": {
      "text/plain": [
       "[(0, 0, 0, 100),\n",
       " (2, 4, 20, 102),\n",
       " (4, 8, 40, 104),\n",
       " (6, 12, 60, 106),\n",
       " (8, 16, 80, 108)]"
      ]
     },
     "execution_count": 5,
     "metadata": {},
     "output_type": "execute_result"
    }
   ],
   "source": [
    "[(v,2*v,10*v,v+100) for v in l if v % 2 == 0]"
   ]
  },
  {
   "cell_type": "code",
   "execution_count": 6,
   "id": "4fd98b00-f95d-45d5-9b06-c8ea0cd7a8b2",
   "metadata": {},
   "outputs": [
    {
     "name": "stdout",
     "output_type": "stream",
     "text": [
      "----------------------------------------------------------------------\n"
     ]
    }
   ],
   "source": [
    "print(\"-\" * 70)"
   ]
  },
  {
   "cell_type": "code",
   "execution_count": 7,
   "id": "b4c9d4b3-d172-4f49-989b-07c446d0cf31",
   "metadata": {},
   "outputs": [],
   "source": [
    "# 06 파이선파일"
   ]
  },
  {
   "cell_type": "code",
   "execution_count": 8,
   "id": "939eeb59-847a-4ba6-af63-0531d98eafad",
   "metadata": {},
   "outputs": [],
   "source": [
    "# 절차지향 프로그래밍 : 한번에 짜고 한번에 실행 / 유지보수 힘듦"
   ]
  },
  {
   "cell_type": "code",
   "execution_count": 9,
   "id": "f53a5fd5-0f01-47de-a321-ead957352fde",
   "metadata": {},
   "outputs": [],
   "source": [
    "# 객체지향 프로그래밍 : 데이터를 객체(object)로 취급하며, 이러한 객체가 바로 프로그래밍의 구현의 중심인 프로그래밍 개발 방식."
   ]
  },
  {
   "cell_type": "code",
   "execution_count": null,
   "id": "525dd370-913a-4188-968d-b21a17195a78",
   "metadata": {},
   "outputs": [],
   "source": []
  },
  {
   "cell_type": "code",
   "execution_count": null,
   "id": "ef99ee7e-9221-48b0-958d-ad55640e8546",
   "metadata": {},
   "outputs": [],
   "source": []
  }
 ],
 "metadata": {
  "kernelspec": {
   "display_name": "Python 3 (ipykernel)",
   "language": "python",
   "name": "python3"
  },
  "language_info": {
   "codemirror_mode": {
    "name": "ipython",
    "version": 3
   },
   "file_extension": ".py",
   "mimetype": "text/x-python",
   "name": "python",
   "nbconvert_exporter": "python",
   "pygments_lexer": "ipython3",
   "version": "3.12.9"
  }
 },
 "nbformat": 4,
 "nbformat_minor": 5
}
