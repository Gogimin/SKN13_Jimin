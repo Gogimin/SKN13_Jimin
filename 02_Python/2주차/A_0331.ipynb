{
 "cells": [
  {
   "cell_type": "code",
   "execution_count": 1,
   "id": "51c21936-771e-4775-838c-42cac661dd41",
   "metadata": {},
   "outputs": [],
   "source": [
    "def accumulate(start = None , end = None):\n",
    "    result = 0 # 누적합계를 저장할 변수\n",
    "    for v in range(start,end + 1):\n",
    "        result += v  \n",
    "    return result"
   ]
  },
  {
   "cell_type": "code",
   "execution_count": 2,
   "id": "ddf5a01e-fe16-49f7-a2c2-55d403b824d2",
   "metadata": {},
   "outputs": [
    {
     "data": {
      "text/plain": [
       "5050"
      ]
     },
     "execution_count": 2,
     "metadata": {},
     "output_type": "execute_result"
    }
   ],
   "source": [
    "accumulate(1,100)"
   ]
  },
  {
   "cell_type": "code",
   "execution_count": 3,
   "id": "0f41cef5-0df8-47aa-b77f-cf25693ef1c1",
   "metadata": {},
   "outputs": [],
   "source": [
    "# 5 TODO 끝 ~"
   ]
  },
  {
   "cell_type": "code",
   "execution_count": 22,
   "id": "635258de-870c-44c3-b41d-024759049131",
   "metadata": {},
   "outputs": [],
   "source": [
    "lst = [\"aaa\",\"가나다라마바사아자차카타파하\",\"b\",\"bacsasdasgdiad\",\"느린심장박동\",\"123452\"]"
   ]
  },
  {
   "cell_type": "code",
   "execution_count": 17,
   "id": "273b6120-43e2-4e15-9a1d-be59e7ba7603",
   "metadata": {},
   "outputs": [
    {
     "data": {
      "text/plain": [
       "['aaa', '가나다라마바사아자차카타파하', 'b', 'bacsasdasgdiad', '느린심장박동', '123452']"
      ]
     },
     "execution_count": 17,
     "metadata": {},
     "output_type": "execute_result"
    }
   ],
   "source": [
    "lst"
   ]
  },
  {
   "cell_type": "code",
   "execution_count": 23,
   "id": "b1bd1f42-b2f6-46d5-8669-e0db8d804bb7",
   "metadata": {},
   "outputs": [
    {
     "data": {
      "text/plain": [
       "['123452', 'aaa', 'b', 'bacsasdasgdiad', '가나다라마바사아자차카타파하', '느린심장박동']"
      ]
     },
     "execution_count": 23,
     "metadata": {},
     "output_type": "execute_result"
    }
   ],
   "source": [
    "# lst.sort()\n",
    "sorted(lst)"
   ]
  },
  {
   "cell_type": "code",
   "execution_count": 24,
   "id": "d174a161-f65f-4e26-be9e-72333c6c23a1",
   "metadata": {},
   "outputs": [
    {
     "data": {
      "text/plain": [
       "['aaa', '가나다라마바사아자차카타파하', 'b', 'bacsasdasgdiad', '느린심장박동', '123452']"
      ]
     },
     "execution_count": 24,
     "metadata": {},
     "output_type": "execute_result"
    }
   ],
   "source": [
    "lst"
   ]
  },
  {
   "cell_type": "code",
   "execution_count": 21,
   "id": "71510a67-e641-4b95-962c-8e5cea3ee877",
   "metadata": {},
   "outputs": [],
   "source": [
    "# 문자열 정렬 순서 (오름차순) - 유니코드 기준\n",
    "# 특수문자 < 숫자 < 알파벳 대문자 < 알파벳 소문자 < 한글"
   ]
  },
  {
   "cell_type": "code",
   "execution_count": 26,
   "id": "f1c20019-f28f-4085-b81c-2f97d820a4b0",
   "metadata": {},
   "outputs": [],
   "source": [
    "def check(word):\n",
    "    return len(word)"
   ]
  },
  {
   "cell_type": "code",
   "execution_count": 34,
   "id": "78c2db12-cb2d-4c5c-94d1-76e04b55eacf",
   "metadata": {},
   "outputs": [
    {
     "data": {
      "text/plain": [
       "[1, 3, 6, 6, 14, 14]"
      ]
     },
     "execution_count": 34,
     "metadata": {},
     "output_type": "execute_result"
    }
   ],
   "source": [
    "sorted([check(v) for v in lst])"
   ]
  },
  {
   "cell_type": "code",
   "execution_count": 35,
   "id": "6171b416-f332-406c-a64c-935503c47b12",
   "metadata": {},
   "outputs": [
    {
     "data": {
      "text/plain": [
       "['b', 'aaa', '느린심장박동', '123452', '가나다라마바사아자차카타파하', 'bacsasdasgdiad']"
      ]
     },
     "execution_count": 35,
     "metadata": {},
     "output_type": "execute_result"
    }
   ],
   "source": [
    "sorted(lst, key = check)"
   ]
  },
  {
   "cell_type": "code",
   "execution_count": 36,
   "id": "c4721e16-99a3-4bc5-bc04-daff8764b00d",
   "metadata": {
    "scrolled": true
   },
   "outputs": [
    {
     "data": {
      "text/plain": [
       "['123452', 'aaa', 'b', 'bacsasdasgdiad', '가나다라마바사아자차카타파하', '느린심장박동']"
      ]
     },
     "execution_count": 36,
     "metadata": {},
     "output_type": "execute_result"
    }
   ],
   "source": [
    "sorted(lst)"
   ]
  },
  {
   "cell_type": "code",
   "execution_count": 37,
   "id": "9414c971-d04e-4dad-952c-bc1d94f5c952",
   "metadata": {},
   "outputs": [],
   "source": [
    "lst.sort(key = lambda word:len(word))"
   ]
  },
  {
   "cell_type": "code",
   "execution_count": 38,
   "id": "412b6b84-6077-49ad-91b2-9ae4e006dbc7",
   "metadata": {},
   "outputs": [
    {
     "data": {
      "text/plain": [
       "['b', 'aaa', '느린심장박동', '123452', '가나다라마바사아자차카타파하', 'bacsasdasgdiad']"
      ]
     },
     "execution_count": 38,
     "metadata": {},
     "output_type": "execute_result"
    }
   ],
   "source": [
    "lst"
   ]
  },
  {
   "cell_type": "code",
   "execution_count": 39,
   "id": "034c41c2-d58f-4954-9689-eeb560e09431",
   "metadata": {},
   "outputs": [
    {
     "name": "stdout",
     "output_type": "stream",
     "text": [
      "----------------------------------------------------------------------\n"
     ]
    }
   ],
   "source": [
    "print(\"-\" * 70)"
   ]
  },
  {
   "cell_type": "code",
   "execution_count": 40,
   "id": "de387a41-08bd-485b-b751-025cb54d6d1d",
   "metadata": {},
   "outputs": [
    {
     "data": {
      "text/plain": [
       "str"
      ]
     },
     "execution_count": 40,
     "metadata": {},
     "output_type": "execute_result"
    }
   ],
   "source": [
    "type(\"인녕\")"
   ]
  },
  {
   "cell_type": "code",
   "execution_count": 41,
   "id": "141e57a9-a608-4b92-b132-abca0aebe6ff",
   "metadata": {},
   "outputs": [
    {
     "name": "stdout",
     "output_type": "stream",
     "text": [
      "<class 'str'>\n"
     ]
    }
   ],
   "source": [
    "print(type(\"인녕\"))"
   ]
  },
  {
   "cell_type": "code",
   "execution_count": null,
   "id": "24bcc8bb-9af8-4c91-86e9-09140658ed20",
   "metadata": {},
   "outputs": [],
   "source": []
  },
  {
   "cell_type": "code",
   "execution_count": 42,
   "id": "e17f9600-ec4d-40f1-b337-b4879a40c01b",
   "metadata": {},
   "outputs": [],
   "source": [
    "# 객체지향프로그래밍에서 중요한 개념 3가지\n",
    "# 캡슐화 , 상속 , 다형성 이 있음\n",
    "# 우리가 볼거는 상속만 볼거임"
   ]
  },
  {
   "cell_type": "code",
   "execution_count": null,
   "id": "ae6f7263-32ed-4faf-972a-510a568163a0",
   "metadata": {},
   "outputs": [],
   "source": []
  },
  {
   "cell_type": "code",
   "execution_count": null,
   "id": "38e44dbc-fdf8-4252-ad7a-5b5c722077cf",
   "metadata": {},
   "outputs": [],
   "source": [
    "class Student:\n",
    "   \n",
    "    def __init__(self, name, age, grade):\n",
    "        self.name = name\n",
    "        self.age = age\n",
    "        self.grade = grade\n",
    "\n",
    "    def get_info(self):\n",
    "        return f\"이름 : {self.name}, 나이 : {self.age}, 성적 : {self.grade}\"\n",
    "\n",
    "s = Student(\"김학생\", 16, 10)\n",
    "print(s.name, s.age, s.grade)\n",
    "\n",
    "s.get_info()# 올바른 호출 방법"
   ]
  },
  {
   "cell_type": "code",
   "execution_count": null,
   "id": "cf9d1f2b-e91e-4442-b366-b5b7b3315ce3",
   "metadata": {},
   "outputs": [],
   "source": []
  },
  {
   "cell_type": "code",
   "execution_count": 43,
   "id": "0298f43e-b69d-4b7a-8cbd-046093bc8ab4",
   "metadata": {},
   "outputs": [],
   "source": [
    "# 오늘 한 코드 내용 오류 이슈 ㅠㅠ git pull받기"
   ]
  },
  {
   "cell_type": "code",
   "execution_count": null,
   "id": "d8f892c4-86f6-494d-bb3b-21d519bf8964",
   "metadata": {},
   "outputs": [],
   "source": []
  }
 ],
 "metadata": {
  "kernelspec": {
   "display_name": "Python 3 (ipykernel)",
   "language": "python",
   "name": "python3"
  },
  "language_info": {
   "codemirror_mode": {
    "name": "ipython",
    "version": 3
   },
   "file_extension": ".py",
   "mimetype": "text/x-python",
   "name": "python",
   "nbconvert_exporter": "python",
   "pygments_lexer": "ipython3",
   "version": "3.12.9"
  }
 },
 "nbformat": 4,
 "nbformat_minor": 5
}
