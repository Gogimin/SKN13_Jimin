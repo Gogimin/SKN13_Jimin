{
 "cells": [
  {
   "cell_type": "code",
   "execution_count": 1,
   "id": "815ba97a-9f08-4fb7-a42d-ab83748ae2be",
   "metadata": {},
   "outputs": [],
   "source": [
    "# %%writefile mypackage/weight_helper.py\n",
    "# 위와 같이 %%writefile 파일경로 -> cell의 작성한 내용을 경로의 파일에 작성(저장.) -> 반드시 cell의 첫줄에 넣어야함.\n",
    "\n",
    "def check_bmi(tall, weight):\n",
    "    return weight/tall**2"
   ]
  },
  {
   "cell_type": "code",
   "execution_count": 2,
   "id": "1e9613d7-ddbc-4d0c-8273-a542e6dad6ec",
   "metadata": {},
   "outputs": [],
   "source": [
    "# %load mypackage/weight_helper.py # jupyter lab의 매직커맨드\n",
    "\n",
    "def check_bmi(tall, weight):\n",
    "    return weight/tall**2"
   ]
  },
  {
   "cell_type": "code",
   "execution_count": null,
   "id": "ac445d27-3536-4045-b07d-fc66f5f59c8c",
   "metadata": {},
   "outputs": [],
   "source": []
  },
  {
   "cell_type": "code",
   "execution_count": null,
   "id": "119f2940-6c18-4592-bb74-eb6e0b19b25f",
   "metadata": {},
   "outputs": [],
   "source": []
  },
  {
   "cell_type": "code",
   "execution_count": 9,
   "id": "82dc0ef5-1285-40aa-8045-689b09c33126",
   "metadata": {
    "slideshow": {
     "slide_type": "fragment"
    }
   },
   "outputs": [],
   "source": [
    "import mypackage.calculator\n",
    "# = import mypackage.calculator as mypackage.calculator 라고 한거임"
   ]
  },
  {
   "cell_type": "code",
   "execution_count": 10,
   "id": "dce2caf9-1929-41f8-b538-1dff20d36ea7",
   "metadata": {},
   "outputs": [
    {
     "data": {
      "text/plain": [
       "30"
      ]
     },
     "execution_count": 10,
     "metadata": {},
     "output_type": "execute_result"
    }
   ],
   "source": [
    "# 그래서 이렇게 써야됨.\n",
    "mypackage.calculator.plus(20,10)"
   ]
  },
  {
   "cell_type": "code",
   "execution_count": 15,
   "id": "568c9358-fe79-4c3b-93be-024c20e531e4",
   "metadata": {},
   "outputs": [
    {
     "data": {
      "text/plain": [
       "2.0"
      ]
     },
     "execution_count": 15,
     "metadata": {},
     "output_type": "execute_result"
    }
   ],
   "source": [
    "mypackage.calculator.divide(10,5)"
   ]
  },
  {
   "cell_type": "code",
   "execution_count": 16,
   "id": "a9e8fb07-da9d-4a17-bbc7-7d2be7ddfcb3",
   "metadata": {},
   "outputs": [],
   "source": [
    "import mypackage.calculator as calc"
   ]
  },
  {
   "cell_type": "code",
   "execution_count": 18,
   "id": "4b0b63e7-b48e-4d3e-977a-0cd66ad7aa85",
   "metadata": {},
   "outputs": [
    {
     "data": {
      "text/plain": [
       "30"
      ]
     },
     "execution_count": 18,
     "metadata": {},
     "output_type": "execute_result"
    }
   ],
   "source": [
    "mypackage.calculator.plus(20,10)"
   ]
  },
  {
   "cell_type": "code",
   "execution_count": 19,
   "id": "da27b1a7-d71b-4caa-822e-c893185e586c",
   "metadata": {
    "scrolled": true
   },
   "outputs": [
    {
     "data": {
      "text/plain": [
       "30"
      ]
     },
     "execution_count": 19,
     "metadata": {},
     "output_type": "execute_result"
    }
   ],
   "source": [
    "calc.plus(20,10)"
   ]
  },
  {
   "cell_type": "code",
   "execution_count": 21,
   "id": "ea41c27d-7083-4141-b8fc-bed7bde8a0b2",
   "metadata": {},
   "outputs": [],
   "source": [
    "from mypackage import calculator"
   ]
  },
  {
   "cell_type": "code",
   "execution_count": 24,
   "id": "7b3ebcb4-5805-48b2-b235-72c77a644775",
   "metadata": {},
   "outputs": [
    {
     "data": {
      "text/plain": [
       "10"
      ]
     },
     "execution_count": 24,
     "metadata": {},
     "output_type": "execute_result"
    }
   ],
   "source": [
    "calculator.multiply(2,5)"
   ]
  },
  {
   "cell_type": "code",
   "execution_count": 25,
   "id": "cfe01f12-cc4c-4035-b7e9-a291ca523528",
   "metadata": {},
   "outputs": [],
   "source": [
    "import mypackage.weight_helper, mypackage.calculator"
   ]
  },
  {
   "cell_type": "code",
   "execution_count": 26,
   "id": "0fce6aae-adf4-43f0-b15f-be836774a3fb",
   "metadata": {},
   "outputs": [
    {
     "data": {
      "text/plain": [
       "20.761245674740486"
      ]
     },
     "execution_count": 26,
     "metadata": {},
     "output_type": "execute_result"
    }
   ],
   "source": [
    "mypackage.weight_helper.check_bmi(1.7, 60)"
   ]
  },
  {
   "cell_type": "code",
   "execution_count": 27,
   "id": "b9ae9f67-390e-40a1-8443-a6a8aafbe8fe",
   "metadata": {},
   "outputs": [
    {
     "data": {
      "text/plain": [
       "30"
      ]
     },
     "execution_count": 27,
     "metadata": {},
     "output_type": "execute_result"
    }
   ],
   "source": [
    "mypackage.calculator.plus(20,10)"
   ]
  },
  {
   "cell_type": "code",
   "execution_count": 30,
   "id": "04fdccba-f7aa-46b7-bc2b-1d57dcc693f1",
   "metadata": {},
   "outputs": [],
   "source": [
    "from mypackage import weight_helper as w, calculator as c"
   ]
  },
  {
   "cell_type": "code",
   "execution_count": 33,
   "id": "9b37259c-1308-4519-80b4-930f25f9789d",
   "metadata": {},
   "outputs": [
    {
     "data": {
      "text/plain": [
       "20.761245674740486"
      ]
     },
     "execution_count": 33,
     "metadata": {},
     "output_type": "execute_result"
    }
   ],
   "source": [
    "w.check_bmi(1.7, 60)"
   ]
  },
  {
   "cell_type": "code",
   "execution_count": 34,
   "id": "0455abcd-e423-44a0-aeb6-c1c05db3d02a",
   "metadata": {},
   "outputs": [
    {
     "data": {
      "text/plain": [
       "30"
      ]
     },
     "execution_count": 34,
     "metadata": {},
     "output_type": "execute_result"
    }
   ],
   "source": [
    "c.plus(20,10)"
   ]
  },
  {
   "cell_type": "code",
   "execution_count": null,
   "id": "1d99d123-268e-4498-9e19-342511103cc3",
   "metadata": {},
   "outputs": [],
   "source": []
  },
  {
   "cell_type": "code",
   "execution_count": 5,
   "id": "6f9cc4b4-ae54-4f01-882b-3ebb92e8587b",
   "metadata": {},
   "outputs": [
    {
     "name": "stdout",
     "output_type": "stream",
     "text": [
      "------------------------------------------------------------------------------\n"
     ]
    }
   ],
   "source": [
    "print(\"-\"*78)"
   ]
  },
  {
   "cell_type": "code",
   "execution_count": 6,
   "id": "1af78dfe-49f4-462e-b2f2-79a66ab90e89",
   "metadata": {},
   "outputs": [],
   "source": [
    "# 점심이후 여기서부터 "
   ]
  },
  {
   "cell_type": "code",
   "execution_count": null,
   "id": "a2220214-09bb-45fd-ac75-657515ff8257",
   "metadata": {},
   "outputs": [],
   "source": []
  }
 ],
 "metadata": {
  "kernelspec": {
   "display_name": "Python 3 (ipykernel)",
   "language": "python",
   "name": "python3"
  },
  "language_info": {
   "codemirror_mode": {
    "name": "ipython",
    "version": 3
   },
   "file_extension": ".py",
   "mimetype": "text/x-python",
   "name": "python",
   "nbconvert_exporter": "python",
   "pygments_lexer": "ipython3",
   "version": "3.12.9"
  }
 },
 "nbformat": 4,
 "nbformat_minor": 5
}
